{
 "cells": [
  {
   "cell_type": "code",
   "execution_count": 1,
   "metadata": {},
   "outputs": [],
   "source": [
    "import pandas as pd\n",
    "import numpy as np\n",
    "import matplotlib.pyplot as plt\n",
    "%matplotlib inline\n",
    "\n",
    "# Для работы с матрицами\n",
    "from scipy.sparse import csr_matrix, coo_matrix\n",
    "\n",
    "# Детерминированные алгоритмы\n",
    "from implicit.nearest_neighbours import ItemItemRecommender, CosineRecommender, TFIDFRecommender, BM25Recommender\n",
    "\n",
    "# Метрики\n",
    "from implicit.evaluation import train_test_split\n",
    "from implicit.evaluation import precision_at_k, mean_average_precision_at_k, AUC_at_k, ndcg_at_k"
   ]
  },
  {
   "cell_type": "code",
   "execution_count": 3,
   "metadata": {},
   "outputs": [
    {
     "data": {
      "text/plain": "   user_id    basket_id  day  item_id  quantity  sales_value  store_id  \\\n0     2375  26984851472    1  1004906         1         1.39       364   \n1     2375  26984851472    1  1033142         1         0.82       364   \n\n   retail_disc  trans_time  week_no  coupon_disc  coupon_match_disc  \n0         -0.6        1631        1          0.0                0.0  \n1          0.0        1631        1          0.0                0.0  ",
      "text/html": "<div>\n<style scoped>\n    .dataframe tbody tr th:only-of-type {\n        vertical-align: middle;\n    }\n\n    .dataframe tbody tr th {\n        vertical-align: top;\n    }\n\n    .dataframe thead th {\n        text-align: right;\n    }\n</style>\n<table border=\"1\" class=\"dataframe\">\n  <thead>\n    <tr style=\"text-align: right;\">\n      <th></th>\n      <th>user_id</th>\n      <th>basket_id</th>\n      <th>day</th>\n      <th>item_id</th>\n      <th>quantity</th>\n      <th>sales_value</th>\n      <th>store_id</th>\n      <th>retail_disc</th>\n      <th>trans_time</th>\n      <th>week_no</th>\n      <th>coupon_disc</th>\n      <th>coupon_match_disc</th>\n    </tr>\n  </thead>\n  <tbody>\n    <tr>\n      <th>0</th>\n      <td>2375</td>\n      <td>26984851472</td>\n      <td>1</td>\n      <td>1004906</td>\n      <td>1</td>\n      <td>1.39</td>\n      <td>364</td>\n      <td>-0.6</td>\n      <td>1631</td>\n      <td>1</td>\n      <td>0.0</td>\n      <td>0.0</td>\n    </tr>\n    <tr>\n      <th>1</th>\n      <td>2375</td>\n      <td>26984851472</td>\n      <td>1</td>\n      <td>1033142</td>\n      <td>1</td>\n      <td>0.82</td>\n      <td>364</td>\n      <td>0.0</td>\n      <td>1631</td>\n      <td>1</td>\n      <td>0.0</td>\n      <td>0.0</td>\n    </tr>\n  </tbody>\n</table>\n</div>"
     },
     "execution_count": 3,
     "metadata": {},
     "output_type": "execute_result"
    }
   ],
   "source": [
    "data = pd.read_csv('../Recommender/webinar_2/retail_train.csv')\n",
    "data.head(2)"
   ]
  },
  {
   "cell_type": "code",
   "execution_count": 4,
   "metadata": {},
   "outputs": [],
   "source": [
    "test_size_weeks = 3\n",
    "\n",
    "data_train = data[data['week_no'] < data['week_no'].max() - test_size_weeks]\n",
    "data_test = data[data['week_no'] >= data['week_no'].max() - test_size_weeks]"
   ]
  },
  {
   "cell_type": "markdown",
   "metadata": {},
   "source": [
    "### Задание 1. Weighted Random Recommendation\n",
    "\n",
    "Напишите код для случайных рекоммендаций, в которых вероятность рекомендовать товар прямо пропорциональна логарифму продаж\n",
    "- Можно сэмплировать товары случайно, но пропорционально какому-либо весу\n",
    "- Например, прямопропорционально популярности. Вес = log(sales_sum товара)"
   ]
  },
  {
   "cell_type": "code",
   "execution_count": 23,
   "metadata": {},
   "outputs": [],
   "source": [
    "def weighted_random_recommendation(data, n=5):\n",
    "    \"\"\"Случайные рекоммендации\n",
    "    \n",
    "    Input\n",
    "    -----\n",
    "    items_weights: pd.DataFrame\n",
    "        Датафрейм со столбцами item_id, weight. Сумма weight по всем товарам = 1\n",
    "    \"\"\"\n",
    "    items_weights = data.groupby('item_id')['sales_value'].sum().reset_index()\n",
    "    items_weights.sort_values('sales_value', ascending=False, inplace=True)\n",
    "\n",
    "    items_weights['weight'] = items_weights.sales_value / items_weights.sales_value.sum()\n",
    "    items_weights.drop(columns='sales_value', inplace=True)\n",
    "\n",
    "    items = items_weights.item_id.values\n",
    "    probs = items_weights.weight.values\n",
    "    \n",
    "    recs = np.random.choice(items, size=n, p=probs, replace=False)\n",
    "    \n",
    "    return recs.tolist()"
   ]
  },
  {
   "cell_type": "code",
   "execution_count": 7,
   "metadata": {},
   "outputs": [
    {
     "name": "stdout",
     "output_type": "stream",
     "text": [
      "CPU times: user 4.84 s, sys: 276 ms, total: 5.12 s\n",
      "Wall time: 9.25 s\n"
     ]
    },
    {
     "data": {
      "text/plain": "   user_id                                             actual  \\\n0        1  [821867, 834484, 856942, 865456, 889248, 90795...   \n1        3  [835476, 851057, 872021, 878302, 879948, 90963...   \n\n                    weighted_random_recommendation  \n0  [999779, 1003188, 12487888, 14106445, 10142833]  \n1     [6533889, 6534178, 858373, 1132770, 1021164]  ",
      "text/html": "<div>\n<style scoped>\n    .dataframe tbody tr th:only-of-type {\n        vertical-align: middle;\n    }\n\n    .dataframe tbody tr th {\n        vertical-align: top;\n    }\n\n    .dataframe thead th {\n        text-align: right;\n    }\n</style>\n<table border=\"1\" class=\"dataframe\">\n  <thead>\n    <tr style=\"text-align: right;\">\n      <th></th>\n      <th>user_id</th>\n      <th>actual</th>\n      <th>weighted_random_recommendation</th>\n    </tr>\n  </thead>\n  <tbody>\n    <tr>\n      <th>0</th>\n      <td>1</td>\n      <td>[821867, 834484, 856942, 865456, 889248, 90795...</td>\n      <td>[999779, 1003188, 12487888, 14106445, 10142833]</td>\n    </tr>\n    <tr>\n      <th>1</th>\n      <td>3</td>\n      <td>[835476, 851057, 872021, 878302, 879948, 90963...</td>\n      <td>[6533889, 6534178, 858373, 1132770, 1021164]</td>\n    </tr>\n  </tbody>\n</table>\n</div>"
     },
     "execution_count": 7,
     "metadata": {},
     "output_type": "execute_result"
    }
   ],
   "source": [
    "%%time\n",
    "\n",
    "result2 = data_test.groupby('user_id')['item_id'].unique().reset_index()\n",
    "result2.columns=['user_id', 'actual']\n",
    "result2.head(2)\n",
    "\n",
    "items = data_train.item_id.unique()\n",
    "\n",
    "result2['weighted_random_recommendation'] = result2['user_id'].apply(lambda x: weighted_random_recommendation(data_train, n=5))\n",
    "result2.head(2)"
   ]
  },
  {
   "cell_type": "markdown",
   "metadata": {},
   "source": [
    "### Задание 2. Расчет метрик\n",
    "Рассчитайте Precision@5 для каждого алгоритма с помощью функции из вебинара 1. Какой алгоритм показывает лучшее качество?"
   ]
  },
  {
   "cell_type": "code",
   "execution_count": 9,
   "metadata": {},
   "outputs": [
    {
     "data": {
      "text/plain": "   user_id                                             actual  \\\n0        1  [821867, 834484, 856942, 865456, 889248, 90795...   \n1        3  [835476, 851057, 872021, 878302, 879948, 90963...   \n\n                           random_recommendation  \\\n0     [1265481, 5995177, 831470, 1726294, 38552]   \n1  [2266886, 15563625, 6978868, 5653979, 833545]   \n\n                          popular_recommendation  \\\n0  [6534178, 6533889, 1029743, 6534166, 1082185]   \n1  [6534178, 6533889, 1029743, 6534166, 1082185]   \n\n                     weighted_random_recommendation  \\\n0        [1012701, 949991, 1040145, 880228, 874972]   \n1  [5995830, 13512063, 12385320, 1077048, 10342382]   \n\n                                     itemitem  \\\n0  [981760, 1127831, 1098066, 826249, 878996]   \n1   [981760, 995242, 1029743, 840361, 961554]   \n\n                                        cosine  \\\n0   [981760, 1127831, 1098066, 878996, 826249]   \n1  [981760, 1004906, 961554, 1096036, 1080414]   \n\n                                        tfidf  \\\n0  [981760, 1127831, 1098066, 826249, 878996]   \n1  [981760, 1004906, 859075, 1096036, 961554]   \n\n                                  own_purchases  \n0   [999999, 1082185, 1029743, 995785, 1004906]  \n1  [999999, 1082185, 1098066, 6534178, 1127831]  ",
      "text/html": "<div>\n<style scoped>\n    .dataframe tbody tr th:only-of-type {\n        vertical-align: middle;\n    }\n\n    .dataframe tbody tr th {\n        vertical-align: top;\n    }\n\n    .dataframe thead th {\n        text-align: right;\n    }\n</style>\n<table border=\"1\" class=\"dataframe\">\n  <thead>\n    <tr style=\"text-align: right;\">\n      <th></th>\n      <th>user_id</th>\n      <th>actual</th>\n      <th>random_recommendation</th>\n      <th>popular_recommendation</th>\n      <th>weighted_random_recommendation</th>\n      <th>itemitem</th>\n      <th>cosine</th>\n      <th>tfidf</th>\n      <th>own_purchases</th>\n    </tr>\n  </thead>\n  <tbody>\n    <tr>\n      <th>0</th>\n      <td>1</td>\n      <td>[821867, 834484, 856942, 865456, 889248, 90795...</td>\n      <td>[1265481, 5995177, 831470, 1726294, 38552]</td>\n      <td>[6534178, 6533889, 1029743, 6534166, 1082185]</td>\n      <td>[1012701, 949991, 1040145, 880228, 874972]</td>\n      <td>[981760, 1127831, 1098066, 826249, 878996]</td>\n      <td>[981760, 1127831, 1098066, 878996, 826249]</td>\n      <td>[981760, 1127831, 1098066, 826249, 878996]</td>\n      <td>[999999, 1082185, 1029743, 995785, 1004906]</td>\n    </tr>\n    <tr>\n      <th>1</th>\n      <td>3</td>\n      <td>[835476, 851057, 872021, 878302, 879948, 90963...</td>\n      <td>[2266886, 15563625, 6978868, 5653979, 833545]</td>\n      <td>[6534178, 6533889, 1029743, 6534166, 1082185]</td>\n      <td>[5995830, 13512063, 12385320, 1077048, 10342382]</td>\n      <td>[981760, 995242, 1029743, 840361, 961554]</td>\n      <td>[981760, 1004906, 961554, 1096036, 1080414]</td>\n      <td>[981760, 1004906, 859075, 1096036, 961554]</td>\n      <td>[999999, 1082185, 1098066, 6534178, 1127831]</td>\n    </tr>\n  </tbody>\n</table>\n</div>"
     },
     "execution_count": 9,
     "metadata": {},
     "output_type": "execute_result"
    }
   ],
   "source": [
    "result = pd.read_csv('../Recommender/webinar_2/predictions_basic.csv', converters={'random_recommendation': eval,\n",
    "                                                                      'popular_recommendation': eval,\n",
    "                                                                      'itemitem': eval,\n",
    "                                                                      'cosine': eval,\n",
    "                                                                      'tfidf': eval,\n",
    "                                                                      'own_purchases': eval})\n",
    "\n",
    "result['weighted_random_recommendation'] = result['user_id'].apply(lambda x: weighted_random_recommendation(popular, n=5))\n",
    "result['actual'] = result2['actual']\n",
    "\n",
    "result.head(2)"
   ]
  },
  {
   "cell_type": "code",
   "execution_count": 10,
   "metadata": {},
   "outputs": [],
   "source": [
    "def precision_at_k_(recommended_list, bought_list, k=5):\n",
    "    \n",
    "    bought_list = np.array(bought_list)\n",
    "    recommended_list = np.array(recommended_list)\n",
    "    \n",
    "    bought_list = bought_list\n",
    "    recommended_list = recommended_list[:k]\n",
    "    \n",
    "    flags = np.isin(bought_list, recommended_list)\n",
    "    \n",
    "    precision = flags.sum() / len(recommended_list)\n",
    "    \n",
    "    \n",
    "    return precision"
   ]
  },
  {
   "cell_type": "code",
   "execution_count": 11,
   "metadata": {},
   "outputs": [
    {
     "data": {
      "text/plain": "Index(['random_recommendation', 'popular_recommendation',\n       'weighted_random_recommendation', 'itemitem', 'cosine', 'tfidf',\n       'own_purchases'],\n      dtype='object')"
     },
     "execution_count": 11,
     "metadata": {},
     "output_type": "execute_result"
    }
   ],
   "source": [
    "result.columns[2:]"
   ]
  },
  {
   "cell_type": "code",
   "execution_count": 12,
   "metadata": {},
   "outputs": [
    {
     "data": {
      "text/plain": "                           models  presision@5\n0           random_recommendation     0.000294\n1          popular_recommendation     0.155240\n2  weighted_random_recommendation     0.022429\n3                        itemitem     0.033595\n4                          cosine     0.035260\n5                           tfidf     0.036141\n6                   own_purchases     0.179693",
      "text/html": "<div>\n<style scoped>\n    .dataframe tbody tr th:only-of-type {\n        vertical-align: middle;\n    }\n\n    .dataframe tbody tr th {\n        vertical-align: top;\n    }\n\n    .dataframe thead th {\n        text-align: right;\n    }\n</style>\n<table border=\"1\" class=\"dataframe\">\n  <thead>\n    <tr style=\"text-align: right;\">\n      <th></th>\n      <th>models</th>\n      <th>presision@5</th>\n    </tr>\n  </thead>\n  <tbody>\n    <tr>\n      <th>0</th>\n      <td>random_recommendation</td>\n      <td>0.000294</td>\n    </tr>\n    <tr>\n      <th>1</th>\n      <td>popular_recommendation</td>\n      <td>0.155240</td>\n    </tr>\n    <tr>\n      <th>2</th>\n      <td>weighted_random_recommendation</td>\n      <td>0.022429</td>\n    </tr>\n    <tr>\n      <th>3</th>\n      <td>itemitem</td>\n      <td>0.033595</td>\n    </tr>\n    <tr>\n      <th>4</th>\n      <td>cosine</td>\n      <td>0.035260</td>\n    </tr>\n    <tr>\n      <th>5</th>\n      <td>tfidf</td>\n      <td>0.036141</td>\n    </tr>\n    <tr>\n      <th>6</th>\n      <td>own_purchases</td>\n      <td>0.179693</td>\n    </tr>\n  </tbody>\n</table>\n</div>"
     },
     "execution_count": 12,
     "metadata": {},
     "output_type": "execute_result"
    }
   ],
   "source": [
    "precisions = []\n",
    "models = []\n",
    "for column in result.columns[2:]:\n",
    "    precision = result.apply(lambda x: precision_at_k_(x[column], x['actual']), axis=1).mean()\n",
    "    precisions.append(precision)\n",
    "    models.append(column)\n",
    "\n",
    "metrics = pd.DataFrame(data={'models': models, 'presision@5': precisions}, columns=['models', 'presision@5'])\n",
    "metrics"
   ]
  },
  {
   "cell_type": "markdown",
   "metadata": {},
   "source": [
    "Самый лучший результат показал алгоритм, рекомендующий собственный покупки пользователя, на втором месте по метрике алгоритм на основе популярных рекомендаций"
   ]
  },
  {
   "cell_type": "markdown",
   "metadata": {},
   "source": [
    "### Задание 3. Улучшение бейзлайнов и ItemItem\n",
    "\n",
    "- Можно ли улучшить бейзлайны, если считать их на топ-5000 товарах?"
   ]
  },
  {
   "cell_type": "code",
   "execution_count": 16,
   "metadata": {},
   "outputs": [],
   "source": [
    "def random_recommendation(items, n=5):\n",
    "    \"\"\"Случайные рекоммендации\"\"\"\n",
    "\n",
    "    items = np.array(items)\n",
    "    recs = np.random.choice(items, size=n, replace=False)\n",
    "\n",
    "    return recs.tolist()\n",
    "\n",
    "def popularity_recommendation(data, n=5):\n",
    "    \"\"\"Топ-n популярных товаров\"\"\"\n",
    "\n",
    "    popular = data.groupby('item_id')['sales_value'].sum().reset_index()\n",
    "    popular.sort_values('sales_value', ascending=False, inplace=True)\n",
    "\n",
    "    recs = popular.head(n).item_id\n",
    "\n",
    "    return recs.tolist()"
   ]
  },
  {
   "cell_type": "code",
   "execution_count": 24,
   "metadata": {},
   "outputs": [
    {
     "data": {
      "text/plain": "   user_id                                             actual  \\\n0        1  [821867, 834484, 856942, 865456, 889248, 90795...   \n1        3  [835476, 851057, 872021, 878302, 879948, 90963...   \n2        6  [920308, 926804, 946489, 1006718, 1017061, 107...   \n3        7  [840386, 889774, 898068, 909714, 929067, 95347...   \n4        8  [835098, 872137, 910439, 924610, 992977, 10412...   \n\n                           random_recommendation  \\\n0     [1265481, 5995177, 831470, 1726294, 38552]   \n1  [2266886, 15563625, 6978868, 5653979, 833545]   \n2  [8068255, 8019650, 880921, 12132277, 5566139]   \n3  [7168388, 7102714, 8204289, 6904877, 1125491]   \n4  [9487360, 973124, 1066829, 13512863, 2620410]   \n\n                          popular_recommendation  \\\n0  [6534178, 6533889, 1029743, 6534166, 1082185]   \n1  [6534178, 6533889, 1029743, 6534166, 1082185]   \n2  [6534178, 6533889, 1029743, 6534166, 1082185]   \n3  [6534178, 6533889, 1029743, 6534166, 1082185]   \n4  [6534178, 6533889, 1029743, 6534166, 1082185]   \n\n                     weighted_random_recommendation  \\\n0        [1012701, 949991, 1040145, 880228, 874972]   \n1  [5995830, 13512063, 12385320, 1077048, 10342382]   \n2     [998373, 1118833, 10254131, 1004555, 1127831]   \n3       [828525, 841220, 1127624, 885863, 12517450]   \n4       [948650, 1010573, 989251, 887225, 13381928]   \n\n                                           itemitem  \\\n0        [981760, 1127831, 1098066, 826249, 878996]   \n1         [981760, 995242, 1029743, 840361, 961554]   \n2       [1098066, 826249, 1106523, 923746, 1058997]   \n3         [981760, 1098066, 840361, 883404, 916122]   \n4  [904360, 13115903, 13189726, 13190294, 15596515]   \n\n                                        cosine  \\\n0   [981760, 1127831, 1098066, 878996, 826249]   \n1  [981760, 1004906, 961554, 1096036, 1080414]   \n2   [1098066, 826249, 860776, 854852, 1068719]   \n3   [981760, 1098066, 883404, 1004906, 859075]   \n4  [904360, 5588666, 1096036, 979707, 1013321]   \n\n                                         tfidf  \\\n0   [981760, 1127831, 1098066, 826249, 878996]   \n1   [981760, 1004906, 859075, 1096036, 961554]   \n2   [1098066, 826249, 860776, 1068719, 916122]   \n3    [981760, 883404, 1098066, 859075, 916122]   \n4  [904360, 1096036, 5588666, 979707, 1013321]   \n\n                                  own_purchases  \\\n0   [999999, 1082185, 1029743, 995785, 1004906]   \n1  [999999, 1082185, 1098066, 6534178, 1127831]   \n2  [999999, 1082185, 1029743, 6534178, 1127831]   \n3   [999999, 1082185, 1029743, 1127831, 995785]   \n4  [999999, 1082185, 1029743, 1098066, 6534178]   \n\n                  top5000_random_recommendation  \\\n0  [1051323, 1054402, 1029688, 1089021, 905072]   \n1  [1041157, 1056746, 961979, 1021562, 1092026]   \n2     [976199, 923670, 940766, 982360, 1003487]   \n3    [978906, 1083328, 897125, 1003178, 865174]   \n4   [1029479, 917494, 1024032, 973042, 1011876]   \n\n               top5000_popularity_recommendation  \\\n0  [6534178, 6533889, 1029743, 6534166, 1082185]   \n1  [6534178, 6533889, 1029743, 6534166, 1082185]   \n2  [6534178, 6533889, 1029743, 6534166, 1082185]   \n3  [6534178, 6533889, 1029743, 6534166, 1082185]   \n4  [6534178, 6533889, 1029743, 6534166, 1082185]   \n\n          top5000_weighted_random_recommendation  \n0    [924352, 1103618, 6534178, 1082185, 957741]  \n1     [1097001, 878996, 910032, 1101010, 923208]  \n2  [9884698, 15831255, 954077, 6534178, 1090701]  \n3     [1129321, 879755, 918638, 1126899, 852856]  \n4   [1100273, 6602327, 6534178, 973916, 1017195]  ",
      "text/html": "<div>\n<style scoped>\n    .dataframe tbody tr th:only-of-type {\n        vertical-align: middle;\n    }\n\n    .dataframe tbody tr th {\n        vertical-align: top;\n    }\n\n    .dataframe thead th {\n        text-align: right;\n    }\n</style>\n<table border=\"1\" class=\"dataframe\">\n  <thead>\n    <tr style=\"text-align: right;\">\n      <th></th>\n      <th>user_id</th>\n      <th>actual</th>\n      <th>random_recommendation</th>\n      <th>popular_recommendation</th>\n      <th>weighted_random_recommendation</th>\n      <th>itemitem</th>\n      <th>cosine</th>\n      <th>tfidf</th>\n      <th>own_purchases</th>\n      <th>top5000_random_recommendation</th>\n      <th>top5000_popularity_recommendation</th>\n      <th>top5000_weighted_random_recommendation</th>\n    </tr>\n  </thead>\n  <tbody>\n    <tr>\n      <th>0</th>\n      <td>1</td>\n      <td>[821867, 834484, 856942, 865456, 889248, 90795...</td>\n      <td>[1265481, 5995177, 831470, 1726294, 38552]</td>\n      <td>[6534178, 6533889, 1029743, 6534166, 1082185]</td>\n      <td>[1012701, 949991, 1040145, 880228, 874972]</td>\n      <td>[981760, 1127831, 1098066, 826249, 878996]</td>\n      <td>[981760, 1127831, 1098066, 878996, 826249]</td>\n      <td>[981760, 1127831, 1098066, 826249, 878996]</td>\n      <td>[999999, 1082185, 1029743, 995785, 1004906]</td>\n      <td>[1051323, 1054402, 1029688, 1089021, 905072]</td>\n      <td>[6534178, 6533889, 1029743, 6534166, 1082185]</td>\n      <td>[924352, 1103618, 6534178, 1082185, 957741]</td>\n    </tr>\n    <tr>\n      <th>1</th>\n      <td>3</td>\n      <td>[835476, 851057, 872021, 878302, 879948, 90963...</td>\n      <td>[2266886, 15563625, 6978868, 5653979, 833545]</td>\n      <td>[6534178, 6533889, 1029743, 6534166, 1082185]</td>\n      <td>[5995830, 13512063, 12385320, 1077048, 10342382]</td>\n      <td>[981760, 995242, 1029743, 840361, 961554]</td>\n      <td>[981760, 1004906, 961554, 1096036, 1080414]</td>\n      <td>[981760, 1004906, 859075, 1096036, 961554]</td>\n      <td>[999999, 1082185, 1098066, 6534178, 1127831]</td>\n      <td>[1041157, 1056746, 961979, 1021562, 1092026]</td>\n      <td>[6534178, 6533889, 1029743, 6534166, 1082185]</td>\n      <td>[1097001, 878996, 910032, 1101010, 923208]</td>\n    </tr>\n    <tr>\n      <th>2</th>\n      <td>6</td>\n      <td>[920308, 926804, 946489, 1006718, 1017061, 107...</td>\n      <td>[8068255, 8019650, 880921, 12132277, 5566139]</td>\n      <td>[6534178, 6533889, 1029743, 6534166, 1082185]</td>\n      <td>[998373, 1118833, 10254131, 1004555, 1127831]</td>\n      <td>[1098066, 826249, 1106523, 923746, 1058997]</td>\n      <td>[1098066, 826249, 860776, 854852, 1068719]</td>\n      <td>[1098066, 826249, 860776, 1068719, 916122]</td>\n      <td>[999999, 1082185, 1029743, 6534178, 1127831]</td>\n      <td>[976199, 923670, 940766, 982360, 1003487]</td>\n      <td>[6534178, 6533889, 1029743, 6534166, 1082185]</td>\n      <td>[9884698, 15831255, 954077, 6534178, 1090701]</td>\n    </tr>\n    <tr>\n      <th>3</th>\n      <td>7</td>\n      <td>[840386, 889774, 898068, 909714, 929067, 95347...</td>\n      <td>[7168388, 7102714, 8204289, 6904877, 1125491]</td>\n      <td>[6534178, 6533889, 1029743, 6534166, 1082185]</td>\n      <td>[828525, 841220, 1127624, 885863, 12517450]</td>\n      <td>[981760, 1098066, 840361, 883404, 916122]</td>\n      <td>[981760, 1098066, 883404, 1004906, 859075]</td>\n      <td>[981760, 883404, 1098066, 859075, 916122]</td>\n      <td>[999999, 1082185, 1029743, 1127831, 995785]</td>\n      <td>[978906, 1083328, 897125, 1003178, 865174]</td>\n      <td>[6534178, 6533889, 1029743, 6534166, 1082185]</td>\n      <td>[1129321, 879755, 918638, 1126899, 852856]</td>\n    </tr>\n    <tr>\n      <th>4</th>\n      <td>8</td>\n      <td>[835098, 872137, 910439, 924610, 992977, 10412...</td>\n      <td>[9487360, 973124, 1066829, 13512863, 2620410]</td>\n      <td>[6534178, 6533889, 1029743, 6534166, 1082185]</td>\n      <td>[948650, 1010573, 989251, 887225, 13381928]</td>\n      <td>[904360, 13115903, 13189726, 13190294, 15596515]</td>\n      <td>[904360, 5588666, 1096036, 979707, 1013321]</td>\n      <td>[904360, 1096036, 5588666, 979707, 1013321]</td>\n      <td>[999999, 1082185, 1029743, 1098066, 6534178]</td>\n      <td>[1029479, 917494, 1024032, 973042, 1011876]</td>\n      <td>[6534178, 6533889, 1029743, 6534166, 1082185]</td>\n      <td>[1100273, 6602327, 6534178, 973916, 1017195]</td>\n    </tr>\n  </tbody>\n</table>\n</div>"
     },
     "execution_count": 24,
     "metadata": {},
     "output_type": "execute_result"
    }
   ],
   "source": [
    "popularity = data_train.groupby('item_id')['quantity'].sum().reset_index()\n",
    "popularity.rename(columns={'quantity': 'n_sold'}, inplace=True)\n",
    "top_5000_items = popularity.sort_values('n_sold', ascending=False).head(5000).item_id.tolist()\n",
    "\n",
    "result['top5000_random_recommendation'] = result['user_id'].apply(lambda x: random_recommendation(top_5000_items, n=5))\n",
    "\n",
    "result['top5000_popularity_recommendation'] = result['user_id'].apply(lambda x: popularity_recommendation(data_train.loc[data_train.item_id.isin(top_5000_items)], n=5))\n",
    "\n",
    "result['top5000_weighted_random_recommendation'] = result['user_id'].apply(lambda x: weighted_random_recommendation(data_train.loc[data_train.item_id.isin(top_5000_items)], n=5))\n",
    "\n",
    "result.head()"
   ]
  },
  {
   "cell_type": "code",
   "execution_count": 26,
   "outputs": [
    {
     "data": {
      "text/plain": "                                   models  presision@5\n0           top5000_random_recommendation     0.005485\n1       top5000_popularity_recommendation     0.155240\n2  top5000_weighted_random_recommendation     0.038100",
      "text/html": "<div>\n<style scoped>\n    .dataframe tbody tr th:only-of-type {\n        vertical-align: middle;\n    }\n\n    .dataframe tbody tr th {\n        vertical-align: top;\n    }\n\n    .dataframe thead th {\n        text-align: right;\n    }\n</style>\n<table border=\"1\" class=\"dataframe\">\n  <thead>\n    <tr style=\"text-align: right;\">\n      <th></th>\n      <th>models</th>\n      <th>presision@5</th>\n    </tr>\n  </thead>\n  <tbody>\n    <tr>\n      <th>0</th>\n      <td>top5000_random_recommendation</td>\n      <td>0.005485</td>\n    </tr>\n    <tr>\n      <th>1</th>\n      <td>top5000_popularity_recommendation</td>\n      <td>0.155240</td>\n    </tr>\n    <tr>\n      <th>2</th>\n      <td>top5000_weighted_random_recommendation</td>\n      <td>0.038100</td>\n    </tr>\n  </tbody>\n</table>\n</div>"
     },
     "execution_count": 26,
     "metadata": {},
     "output_type": "execute_result"
    }
   ],
   "source": [
    "columns = ['top5000_random_recommendation',\n",
    "           'top5000_popularity_recommendation',\n",
    "           'top5000_weighted_random_recommendation']\n",
    "precisions = []\n",
    "models = []\n",
    "for column in columns:\n",
    "    precision = result.apply(lambda x: precision_at_k_(x[column], x['actual']), axis=1).mean()\n",
    "    precisions.append(precision)\n",
    "    models.append(column)\n",
    "\n",
    "metrics_top5000 = pd.DataFrame(data={'models': models, 'presision@5': precisions}, columns=['models', 'presision@5'])\n",
    "metrics_top5000"
   ],
   "metadata": {
    "collapsed": false,
    "pycharm": {
     "name": "#%%\n"
    }
   }
  },
  {
   "cell_type": "code",
   "execution_count": 27,
   "outputs": [
    {
     "data": {
      "text/plain": "                           models  presision@5\n0           random_recommendation     0.000294\n1          popular_recommendation     0.155240\n2  weighted_random_recommendation     0.022429\n3                        itemitem     0.033595\n4                          cosine     0.035260\n5                           tfidf     0.036141\n6                   own_purchases     0.179693",
      "text/html": "<div>\n<style scoped>\n    .dataframe tbody tr th:only-of-type {\n        vertical-align: middle;\n    }\n\n    .dataframe tbody tr th {\n        vertical-align: top;\n    }\n\n    .dataframe thead th {\n        text-align: right;\n    }\n</style>\n<table border=\"1\" class=\"dataframe\">\n  <thead>\n    <tr style=\"text-align: right;\">\n      <th></th>\n      <th>models</th>\n      <th>presision@5</th>\n    </tr>\n  </thead>\n  <tbody>\n    <tr>\n      <th>0</th>\n      <td>random_recommendation</td>\n      <td>0.000294</td>\n    </tr>\n    <tr>\n      <th>1</th>\n      <td>popular_recommendation</td>\n      <td>0.155240</td>\n    </tr>\n    <tr>\n      <th>2</th>\n      <td>weighted_random_recommendation</td>\n      <td>0.022429</td>\n    </tr>\n    <tr>\n      <th>3</th>\n      <td>itemitem</td>\n      <td>0.033595</td>\n    </tr>\n    <tr>\n      <th>4</th>\n      <td>cosine</td>\n      <td>0.035260</td>\n    </tr>\n    <tr>\n      <th>5</th>\n      <td>tfidf</td>\n      <td>0.036141</td>\n    </tr>\n    <tr>\n      <th>6</th>\n      <td>own_purchases</td>\n      <td>0.179693</td>\n    </tr>\n  </tbody>\n</table>\n</div>"
     },
     "execution_count": 27,
     "metadata": {},
     "output_type": "execute_result"
    }
   ],
   "source": [
    "metrics"
   ],
   "metadata": {
    "collapsed": false,
    "pycharm": {
     "name": "#%%\n"
    }
   }
  },
  {
   "cell_type": "markdown",
   "source": [
    "Если обучать на топ-5000 товаров, можно улучшить бейзлайны, кроме популярных - там результат такой же, потому что мы также берем помулярные, то есть, те же самые товары"
   ],
   "metadata": {
    "collapsed": false,
    "pycharm": {
     "name": "#%% md\n"
    }
   }
  }
 ],
 "metadata": {
  "kernelspec": {
   "display_name": "Python 3",
   "language": "python",
   "name": "python3"
  },
  "language_info": {
   "codemirror_mode": {
    "name": "ipython",
    "version": 3
   },
   "file_extension": ".py",
   "mimetype": "text/x-python",
   "name": "python",
   "nbconvert_exporter": "python",
   "pygments_lexer": "ipython3",
   "version": "3.8.6"
  }
 },
 "nbformat": 4,
 "nbformat_minor": 4
}