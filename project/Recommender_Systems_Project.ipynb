{
 "cells": [
  {
   "cell_type": "markdown",
   "metadata": {},
   "source": [
    "### Постановка задачи\n",
    "Необходимо:\n",
    "\n",
    "- Сделать бейзлайны\n",
    "- Сделать модель, подобрать оптимальные параметры\n",
    "- Для каждого юзера оставить по 5 рекомендаций\n",
    "- Целевая метрика precision@5\n",
    "- Минимальный скор на Тесте = 0.18 на retail_test1\n"
   ]
  },
  {
   "cell_type": "markdown",
   "metadata": {},
   "source": [
    "### Загрузка библиотек и функций"
   ]
  },
  {
   "cell_type": "code",
   "execution_count": 1,
   "metadata": {},
   "outputs": [],
   "source": [
    "import pandas as pd\n",
    "import numpy as np\n",
    "\n",
    "# Для работы с матрицами\n",
    "from scipy.sparse import csr_matrix\n",
    "\n",
    "# Матричная факторизация\n",
    "from implicit.als import AlternatingLeastSquares as als\n",
    "from implicit.bpr import BayesianPersonalizedRanking as bpr\n",
    "\n",
    "# Модель второго уровня\n",
    "from catboost import CatBoostClassifier\n",
    "\n",
    "#import os, sys\n",
    "#sys.path.insert(1, os.getcwd() + '/src/')\n",
    "\n",
    "from src.metrics import precision_at_k, recall_at_k\n",
    "from src.utils import prefilter_items, postfilter_items, make_unique_recommendations\n",
    "from src.recommenders import MainRecommender"
   ]
  },
  {
   "cell_type": "code",
   "execution_count": 2,
   "metadata": {},
   "outputs": [],
   "source": [
    "def print_info(df_data, name_df):\n",
    "    print(name_df)\n",
    "    print(f\"Shape: {df_data.shape}, Unique users: {df_data['user_id'].nunique()}, Unique items: {df_data['item_id'].nunique()}\")\n",
    "    \n",
    "def get_result(df_result, recommend_model, N=50):\n",
    "    return df_result['user_id'].apply(lambda x: recommend_model(x, N=N))\n",
    "\n",
    "# def calc_recall_at_k(df_data, top_k, ACTUAL_COL='actual'):\n",
    "#     for col_name in df_data.columns[2:]:\n",
    "#         yield col_name, df_data.apply(lambda row: recall_at_k(row[col_name], row[ACTUAL_COL], k=top_k), axis=1).mean()\n",
    "        \n",
    "def calc_precision_at_k(df_data, k):\n",
    "    for col_name in df_data.columns[2:]:\n",
    "        yield col_name, df_data.apply(lambda row: precision_at_k(row[col_name], row['actual'], k=k), axis=1).mean()\n",
    "        \n",
    "def rerank(user_id, df, USER_COL='user_id', proba_col_name='proba_item_purchase', N=5):\n",
    "    return df[df[USER_COL]==user_id].sort_values(proba_col_name, ascending=False).head(N).item_id.tolist()\n",
    "\n",
    "def get_scores(df_result, recommend_model, N_PREDICT=50, USER_COL='user_id'):\n",
    "    return df_result[USER_COL].apply(lambda x: recommend_model(x, N=N_PREDICT))"
   ]
  },
  {
   "cell_type": "markdown",
   "metadata": {},
   "source": [
    "### Загрузка данных"
   ]
  },
  {
   "cell_type": "code",
   "execution_count": 3,
   "metadata": {},
   "outputs": [],
   "source": [
    "DATASET_PATH = 'data/retail_train.csv'\n",
    "ITEM_FEATURES_PATH = 'data/product.csv'\n",
    "USER_FEATURES_PATH = 'data/hh_demographic.csv'"
   ]
  },
  {
   "cell_type": "code",
   "execution_count": 4,
   "metadata": {},
   "outputs": [],
   "source": [
    "data = pd.read_csv(DATASET_PATH)\n",
    "item_features = pd.read_csv(ITEM_FEATURES_PATH)\n",
    "user_features = pd.read_csv(USER_FEATURES_PATH)"
   ]
  },
  {
   "cell_type": "markdown",
   "metadata": {},
   "source": [
    "### Подготовка данных"
   ]
  },
  {
   "cell_type": "code",
   "execution_count": 5,
   "metadata": {},
   "outputs": [],
   "source": [
    "item_features.columns = [col.lower() for col in item_features.columns]\n",
    "user_features.columns = [col.lower() for col in user_features.columns]\n",
    "\n",
    "item_features.rename(columns={'product_id': 'item_id'}, inplace=True)\n",
    "user_features.rename(columns={'household_key': 'user_id' }, inplace=True)"
   ]
  },
  {
   "cell_type": "code",
   "execution_count": 6,
   "metadata": {},
   "outputs": [
    {
     "data": {
      "text/html": [
       "<div>\n",
       "<style scoped>\n",
       "    .dataframe tbody tr th:only-of-type {\n",
       "        vertical-align: middle;\n",
       "    }\n",
       "\n",
       "    .dataframe tbody tr th {\n",
       "        vertical-align: top;\n",
       "    }\n",
       "\n",
       "    .dataframe thead th {\n",
       "        text-align: right;\n",
       "    }\n",
       "</style>\n",
       "<table border=\"1\" class=\"dataframe\">\n",
       "  <thead>\n",
       "    <tr style=\"text-align: right;\">\n",
       "      <th></th>\n",
       "      <th>item_id</th>\n",
       "      <th>manufacturer</th>\n",
       "      <th>department</th>\n",
       "      <th>brand</th>\n",
       "      <th>commodity_desc</th>\n",
       "      <th>sub_commodity_desc</th>\n",
       "      <th>curr_size_of_product</th>\n",
       "    </tr>\n",
       "  </thead>\n",
       "  <tbody>\n",
       "    <tr>\n",
       "      <th>0</th>\n",
       "      <td>25671</td>\n",
       "      <td>2</td>\n",
       "      <td>GROCERY</td>\n",
       "      <td>National</td>\n",
       "      <td>FRZN ICE</td>\n",
       "      <td>ICE - CRUSHED/CUBED</td>\n",
       "      <td>22 LB</td>\n",
       "    </tr>\n",
       "    <tr>\n",
       "      <th>1</th>\n",
       "      <td>26081</td>\n",
       "      <td>2</td>\n",
       "      <td>MISC. TRANS.</td>\n",
       "      <td>National</td>\n",
       "      <td>NO COMMODITY DESCRIPTION</td>\n",
       "      <td>NO SUBCOMMODITY DESCRIPTION</td>\n",
       "      <td></td>\n",
       "    </tr>\n",
       "  </tbody>\n",
       "</table>\n",
       "</div>"
      ],
      "text/plain": [
       "   item_id  manufacturer    department     brand            commodity_desc  \\\n",
       "0    25671             2       GROCERY  National                  FRZN ICE   \n",
       "1    26081             2  MISC. TRANS.  National  NO COMMODITY DESCRIPTION   \n",
       "\n",
       "            sub_commodity_desc curr_size_of_product  \n",
       "0          ICE - CRUSHED/CUBED                22 LB  \n",
       "1  NO SUBCOMMODITY DESCRIPTION                       "
      ]
     },
     "execution_count": 6,
     "metadata": {},
     "output_type": "execute_result"
    }
   ],
   "source": [
    "item_features.head(2)"
   ]
  },
  {
   "cell_type": "code",
   "execution_count": 7,
   "metadata": {},
   "outputs": [
    {
     "data": {
      "text/html": [
       "<div>\n",
       "<style scoped>\n",
       "    .dataframe tbody tr th:only-of-type {\n",
       "        vertical-align: middle;\n",
       "    }\n",
       "\n",
       "    .dataframe tbody tr th {\n",
       "        vertical-align: top;\n",
       "    }\n",
       "\n",
       "    .dataframe thead th {\n",
       "        text-align: right;\n",
       "    }\n",
       "</style>\n",
       "<table border=\"1\" class=\"dataframe\">\n",
       "  <thead>\n",
       "    <tr style=\"text-align: right;\">\n",
       "      <th></th>\n",
       "      <th>age_desc</th>\n",
       "      <th>marital_status_code</th>\n",
       "      <th>income_desc</th>\n",
       "      <th>homeowner_desc</th>\n",
       "      <th>hh_comp_desc</th>\n",
       "      <th>household_size_desc</th>\n",
       "      <th>kid_category_desc</th>\n",
       "      <th>user_id</th>\n",
       "    </tr>\n",
       "  </thead>\n",
       "  <tbody>\n",
       "    <tr>\n",
       "      <th>0</th>\n",
       "      <td>65+</td>\n",
       "      <td>A</td>\n",
       "      <td>35-49K</td>\n",
       "      <td>Homeowner</td>\n",
       "      <td>2 Adults No Kids</td>\n",
       "      <td>2</td>\n",
       "      <td>None/Unknown</td>\n",
       "      <td>1</td>\n",
       "    </tr>\n",
       "    <tr>\n",
       "      <th>1</th>\n",
       "      <td>45-54</td>\n",
       "      <td>A</td>\n",
       "      <td>50-74K</td>\n",
       "      <td>Homeowner</td>\n",
       "      <td>2 Adults No Kids</td>\n",
       "      <td>2</td>\n",
       "      <td>None/Unknown</td>\n",
       "      <td>7</td>\n",
       "    </tr>\n",
       "    <tr>\n",
       "      <th>2</th>\n",
       "      <td>25-34</td>\n",
       "      <td>U</td>\n",
       "      <td>25-34K</td>\n",
       "      <td>Unknown</td>\n",
       "      <td>2 Adults Kids</td>\n",
       "      <td>3</td>\n",
       "      <td>1</td>\n",
       "      <td>8</td>\n",
       "    </tr>\n",
       "  </tbody>\n",
       "</table>\n",
       "</div>"
      ],
      "text/plain": [
       "  age_desc marital_status_code income_desc homeowner_desc      hh_comp_desc  \\\n",
       "0      65+                   A      35-49K      Homeowner  2 Adults No Kids   \n",
       "1    45-54                   A      50-74K      Homeowner  2 Adults No Kids   \n",
       "2    25-34                   U      25-34K        Unknown     2 Adults Kids   \n",
       "\n",
       "  household_size_desc kid_category_desc  user_id  \n",
       "0                   2      None/Unknown        1  \n",
       "1                   2      None/Unknown        7  \n",
       "2                   3                 1        8  "
      ]
     },
     "execution_count": 7,
     "metadata": {},
     "output_type": "execute_result"
    }
   ],
   "source": [
    "user_features.head(3)"
   ]
  },
  {
   "cell_type": "markdown",
   "metadata": {},
   "source": [
    "###  Train test split\n",
    "Делим датасет на 3 части:  \n",
    "1) обучающий для модели 1 уровня   \n",
    "2) валидационный для модели 1 уровня = обучающий для модели 2 уровня   \n",
    "3) валидационный для модели 2 уровня  \n",
    "   \n",
    "Модель 1 уровня - MATCHER (сопоставление, нахождение первичных рекомендаций)  \n",
    "Модель 2 уровня - RANKER (модель для ранжирования, классификационная модель)"
   ]
  },
  {
   "cell_type": "code",
   "execution_count": 8,
   "metadata": {},
   "outputs": [],
   "source": [
    "val_lvl_1_size_weeks = 5\n",
    "val_lvl_2_size_weeks = 3\n",
    "\n",
    "# берем данные для тренировки matching модели\n",
    "data_train_matcher = data[data['week_no'] < data['week_no'].max() - (val_lvl_1_size_weeks + val_lvl_2_size_weeks)]\n",
    "\n",
    "# берем данные для валидации matching модели\n",
    "data_val_matcher = data[(data['week_no'] >= data['week_no'].max() - (val_lvl_1_size_weeks + val_lvl_2_size_weeks)) &\n",
    "                      (data['week_no'] < data['week_no'].max() - (val_lvl_2_size_weeks))]\n",
    "\n",
    "\n",
    "# берем данные для тренировки ranking модели\n",
    "data_train_ranker = data_val_matcher.copy()  # Для наглядности. Далее мы добавим изменения, и они будут отличаться\n",
    "\n",
    "# берем данные для теста ranking, matching модели\n",
    "data_val_ranker = data[data['week_no'] >= data['week_no'].max() - val_lvl_2_size_weeks]\n"
   ]
  },
  {
   "cell_type": "code",
   "execution_count": 9,
   "metadata": {},
   "outputs": [
    {
     "name": "stdout",
     "output_type": "stream",
     "text": [
      "train_matcher\n",
      "Shape: (2136728, 12), Unique users: 2498, Unique items: 84180\n",
      "val_matcher\n",
      "Shape: (141762, 12), Unique users: 2097, Unique items: 25770\n",
      "train_ranker\n",
      "Shape: (141762, 12), Unique users: 2097, Unique items: 25770\n",
      "val_ranker\n",
      "Shape: (118314, 12), Unique users: 2042, Unique items: 24329\n"
     ]
    }
   ],
   "source": [
    "print_info(data_train_matcher,'train_matcher')\n",
    "print_info(data_val_matcher,'val_matcher')\n",
    "print_info(data_train_ranker,'train_ranker')\n",
    "print_info(data_val_ranker,'val_ranker')"
   ]
  },
  {
   "cell_type": "code",
   "execution_count": 10,
   "metadata": {},
   "outputs": [
    {
     "name": "stdout",
     "output_type": "stream",
     "text": [
      "Decreased # items from 84180 to 10001\n"
     ]
    }
   ],
   "source": [
    "#Проведем префильтрацию данных\n",
    "\n",
    "n_items_before = data_train_matcher['item_id'].nunique()\n",
    "\n",
    "data_train_matcher = prefilter_items(data_train_matcher, item_features=item_features, take_n_popular=10000)\n",
    "\n",
    "n_items_after = data_train_matcher['item_id'].nunique()\n",
    "print('Decreased # items from {} to {}'.format(n_items_before, n_items_after))"
   ]
  },
  {
   "cell_type": "code",
   "execution_count": 11,
   "metadata": {},
   "outputs": [],
   "source": [
    "# сделаем объединенный сет данных для первого уровня (матчинга)\n",
    "df_join_train_matcher = pd.concat([data_train_matcher, data_val_matcher])"
   ]
  },
  {
   "cell_type": "code",
   "execution_count": 12,
   "metadata": {
    "scrolled": true
   },
   "outputs": [
    {
     "data": {
      "text/html": [
       "<div>\n",
       "<style scoped>\n",
       "    .dataframe tbody tr th:only-of-type {\n",
       "        vertical-align: middle;\n",
       "    }\n",
       "\n",
       "    .dataframe tbody tr th {\n",
       "        vertical-align: top;\n",
       "    }\n",
       "\n",
       "    .dataframe thead th {\n",
       "        text-align: right;\n",
       "    }\n",
       "</style>\n",
       "<table border=\"1\" class=\"dataframe\">\n",
       "  <thead>\n",
       "    <tr style=\"text-align: right;\">\n",
       "      <th></th>\n",
       "      <th>user_id</th>\n",
       "      <th>basket_id</th>\n",
       "      <th>day</th>\n",
       "      <th>item_id</th>\n",
       "      <th>quantity</th>\n",
       "      <th>sales_value</th>\n",
       "      <th>store_id</th>\n",
       "      <th>retail_disc</th>\n",
       "      <th>trans_time</th>\n",
       "      <th>week_no</th>\n",
       "      <th>coupon_disc</th>\n",
       "      <th>coupon_match_disc</th>\n",
       "      <th>price</th>\n",
       "      <th>department</th>\n",
       "    </tr>\n",
       "  </thead>\n",
       "  <tbody>\n",
       "    <tr>\n",
       "      <th>0</th>\n",
       "      <td>1285</td>\n",
       "      <td>30407595228</td>\n",
       "      <td>239</td>\n",
       "      <td>852015</td>\n",
       "      <td>1</td>\n",
       "      <td>9.79</td>\n",
       "      <td>334</td>\n",
       "      <td>-2.2</td>\n",
       "      <td>915</td>\n",
       "      <td>35</td>\n",
       "      <td>0.0</td>\n",
       "      <td>0.0</td>\n",
       "      <td>9.79</td>\n",
       "      <td>DRUG GM</td>\n",
       "    </tr>\n",
       "    <tr>\n",
       "      <th>1</th>\n",
       "      <td>2076</td>\n",
       "      <td>30768591161</td>\n",
       "      <td>251</td>\n",
       "      <td>852015</td>\n",
       "      <td>1</td>\n",
       "      <td>9.79</td>\n",
       "      <td>388</td>\n",
       "      <td>-2.2</td>\n",
       "      <td>1244</td>\n",
       "      <td>37</td>\n",
       "      <td>-1.0</td>\n",
       "      <td>0.0</td>\n",
       "      <td>9.79</td>\n",
       "      <td>DRUG GM</td>\n",
       "    </tr>\n",
       "  </tbody>\n",
       "</table>\n",
       "</div>"
      ],
      "text/plain": [
       "   user_id    basket_id  day  item_id  quantity  sales_value  store_id  \\\n",
       "0     1285  30407595228  239   852015         1         9.79       334   \n",
       "1     2076  30768591161  251   852015         1         9.79       388   \n",
       "\n",
       "   retail_disc  trans_time  week_no  coupon_disc  coupon_match_disc  price  \\\n",
       "0         -2.2         915       35          0.0                0.0   9.79   \n",
       "1         -2.2        1244       37         -1.0                0.0   9.79   \n",
       "\n",
       "  department  \n",
       "0    DRUG GM  \n",
       "1    DRUG GM  "
      ]
     },
     "execution_count": 12,
     "metadata": {},
     "output_type": "execute_result"
    }
   ],
   "source": [
    "# Добавим параметр категории к исходному обучающему датасету для удобства создания новых фичей\n",
    "df_join_train_matcher = df_join_train_matcher.merge(item_features[['item_id', 'department']], on='item_id', how='inner')\n",
    "df_join_train_matcher.head(2)"
   ]
  },
  {
   "cell_type": "markdown",
   "metadata": {},
   "source": [
    "Оставим только пользователей, которые встречаются в тренировочном датасете, чтобы избежать проблемы холодного старта."
   ]
  },
  {
   "cell_type": "code",
   "execution_count": 13,
   "metadata": {},
   "outputs": [
    {
     "name": "stdout",
     "output_type": "stream",
     "text": [
      "train_matcher\n",
      "Shape: (546741, 13), Unique users: 1870, Unique items: 9997\n",
      "val_matcher\n",
      "Shape: (136228, 12), Unique users: 1870, Unique items: 25273\n",
      "train_ranker\n",
      "Shape: (136228, 12), Unique users: 1870, Unique items: 25273\n",
      "val_ranker\n",
      "Shape: (114844, 12), Unique users: 1870, Unique items: 23952\n"
     ]
    }
   ],
   "source": [
    "# ищем общих пользователей\n",
    "common_users = list(set(data_train_matcher.user_id.values)&(set(data_val_matcher.user_id.values))&set(data_val_ranker.user_id.values))\n",
    "\n",
    "# оставляем общих пользователей\n",
    "data_train_matcher = data_train_matcher[data_train_matcher.user_id.isin(common_users)]\n",
    "data_val_matcher = data_val_matcher[data_val_matcher.user_id.isin(common_users)]\n",
    "data_train_ranker = data_train_ranker[data_train_ranker.user_id.isin(common_users)]\n",
    "data_val_ranker = data_val_ranker[data_val_ranker.user_id.isin(common_users)]\n",
    "\n",
    "print_info(data_train_matcher,'train_matcher')\n",
    "print_info(data_val_matcher,'val_matcher')\n",
    "print_info(data_train_ranker,'train_ranker')\n",
    "print_info(data_val_ranker,'val_ranker')"
   ]
  },
  {
   "cell_type": "markdown",
   "metadata": {},
   "source": [
    "### Построение baseline рекоммендаций"
   ]
  },
  {
   "cell_type": "code",
   "execution_count": 14,
   "metadata": {
    "scrolled": true
   },
   "outputs": [
    {
     "name": "stderr",
     "output_type": "stream",
     "text": [
      "WARNING:root:OpenBLAS detected. Its highly recommend to set the environment variable 'export OPENBLAS_NUM_THREADS=1' to disable its internal multithreading\n"
     ]
    },
    {
     "data": {
      "application/vnd.jupyter.widget-view+json": {
       "model_id": "eb77c6dfd9d24268b2b1e12820575108",
       "version_major": 2,
       "version_minor": 0
      },
      "text/plain": [
       "  0%|          | 0/20 [00:00<?, ?it/s]"
      ]
     },
     "metadata": {},
     "output_type": "display_data"
    },
    {
     "data": {
      "application/vnd.jupyter.widget-view+json": {
       "model_id": "e4cae4a52095472d91c67684ed183db6",
       "version_major": 2,
       "version_minor": 0
      },
      "text/plain": [
       "  0%|          | 0/20 [00:00<?, ?it/s]"
      ]
     },
     "metadata": {},
     "output_type": "display_data"
    },
    {
     "data": {
      "application/vnd.jupyter.widget-view+json": {
       "model_id": "3f97cdfa21ce4bb09d0ab4867ab4dc57",
       "version_major": 2,
       "version_minor": 0
      },
      "text/plain": [
       "  0%|          | 0/9997 [00:00<?, ?it/s]"
      ]
     },
     "metadata": {},
     "output_type": "display_data"
    },
    {
     "data": {
      "application/vnd.jupyter.widget-view+json": {
       "model_id": "d32bef510114476780e049b7c53744c4",
       "version_major": 2,
       "version_minor": 0
      },
      "text/plain": [
       "  0%|          | 0/9997 [00:00<?, ?it/s]"
      ]
     },
     "metadata": {},
     "output_type": "display_data"
    },
    {
     "data": {
      "application/vnd.jupyter.widget-view+json": {
       "model_id": "803f5bf2f9564045832049a12fd198a7",
       "version_major": 2,
       "version_minor": 0
      },
      "text/plain": [
       "  0%|          | 0/9997 [00:00<?, ?it/s]"
      ]
     },
     "metadata": {},
     "output_type": "display_data"
    },
    {
     "data": {
      "application/vnd.jupyter.widget-view+json": {
       "model_id": "b657a26fd4954142b39b730cecdeda74",
       "version_major": 2,
       "version_minor": 0
      },
      "text/plain": [
       "  0%|          | 0/9997 [00:00<?, ?it/s]"
      ]
     },
     "metadata": {},
     "output_type": "display_data"
    }
   ],
   "source": [
    "recommender = MainRecommender(data_train_matcher, weighting = True)"
   ]
  },
  {
   "cell_type": "code",
   "execution_count": 15,
   "metadata": {},
   "outputs": [
    {
     "data": {
      "text/html": [
       "<div>\n",
       "<style scoped>\n",
       "    .dataframe tbody tr th:only-of-type {\n",
       "        vertical-align: middle;\n",
       "    }\n",
       "\n",
       "    .dataframe tbody tr th {\n",
       "        vertical-align: top;\n",
       "    }\n",
       "\n",
       "    .dataframe thead th {\n",
       "        text-align: right;\n",
       "    }\n",
       "</style>\n",
       "<table border=\"1\" class=\"dataframe\">\n",
       "  <thead>\n",
       "    <tr style=\"text-align: right;\">\n",
       "      <th></th>\n",
       "      <th>user_id</th>\n",
       "      <th>actual</th>\n",
       "    </tr>\n",
       "  </thead>\n",
       "  <tbody>\n",
       "    <tr>\n",
       "      <th>0</th>\n",
       "      <td>1</td>\n",
       "      <td>[1005186, 907466, 909497, 940947, 963542, 1067...</td>\n",
       "    </tr>\n",
       "    <tr>\n",
       "      <th>1</th>\n",
       "      <td>6</td>\n",
       "      <td>[873654, 994928, 1098844, 1122879, 8357613, 98...</td>\n",
       "    </tr>\n",
       "  </tbody>\n",
       "</table>\n",
       "</div>"
      ],
      "text/plain": [
       "   user_id                                             actual\n",
       "0        1  [1005186, 907466, 909497, 940947, 963542, 1067...\n",
       "1        6  [873654, 994928, 1098844, 1122879, 8357613, 98..."
      ]
     },
     "execution_count": 15,
     "metadata": {},
     "output_type": "execute_result"
    }
   ],
   "source": [
    "result = data_val_matcher.groupby('user_id')['item_id'].unique().reset_index()\n",
    "result.columns=['user_id', 'actual']\n",
    "result.head(2)"
   ]
  },
  {
   "cell_type": "code",
   "execution_count": 16,
   "metadata": {},
   "outputs": [
    {
     "data": {
      "text/html": [
       "<div>\n",
       "<style scoped>\n",
       "    .dataframe tbody tr th:only-of-type {\n",
       "        vertical-align: middle;\n",
       "    }\n",
       "\n",
       "    .dataframe tbody tr th {\n",
       "        vertical-align: top;\n",
       "    }\n",
       "\n",
       "    .dataframe thead th {\n",
       "        text-align: right;\n",
       "    }\n",
       "</style>\n",
       "<table border=\"1\" class=\"dataframe\">\n",
       "  <thead>\n",
       "    <tr style=\"text-align: right;\">\n",
       "      <th></th>\n",
       "      <th>user_id</th>\n",
       "      <th>actual</th>\n",
       "      <th>random_recommendations</th>\n",
       "      <th>top_popular_recs</th>\n",
       "      <th>weighted_random_recs</th>\n",
       "    </tr>\n",
       "  </thead>\n",
       "  <tbody>\n",
       "    <tr>\n",
       "      <th>0</th>\n",
       "      <td>1</td>\n",
       "      <td>[1005186, 907466, 909497, 940947, 963542, 1067...</td>\n",
       "      <td>[8019255, 13038925, 9935616, 6396174, 12781921...</td>\n",
       "      <td>[999999, 1029743, 916122, 1106523, 5569230, 84...</td>\n",
       "      <td>[885582, 932675, 992986, 9677850, 1022969, 875...</td>\n",
       "    </tr>\n",
       "    <tr>\n",
       "      <th>1</th>\n",
       "      <td>6</td>\n",
       "      <td>[873654, 994928, 1098844, 1122879, 8357613, 98...</td>\n",
       "      <td>[821134, 8359154, 902362, 9446246, 985893, 556...</td>\n",
       "      <td>[999999, 1029743, 916122, 1106523, 5569230, 84...</td>\n",
       "      <td>[931153, 1088414, 828437, 933835, 898847, 8308...</td>\n",
       "    </tr>\n",
       "  </tbody>\n",
       "</table>\n",
       "</div>"
      ],
      "text/plain": [
       "   user_id                                             actual  \\\n",
       "0        1  [1005186, 907466, 909497, 940947, 963542, 1067...   \n",
       "1        6  [873654, 994928, 1098844, 1122879, 8357613, 98...   \n",
       "\n",
       "                              random_recommendations  \\\n",
       "0  [8019255, 13038925, 9935616, 6396174, 12781921...   \n",
       "1  [821134, 8359154, 902362, 9446246, 985893, 556...   \n",
       "\n",
       "                                    top_popular_recs  \\\n",
       "0  [999999, 1029743, 916122, 1106523, 5569230, 84...   \n",
       "1  [999999, 1029743, 916122, 1106523, 5569230, 84...   \n",
       "\n",
       "                                weighted_random_recs  \n",
       "0  [885582, 932675, 992986, 9677850, 1022969, 875...  \n",
       "1  [931153, 1088414, 828437, 933835, 898847, 8308...  "
      ]
     },
     "execution_count": 16,
     "metadata": {},
     "output_type": "execute_result"
    }
   ],
   "source": [
    "N = 30\n",
    "\n",
    "result['random_recommendations'] = (result['user_id']\n",
    "                                    .apply(lambda x: recommender.random_recommendation(N=N)))\n",
    "result['top_popular_recs'] = (result['user_id']\n",
    "                              .apply(lambda x: recommender.popularity_recommendation(N=N)))\n",
    "result['weighted_random_recs'] = (result['user_id']\n",
    "                                  .apply(lambda x: recommender.weighted_random_recommendation(N=N)))\n",
    "\n",
    "result.head(2)"
   ]
  },
  {
   "cell_type": "code",
   "execution_count": 17,
   "metadata": {},
   "outputs": [
    {
     "data": {
      "text/plain": [
       "[('top_popular_recs', 0.10802139037433155),\n",
       " ('weighted_random_recs', 0.0032085561497326204),\n",
       " ('random_recommendations', 0.0031016042780748665)]"
      ]
     },
     "execution_count": 17,
     "metadata": {},
     "output_type": "execute_result"
    }
   ],
   "source": [
    "k = 5\n",
    "sorted(calc_precision_at_k(result, k), key=lambda x: x[1],reverse=True)"
   ]
  },
  {
   "cell_type": "markdown",
   "metadata": {},
   "source": [
    "Получили значения baseline метрик . Лучшей из baseline моделей по presision является top_popular_recs. Далее построем двухуровневую модель"
   ]
  },
  {
   "cell_type": "markdown",
   "metadata": {},
   "source": [
    "### Построение модели первого уровня Matcher\n",
    "\n",
    "Для модели 1ого уровня возьмем 30 кандидатов"
   ]
  },
  {
   "cell_type": "code",
   "execution_count": 18,
   "metadata": {},
   "outputs": [],
   "source": [
    "N = 30\n",
    "\n",
    "result['own_rec'] = get_result(result, recommender.get_own_recommendations, N=N)\n",
    "result['als_rec'] = get_result(result, recommender.get_als_recommendations, N=N)\n",
    "result['bpr_rec'] = get_result(result, recommender.get_bpr_recommendations, N=N)\n",
    "result['bm25_rec'] = get_result(result, recommender.get_bm25_recommendations, N=N)\n",
    "result['tfidf_rec'] = get_result(result, recommender.get_tfidf_recommendations, N=N)\n",
    "result['cosine_rec'] = get_result(result, recommender.get_cosine_recommendations, N=N)\n",
    "result['similar_users'] = get_result(result, recommender.get_similar_users_recommendation, N=N)\n",
    "result['similar_items'] = get_result(result, recommender.get_similar_items_recommendation, N=N)\n",
    "\n",
    "# #similar_users_recommendation, similar_items_recommendation показывают очень низкий результат\n",
    "# не будем их учитывать в сравнении"
   ]
  },
  {
   "cell_type": "code",
   "execution_count": 19,
   "metadata": {},
   "outputs": [
    {
     "data": {
      "text/html": [
       "<div>\n",
       "<style scoped>\n",
       "    .dataframe tbody tr th:only-of-type {\n",
       "        vertical-align: middle;\n",
       "    }\n",
       "\n",
       "    .dataframe tbody tr th {\n",
       "        vertical-align: top;\n",
       "    }\n",
       "\n",
       "    .dataframe thead th {\n",
       "        text-align: right;\n",
       "    }\n",
       "</style>\n",
       "<table border=\"1\" class=\"dataframe\">\n",
       "  <thead>\n",
       "    <tr style=\"text-align: right;\">\n",
       "      <th></th>\n",
       "      <th>user_id</th>\n",
       "      <th>actual</th>\n",
       "      <th>random_recommendations</th>\n",
       "      <th>top_popular_recs</th>\n",
       "      <th>weighted_random_recs</th>\n",
       "      <th>own_rec</th>\n",
       "      <th>als_rec</th>\n",
       "      <th>bpr_rec</th>\n",
       "      <th>bm25_rec</th>\n",
       "      <th>tfidf_rec</th>\n",
       "      <th>cosine_rec</th>\n",
       "      <th>similar_users</th>\n",
       "      <th>similar_items</th>\n",
       "    </tr>\n",
       "  </thead>\n",
       "  <tbody>\n",
       "    <tr>\n",
       "      <th>0</th>\n",
       "      <td>1</td>\n",
       "      <td>[1005186, 907466, 909497, 940947, 963542, 1067...</td>\n",
       "      <td>[8019255, 13038925, 9935616, 6396174, 12781921...</td>\n",
       "      <td>[999999, 1029743, 916122, 1106523, 5569230, 84...</td>\n",
       "      <td>[885582, 932675, 992986, 9677850, 1022969, 875...</td>\n",
       "      <td>[940947, 1004906, 856942, 865456, 5582712, 101...</td>\n",
       "      <td>[965766, 1062002, 1132771, 8090521, 940947, 85...</td>\n",
       "      <td>[916122, 1029743, 866211, 844179, 1127831, 100...</td>\n",
       "      <td>[940947, 1004906, 1013167, 1127831, 844179, 10...</td>\n",
       "      <td>[900875, 877373, 6391068, 877391, 1109465, 108...</td>\n",
       "      <td>[877373, 900875, 1087895, 9297615, 877391, 856...</td>\n",
       "      <td>[1016800, 8090532, 1070820, 832678, 907631, 10...</td>\n",
       "      <td>[828647, 5582712, 9297615, 896666, 1080354, 92...</td>\n",
       "    </tr>\n",
       "    <tr>\n",
       "      <th>1</th>\n",
       "      <td>6</td>\n",
       "      <td>[873654, 994928, 1098844, 1122879, 8357613, 98...</td>\n",
       "      <td>[821134, 8359154, 902362, 9446246, 985893, 556...</td>\n",
       "      <td>[999999, 1029743, 916122, 1106523, 5569230, 84...</td>\n",
       "      <td>[931153, 1088414, 828437, 933835, 898847, 8308...</td>\n",
       "      <td>[5569230, 965267, 863447, 993638, 1024306, 951...</td>\n",
       "      <td>[1127831, 878996, 1044078, 866871, 1004906, 99...</td>\n",
       "      <td>[916122, 1029743, 866211, 844179, 1127831, 100...</td>\n",
       "      <td>[878996, 965267, 930118, 1105488, 863447, 1044...</td>\n",
       "      <td>[1004906, 866211, 878996, 1127831, 844179, 916...</td>\n",
       "      <td>[878996, 863447, 13003092, 1098844, 896613, 82...</td>\n",
       "      <td>[1026118, 5569471, 5569230, 1026118, 866211, 1...</td>\n",
       "      <td>[5569845, 13002975, 42346, 948650, 999999, 104...</td>\n",
       "    </tr>\n",
       "  </tbody>\n",
       "</table>\n",
       "</div>"
      ],
      "text/plain": [
       "   user_id                                             actual  \\\n",
       "0        1  [1005186, 907466, 909497, 940947, 963542, 1067...   \n",
       "1        6  [873654, 994928, 1098844, 1122879, 8357613, 98...   \n",
       "\n",
       "                              random_recommendations  \\\n",
       "0  [8019255, 13038925, 9935616, 6396174, 12781921...   \n",
       "1  [821134, 8359154, 902362, 9446246, 985893, 556...   \n",
       "\n",
       "                                    top_popular_recs  \\\n",
       "0  [999999, 1029743, 916122, 1106523, 5569230, 84...   \n",
       "1  [999999, 1029743, 916122, 1106523, 5569230, 84...   \n",
       "\n",
       "                                weighted_random_recs  \\\n",
       "0  [885582, 932675, 992986, 9677850, 1022969, 875...   \n",
       "1  [931153, 1088414, 828437, 933835, 898847, 8308...   \n",
       "\n",
       "                                             own_rec  \\\n",
       "0  [940947, 1004906, 856942, 865456, 5582712, 101...   \n",
       "1  [5569230, 965267, 863447, 993638, 1024306, 951...   \n",
       "\n",
       "                                             als_rec  \\\n",
       "0  [965766, 1062002, 1132771, 8090521, 940947, 85...   \n",
       "1  [1127831, 878996, 1044078, 866871, 1004906, 99...   \n",
       "\n",
       "                                             bpr_rec  \\\n",
       "0  [916122, 1029743, 866211, 844179, 1127831, 100...   \n",
       "1  [916122, 1029743, 866211, 844179, 1127831, 100...   \n",
       "\n",
       "                                            bm25_rec  \\\n",
       "0  [940947, 1004906, 1013167, 1127831, 844179, 10...   \n",
       "1  [878996, 965267, 930118, 1105488, 863447, 1044...   \n",
       "\n",
       "                                           tfidf_rec  \\\n",
       "0  [900875, 877373, 6391068, 877391, 1109465, 108...   \n",
       "1  [1004906, 866211, 878996, 1127831, 844179, 916...   \n",
       "\n",
       "                                          cosine_rec  \\\n",
       "0  [877373, 900875, 1087895, 9297615, 877391, 856...   \n",
       "1  [878996, 863447, 13003092, 1098844, 896613, 82...   \n",
       "\n",
       "                                       similar_users  \\\n",
       "0  [1016800, 8090532, 1070820, 832678, 907631, 10...   \n",
       "1  [1026118, 5569471, 5569230, 1026118, 866211, 1...   \n",
       "\n",
       "                                       similar_items  \n",
       "0  [828647, 5582712, 9297615, 896666, 1080354, 92...  \n",
       "1  [5569845, 13002975, 42346, 948650, 999999, 104...  "
      ]
     },
     "execution_count": 19,
     "metadata": {},
     "output_type": "execute_result"
    }
   ],
   "source": [
    "result.head(2)"
   ]
  },
  {
   "cell_type": "code",
   "execution_count": 20,
   "metadata": {},
   "outputs": [
    {
     "data": {
      "text/plain": [
       "[('own_rec', 0.2851336898395722),\n",
       " ('cosine_rec', 0.24727272727272728),\n",
       " ('bm25_rec', 0.1918716577540107),\n",
       " ('tfidf_rec', 0.17871657754010697),\n",
       " ('als_rec', 0.13133689839572193),\n",
       " ('top_popular_recs', 0.10802139037433155),\n",
       " ('bpr_rec', 0.09604278074866311),\n",
       " ('similar_users', 0.0948663101604278),\n",
       " ('similar_items', 0.03967914438502674),\n",
       " ('weighted_random_recs', 0.0032085561497326204),\n",
       " ('random_recommendations', 0.0031016042780748665)]"
      ]
     },
     "execution_count": 20,
     "metadata": {},
     "output_type": "execute_result"
    }
   ],
   "source": [
    "sorted(calc_precision_at_k(result, k=5), key=lambda x: x[1], reverse=True)"
   ]
  },
  {
   "cell_type": "markdown",
   "metadata": {},
   "source": [
    "Очевидно, лучшие результаты показывает модель на основе **предыдущих покупок пользователя** "
   ]
  },
  {
   "cell_type": "markdown",
   "metadata": {},
   "source": [
    "### Подготовка датасета и генерация признаков для модели 2 уровня (модели ранжирования)"
   ]
  },
  {
   "cell_type": "code",
   "execution_count": 21,
   "metadata": {},
   "outputs": [],
   "source": [
    "# берем пользователей из трейна для модели ранжирования\n",
    "df_match_candidates = pd.DataFrame(data_train_ranker['user_id'].unique())\n",
    "df_match_candidates.columns = ['user_id']\n",
    "\n",
    "# собираем для каждого юзера кандитатов с первого этапа (matcher)\n",
    "df_match_candidates['candidates'] = df_match_candidates['user_id'].apply(lambda x: recommender.get_own_recommendations(x, N=N))"
   ]
  },
  {
   "cell_type": "code",
   "execution_count": 22,
   "metadata": {},
   "outputs": [],
   "source": [
    "df_items = df_match_candidates.apply(lambda x: pd.Series(x['candidates']), axis=1).stack().reset_index(level=1, drop=True)\n",
    "df_items.name = 'item_id'"
   ]
  },
  {
   "cell_type": "code",
   "execution_count": 23,
   "metadata": {},
   "outputs": [],
   "source": [
    "# соберем итоговый датафрейм с комбинациями user_id - item_id\n",
    "df_match_candidates = df_match_candidates.drop('candidates', axis=1).join(df_items)"
   ]
  },
  {
   "cell_type": "code",
   "execution_count": 24,
   "metadata": {},
   "outputs": [
    {
     "data": {
      "text/html": [
       "<div>\n",
       "<style scoped>\n",
       "    .dataframe tbody tr th:only-of-type {\n",
       "        vertical-align: middle;\n",
       "    }\n",
       "\n",
       "    .dataframe tbody tr th {\n",
       "        vertical-align: top;\n",
       "    }\n",
       "\n",
       "    .dataframe thead th {\n",
       "        text-align: right;\n",
       "    }\n",
       "</style>\n",
       "<table border=\"1\" class=\"dataframe\">\n",
       "  <thead>\n",
       "    <tr style=\"text-align: right;\">\n",
       "      <th></th>\n",
       "      <th>user_id</th>\n",
       "      <th>item_id</th>\n",
       "    </tr>\n",
       "  </thead>\n",
       "  <tbody>\n",
       "    <tr>\n",
       "      <th>0</th>\n",
       "      <td>1827</td>\n",
       "      <td>907631</td>\n",
       "    </tr>\n",
       "    <tr>\n",
       "      <th>0</th>\n",
       "      <td>1827</td>\n",
       "      <td>940947</td>\n",
       "    </tr>\n",
       "    <tr>\n",
       "      <th>0</th>\n",
       "      <td>1827</td>\n",
       "      <td>1029743</td>\n",
       "    </tr>\n",
       "  </tbody>\n",
       "</table>\n",
       "</div>"
      ],
      "text/plain": [
       "   user_id  item_id\n",
       "0     1827   907631\n",
       "0     1827   940947\n",
       "0     1827  1029743"
      ]
     },
     "execution_count": 24,
     "metadata": {},
     "output_type": "execute_result"
    }
   ],
   "source": [
    "df_match_candidates.head(3)"
   ]
  },
  {
   "cell_type": "code",
   "execution_count": 25,
   "metadata": {},
   "outputs": [
    {
     "name": "stdout",
     "output_type": "stream",
     "text": [
      "match_candidates\n",
      "Shape: (56100, 2), Unique users: 1870, Unique items: 4324\n"
     ]
    }
   ],
   "source": [
    "print_info(df_match_candidates, 'match_candidates')"
   ]
  },
  {
   "cell_type": "code",
   "execution_count": 26,
   "metadata": {},
   "outputs": [
    {
     "data": {
      "text/html": [
       "<div>\n",
       "<style scoped>\n",
       "    .dataframe tbody tr th:only-of-type {\n",
       "        vertical-align: middle;\n",
       "    }\n",
       "\n",
       "    .dataframe tbody tr th {\n",
       "        vertical-align: top;\n",
       "    }\n",
       "\n",
       "    .dataframe thead th {\n",
       "        text-align: right;\n",
       "    }\n",
       "</style>\n",
       "<table border=\"1\" class=\"dataframe\">\n",
       "  <thead>\n",
       "    <tr style=\"text-align: right;\">\n",
       "      <th></th>\n",
       "      <th>user_id</th>\n",
       "      <th>item_id</th>\n",
       "      <th>target</th>\n",
       "    </tr>\n",
       "  </thead>\n",
       "  <tbody>\n",
       "    <tr>\n",
       "      <th>0</th>\n",
       "      <td>1827</td>\n",
       "      <td>907631</td>\n",
       "      <td>0.0</td>\n",
       "    </tr>\n",
       "    <tr>\n",
       "      <th>1</th>\n",
       "      <td>1827</td>\n",
       "      <td>940947</td>\n",
       "      <td>0.0</td>\n",
       "    </tr>\n",
       "    <tr>\n",
       "      <th>2</th>\n",
       "      <td>1827</td>\n",
       "      <td>1029743</td>\n",
       "      <td>1.0</td>\n",
       "    </tr>\n",
       "    <tr>\n",
       "      <th>4</th>\n",
       "      <td>1827</td>\n",
       "      <td>5568378</td>\n",
       "      <td>0.0</td>\n",
       "    </tr>\n",
       "    <tr>\n",
       "      <th>5</th>\n",
       "      <td>1827</td>\n",
       "      <td>854405</td>\n",
       "      <td>0.0</td>\n",
       "    </tr>\n",
       "  </tbody>\n",
       "</table>\n",
       "</div>"
      ],
      "text/plain": [
       "   user_id  item_id  target\n",
       "0     1827   907631     0.0\n",
       "1     1827   940947     0.0\n",
       "2     1827  1029743     1.0\n",
       "4     1827  5568378     0.0\n",
       "5     1827   854405     0.0"
      ]
     },
     "execution_count": 26,
     "metadata": {},
     "output_type": "execute_result"
    }
   ],
   "source": [
    "df_ranker_train = data_train_ranker[['user_id', 'item_id']].copy()\n",
    "df_ranker_train['target'] = 1  # здесь только фактические покупки \n",
    "\n",
    "df_ranker_train = df_match_candidates.merge(df_ranker_train, on=['user_id', 'item_id'], how='left')\n",
    "\n",
    "# чистим дубликаты\n",
    "df_ranker_train = df_ranker_train.drop_duplicates(subset=['user_id', 'item_id'])\n",
    "\n",
    "# все, что не фактические покупки - заполняем нулями\n",
    "df_ranker_train['target'].fillna(0, inplace= True)\n",
    "\n",
    "df_ranker_train.head()"
   ]
  },
  {
   "cell_type": "code",
   "execution_count": 27,
   "metadata": {},
   "outputs": [
    {
     "data": {
      "text/plain": [
       "0.0    48109\n",
       "1.0     7839\n",
       "Name: target, dtype: int64"
      ]
     },
     "execution_count": 27,
     "metadata": {},
     "output_type": "execute_result"
    }
   ],
   "source": [
    "# Соотношение классов:\n",
    "\n",
    "df_ranker_train.target.value_counts()"
   ]
  },
  {
   "cell_type": "markdown",
   "metadata": {},
   "source": [
    "Очевидно, что объектов 0 класса гораздо больше, чем 1\n",
    "Вероятно это связано с количеством кандидатов"
   ]
  },
  {
   "cell_type": "code",
   "execution_count": 28,
   "metadata": {
    "scrolled": true
   },
   "outputs": [
    {
     "data": {
      "text/html": [
       "<div>\n",
       "<style scoped>\n",
       "    .dataframe tbody tr th:only-of-type {\n",
       "        vertical-align: middle;\n",
       "    }\n",
       "\n",
       "    .dataframe tbody tr th {\n",
       "        vertical-align: top;\n",
       "    }\n",
       "\n",
       "    .dataframe thead th {\n",
       "        text-align: right;\n",
       "    }\n",
       "</style>\n",
       "<table border=\"1\" class=\"dataframe\">\n",
       "  <thead>\n",
       "    <tr style=\"text-align: right;\">\n",
       "      <th></th>\n",
       "      <th>user_id</th>\n",
       "      <th>item_id</th>\n",
       "      <th>target</th>\n",
       "      <th>manufacturer</th>\n",
       "      <th>department</th>\n",
       "      <th>brand</th>\n",
       "      <th>commodity_desc</th>\n",
       "      <th>sub_commodity_desc</th>\n",
       "      <th>curr_size_of_product</th>\n",
       "      <th>age_desc</th>\n",
       "      <th>marital_status_code</th>\n",
       "      <th>income_desc</th>\n",
       "      <th>homeowner_desc</th>\n",
       "      <th>hh_comp_desc</th>\n",
       "      <th>household_size_desc</th>\n",
       "      <th>kid_category_desc</th>\n",
       "    </tr>\n",
       "  </thead>\n",
       "  <tbody>\n",
       "    <tr>\n",
       "      <th>0</th>\n",
       "      <td>1827</td>\n",
       "      <td>907631</td>\n",
       "      <td>0.0</td>\n",
       "      <td>1039</td>\n",
       "      <td>GROCERY</td>\n",
       "      <td>National</td>\n",
       "      <td>FROZEN PIZZA</td>\n",
       "      <td>SNACKS/APPETIZERS</td>\n",
       "      <td></td>\n",
       "      <td>NaN</td>\n",
       "      <td>NaN</td>\n",
       "      <td>NaN</td>\n",
       "      <td>NaN</td>\n",
       "      <td>NaN</td>\n",
       "      <td>NaN</td>\n",
       "      <td>NaN</td>\n",
       "    </tr>\n",
       "    <tr>\n",
       "      <th>1</th>\n",
       "      <td>1827</td>\n",
       "      <td>940947</td>\n",
       "      <td>0.0</td>\n",
       "      <td>2082</td>\n",
       "      <td>MEAT-PCKGD</td>\n",
       "      <td>National</td>\n",
       "      <td>HEAT/SERVE</td>\n",
       "      <td>ENTREES</td>\n",
       "      <td>24 OZ</td>\n",
       "      <td>NaN</td>\n",
       "      <td>NaN</td>\n",
       "      <td>NaN</td>\n",
       "      <td>NaN</td>\n",
       "      <td>NaN</td>\n",
       "      <td>NaN</td>\n",
       "      <td>NaN</td>\n",
       "    </tr>\n",
       "  </tbody>\n",
       "</table>\n",
       "</div>"
      ],
      "text/plain": [
       "   user_id  item_id  target  manufacturer  department     brand  \\\n",
       "0     1827   907631     0.0          1039     GROCERY  National   \n",
       "1     1827   940947     0.0          2082  MEAT-PCKGD  National   \n",
       "\n",
       "  commodity_desc sub_commodity_desc curr_size_of_product age_desc  \\\n",
       "0   FROZEN PIZZA  SNACKS/APPETIZERS                           NaN   \n",
       "1     HEAT/SERVE            ENTREES                24 OZ      NaN   \n",
       "\n",
       "  marital_status_code income_desc homeowner_desc hh_comp_desc  \\\n",
       "0                 NaN         NaN            NaN          NaN   \n",
       "1                 NaN         NaN            NaN          NaN   \n",
       "\n",
       "  household_size_desc kid_category_desc  \n",
       "0                 NaN               NaN  \n",
       "1                 NaN               NaN  "
      ]
     },
     "execution_count": 28,
     "metadata": {},
     "output_type": "execute_result"
    }
   ],
   "source": [
    "# Присоединим к новому тренировочному датасету фичи юзеров и товаров - создадим общий тренировочный датасет\n",
    "\n",
    "df_ranker_train = df_ranker_train.merge(item_features, on='item_id', how='left')\n",
    "df_ranker_train = df_ranker_train.merge(user_features, on='user_id', how='left')\n",
    "\n",
    "df_ranker_train.head(2)"
   ]
  },
  {
   "cell_type": "markdown",
   "metadata": {},
   "source": [
    "### Генерация новых признаков"
   ]
  },
  {
   "cell_type": "code",
   "execution_count": 29,
   "metadata": {},
   "outputs": [
    {
     "data": {
      "text/html": [
       "<div>\n",
       "<style scoped>\n",
       "    .dataframe tbody tr th:only-of-type {\n",
       "        vertical-align: middle;\n",
       "    }\n",
       "\n",
       "    .dataframe tbody tr th {\n",
       "        vertical-align: top;\n",
       "    }\n",
       "\n",
       "    .dataframe thead th {\n",
       "        text-align: right;\n",
       "    }\n",
       "</style>\n",
       "<table border=\"1\" class=\"dataframe\">\n",
       "  <thead>\n",
       "    <tr style=\"text-align: right;\">\n",
       "      <th></th>\n",
       "      <th>user_id</th>\n",
       "      <th>basket_id</th>\n",
       "      <th>day</th>\n",
       "      <th>item_id</th>\n",
       "      <th>quantity</th>\n",
       "      <th>sales_value</th>\n",
       "      <th>store_id</th>\n",
       "      <th>retail_disc</th>\n",
       "      <th>trans_time</th>\n",
       "      <th>week_no</th>\n",
       "      <th>coupon_disc</th>\n",
       "      <th>coupon_match_disc</th>\n",
       "      <th>department</th>\n",
       "    </tr>\n",
       "  </thead>\n",
       "  <tbody>\n",
       "    <tr>\n",
       "      <th>0</th>\n",
       "      <td>1827</td>\n",
       "      <td>40702967646</td>\n",
       "      <td>601</td>\n",
       "      <td>891141</td>\n",
       "      <td>2</td>\n",
       "      <td>2.73</td>\n",
       "      <td>33923</td>\n",
       "      <td>0.0</td>\n",
       "      <td>7</td>\n",
       "      <td>87</td>\n",
       "      <td>0.0</td>\n",
       "      <td>0.0</td>\n",
       "      <td>PRODUCE</td>\n",
       "    </tr>\n",
       "    <tr>\n",
       "      <th>1</th>\n",
       "      <td>496</td>\n",
       "      <td>40739402373</td>\n",
       "      <td>603</td>\n",
       "      <td>891141</td>\n",
       "      <td>1</td>\n",
       "      <td>1.83</td>\n",
       "      <td>445</td>\n",
       "      <td>0.0</td>\n",
       "      <td>2226</td>\n",
       "      <td>87</td>\n",
       "      <td>0.0</td>\n",
       "      <td>0.0</td>\n",
       "      <td>PRODUCE</td>\n",
       "    </tr>\n",
       "  </tbody>\n",
       "</table>\n",
       "</div>"
      ],
      "text/plain": [
       "   user_id    basket_id  day  item_id  quantity  sales_value  store_id  \\\n",
       "0     1827  40702967646  601   891141         2         2.73     33923   \n",
       "1      496  40739402373  603   891141         1         1.83       445   \n",
       "\n",
       "   retail_disc  trans_time  week_no  coupon_disc  coupon_match_disc department  \n",
       "0          0.0           7       87          0.0                0.0    PRODUCE  \n",
       "1          0.0        2226       87          0.0                0.0    PRODUCE  "
      ]
     },
     "execution_count": 29,
     "metadata": {},
     "output_type": "execute_result"
    }
   ],
   "source": [
    "# Добавим параметр категории к исходному обучающему датасету для удобства создания новых фичей\n",
    "data_department = data_train_ranker.merge(item_features[['item_id', 'department']], on='item_id', how='inner')\n",
    "data_department.head(2)"
   ]
  },
  {
   "cell_type": "code",
   "execution_count": 30,
   "metadata": {},
   "outputs": [],
   "source": [
    "# Добавим признаки\n",
    "\n",
    "df_ranker_train = df_ranker_train.merge(df_join_train_matcher.groupby(by='item_id').agg('sales_value').sum().\\\n",
    "                                        rename('total_item_sales_value'), how='left',on='item_id')\n",
    "\n",
    "df_ranker_train = df_ranker_train.merge(df_join_train_matcher.groupby(by='item_id').agg('quantity').sum().\\\n",
    "                                        rename('total_quantity_value'), how='left',on='item_id')\n",
    "\n",
    "df_ranker_train = df_ranker_train.merge(df_join_train_matcher.groupby(by='item_id').agg('user_id').count().\\\n",
    "                                        rename('item_freq'), how='left',on='item_id')\n",
    "\n",
    "df_ranker_train = df_ranker_train.merge(df_join_train_matcher.groupby(by='user_id').agg('user_id').count().\\\n",
    "                                        rename('user_freq'), how='left',on='user_id')\n",
    "\n",
    "df_ranker_train = df_ranker_train.merge(df_join_train_matcher.groupby(by='user_id').agg('sales_value').sum().\\\n",
    "                                        rename('total_user_sales_value'), how='left',on='user_id')\n",
    "\n",
    "\n",
    "df_ranker_train = df_ranker_train.merge(df_join_train_matcher.groupby(by='item_id').agg('quantity').sum().\\\n",
    "                rename('item_quantity_per_week')/df_join_train_matcher.week_no.nunique(), how='left',on='item_id')\n",
    "\n",
    "df_ranker_train = df_ranker_train.merge(df_join_train_matcher.groupby(by='user_id').agg('quantity').sum().\\\n",
    "                rename('user_quantity_per_week')/df_join_train_matcher.week_no.nunique(), how='left',on='user_id')\n",
    "\n",
    "\n",
    "df_ranker_train = df_ranker_train.merge(df_join_train_matcher.groupby(by='item_id').agg('quantity').sum().\\\n",
    "            rename('item_quantity_per_basket')/df_join_train_matcher.basket_id.nunique(), how='left',on='item_id')\n",
    "\n",
    "df_ranker_train = df_ranker_train.merge(df_join_train_matcher.groupby(by='user_id').agg('quantity').sum().\\\n",
    "            rename('user_quantity_per_basket')/df_join_train_matcher.basket_id.nunique(), how='left',on='user_id')\n",
    "\n",
    "\n",
    "df_ranker_train = df_ranker_train.merge(df_join_train_matcher.groupby(by='item_id').agg('user_id').count().\\\n",
    "                rename('item_freq_per_basket')/df_join_train_matcher.basket_id.nunique(), how='left',on='item_id')\n",
    "\n",
    "df_ranker_train = df_ranker_train.merge(df_join_train_matcher.groupby(by='user_id').agg('user_id').count().\\\n",
    "                rename('user_freq_per_basket')/df_join_train_matcher.basket_id.nunique(), how='left',on='user_id')\n",
    "\n",
    "\n"
   ]
  },
  {
   "cell_type": "markdown",
   "metadata": {},
   "source": [
    "**Добавление дополнительных признаков**"
   ]
  },
  {
   "cell_type": "code",
   "execution_count": 31,
   "metadata": {},
   "outputs": [],
   "source": [
    "''' ДЛЯ ЮЗЕРОВ '''\n",
    "\n",
    "# Средний чек\n",
    "users_sales = data_train_ranker.groupby('user_id')['sales_value'].mean().reset_index()\n",
    "users_sales.rename(columns={'sales_value': 'avg_cheque'}, inplace=True)\n",
    "df_ranker_train = df_ranker_train.merge(users_sales[['user_id', 'avg_cheque']], on='user_id', how='left')\n",
    "\n",
    "# Количество уникальных категорий покупателя\n",
    "users_departments = data_department.groupby('user_id')['department'].nunique().reset_index()\n",
    "users_departments.rename(columns = {'department':'users_unique_departments'}, inplace=True)\n",
    "df_ranker_train = df_ranker_train.merge(users_departments, on='user_id', how='left')\n",
    "\n",
    "# Среднее время покупки\n",
    "bought_time = data_train_ranker.groupby('user_id')['trans_time'].mean().reset_index()\n",
    "bought_time.rename(columns = {'trans_time':'mean_trans_time_by_user'}, inplace=True)\n",
    "df_ranker_train = df_ranker_train.merge(bought_time, on='user_id', how='left')\n",
    "\n",
    "# Средний чек корзины \n",
    "baskets_sales_value = data_train_ranker.groupby(['user_id','basket_id'])['sales_value'].mean().reset_index()\n",
    "mean_basket_sales_value = baskets_sales_value.groupby('user_id')['sales_value'].mean().reset_index()\n",
    "mean_basket_sales_value.rename(columns = {'sales_value':'mean_sales_value_per_basket'}, inplace=True)\n",
    "df_ranker_train = df_ranker_train.merge(mean_basket_sales_value, on='user_id', how='left')\n",
    "\n",
    "# Количество купленных уникальных товаров \n",
    "unique_bought_items = data_train_ranker.groupby('user_id')['item_id'].nunique().reset_index()\n",
    "unique_bought_items.rename(columns = {'item_id':'unique_bought_items'}, inplace=True)\n",
    "df_ranker_train = df_ranker_train.merge(unique_bought_items, on='user_id', how='left')\n",
    "\n",
    "\n",
    "\n",
    "# Среднее количество уникальных категорий в корзине\n",
    "users_baskets = data_department.groupby(['user_id', 'basket_id'])['department'].nunique().reset_index()\n",
    "users_baskets = users_baskets.groupby('user_id')['department'].mean().reset_index()\n",
    "users_baskets.rename(columns={'department': 'avg_basket_department'}, inplace=True)\n",
    "df_ranker_train = df_ranker_train.merge(users_baskets[['user_id', 'avg_basket_department']], on='user_id', how='left')\n",
    "\n",
    "# Средняя сумма покупки в категории\n",
    "department_sales = data_department.groupby('department')['sales_value'].mean().reset_index()\n",
    "department_sales.rename(columns={'sales_value': 'mean_sales_value_category'}, inplace=True)\n",
    "df_ranker_train = df_ranker_train.merge(department_sales, on='department', how='left')\n",
    "\n",
    "# Средная цена купленных товаров пользователем\n",
    "users_sales = data_train_ranker.groupby('user_id')[['sales_value', 'quantity']].sum().reset_index()\n",
    "users_sales['avg_price'] = users_sales['sales_value'] / users_sales['quantity']\n",
    "df_ranker_train = df_ranker_train.merge(users_sales[['user_id', 'avg_price']], on='user_id', how='left')\n"
   ]
  },
  {
   "cell_type": "code",
   "execution_count": 32,
   "metadata": {},
   "outputs": [],
   "source": [
    "''' ДЛЯ ТОВАРОВ '''\n",
    "\n",
    "# Среднее количество покупок товара в неделю\n",
    "num_purchase_week = data_train_ranker.groupby('item_id').agg({'week_no': 'nunique', 'quantity': 'sum'}).reset_index()\n",
    "num_purchase_week['avg_num_purchases_week'] = num_purchase_week['quantity'] / num_purchase_week['week_no']\n",
    "df_ranker_train = df_ranker_train.merge(num_purchase_week[['item_id', 'avg_num_purchases_week']], on='item_id', how='left')\n",
    "df_ranker_train['avg_num_purchases_week'].fillna(0, inplace= True)\n",
    "\n",
    "\n",
    "\n",
    "# Цена товара\n",
    "items_sales = data_department.groupby('item_id')[['sales_value', 'quantity']].sum().reset_index()\n",
    "items_sales['price'] = items_sales['sales_value'] / items_sales['quantity']\n",
    "items_sales['price'].fillna(0, inplace=True)\n",
    "df_ranker_train = df_ranker_train.merge(items_sales[['item_id', 'price']], on='item_id', how='left')\n",
    "\n",
    "\n",
    "# Среднее время покупки товара\n",
    "bought_item_time = data_train_ranker.groupby('item_id')['trans_time'].mean().reset_index()\n",
    "bought_item_time.rename(columns = {'trans_time':'mean_trans_time_by_item'}, inplace=True)\n",
    "da_ranker_train = df_ranker_train.merge(bought_item_time, on = 'item_id', how = 'left')\n",
    "\n",
    "\n",
    "# Количество магазинов, где есть товар\n",
    "items_stores = data_department.groupby('item_id')['store_id'].sum().reset_index()\n",
    "items_stores.rename(columns={'store_id': 'n_stores_with_item'}, inplace=True)\n",
    "items_stores['n_stores_with_item'].fillna(0, inplace = True)\n",
    "df_ranker_train = df_ranker_train.merge(items_stores, on='item_id', how='left')\n",
    "\n",
    "# Количество уникальных магазинов, где есть товар\n",
    "items_stores = data_department.groupby('item_id')['store_id'].nunique().reset_index()\n",
    "items_stores.rename(columns={'store_id': 'n_unique_stores_with_item'}, inplace=True)\n",
    "items_stores['n_unique_stores_with_item'].fillna(0, inplace = True)\n",
    "df_ranker_train = df_ranker_train.merge(items_stores, on='item_id', how='left')\n"
   ]
  },
  {
   "cell_type": "code",
   "execution_count": 33,
   "metadata": {},
   "outputs": [
    {
     "data": {
      "text/html": [
       "<div>\n",
       "<style scoped>\n",
       "    .dataframe tbody tr th:only-of-type {\n",
       "        vertical-align: middle;\n",
       "    }\n",
       "\n",
       "    .dataframe tbody tr th {\n",
       "        vertical-align: top;\n",
       "    }\n",
       "\n",
       "    .dataframe thead th {\n",
       "        text-align: right;\n",
       "    }\n",
       "</style>\n",
       "<table border=\"1\" class=\"dataframe\">\n",
       "  <thead>\n",
       "    <tr style=\"text-align: right;\">\n",
       "      <th></th>\n",
       "      <th>user_id</th>\n",
       "      <th>day</th>\n",
       "    </tr>\n",
       "  </thead>\n",
       "  <tbody>\n",
       "    <tr>\n",
       "      <th>0</th>\n",
       "      <td>1</td>\n",
       "      <td>[246, 263, 274, 276, 282, 291, 300, 311, 317, ...</td>\n",
       "    </tr>\n",
       "    <tr>\n",
       "      <th>1</th>\n",
       "      <td>2</td>\n",
       "      <td>[239, 249, 263, 291, 318, 335, 345, 415, 432, ...</td>\n",
       "    </tr>\n",
       "    <tr>\n",
       "      <th>2</th>\n",
       "      <td>3</td>\n",
       "      <td>[242, 243, 248, 253, 260, 266, 291, 304, 320, ...</td>\n",
       "    </tr>\n",
       "    <tr>\n",
       "      <th>3</th>\n",
       "      <td>4</td>\n",
       "      <td>[244, 248, 251, 264, 288, 292, 302, 321, 328, ...</td>\n",
       "    </tr>\n",
       "    <tr>\n",
       "      <th>4</th>\n",
       "      <td>5</td>\n",
       "      <td>[258, 300, 320, 334, 418, 433, 449, 450, 460, ...</td>\n",
       "    </tr>\n",
       "  </tbody>\n",
       "</table>\n",
       "</div>"
      ],
      "text/plain": [
       "   user_id                                                day\n",
       "0        1  [246, 263, 274, 276, 282, 291, 300, 311, 317, ...\n",
       "1        2  [239, 249, 263, 291, 318, 335, 345, 415, 432, ...\n",
       "2        3  [242, 243, 248, 253, 260, 266, 291, 304, 320, ...\n",
       "3        4  [244, 248, 251, 264, 288, 292, 302, 321, 328, ...\n",
       "4        5  [258, 300, 320, 334, 418, 433, 449, 450, 460, ..."
      ]
     },
     "execution_count": 33,
     "metadata": {},
     "output_type": "execute_result"
    }
   ],
   "source": [
    "# Построим признак, отражающий средний интервал между покупками пользователя.\n",
    "users_days = df_join_train_matcher.groupby('user_id')['day'].unique().reset_index()\n",
    "users_days['day'] = users_days['day'].apply(lambda x: sorted(x))\n",
    "users_days.head()"
   ]
  },
  {
   "cell_type": "code",
   "execution_count": 34,
   "metadata": {},
   "outputs": [
    {
     "data": {
      "text/html": [
       "<div>\n",
       "<style scoped>\n",
       "    .dataframe tbody tr th:only-of-type {\n",
       "        vertical-align: middle;\n",
       "    }\n",
       "\n",
       "    .dataframe tbody tr th {\n",
       "        vertical-align: top;\n",
       "    }\n",
       "\n",
       "    .dataframe thead th {\n",
       "        text-align: right;\n",
       "    }\n",
       "</style>\n",
       "<table border=\"1\" class=\"dataframe\">\n",
       "  <thead>\n",
       "    <tr style=\"text-align: right;\">\n",
       "      <th></th>\n",
       "      <th>user_id</th>\n",
       "      <th>item_id</th>\n",
       "      <th>target</th>\n",
       "      <th>manufacturer</th>\n",
       "      <th>department</th>\n",
       "      <th>brand</th>\n",
       "      <th>commodity_desc</th>\n",
       "      <th>sub_commodity_desc</th>\n",
       "      <th>curr_size_of_product</th>\n",
       "      <th>age_desc</th>\n",
       "      <th>...</th>\n",
       "      <th>mean_sales_value_per_basket</th>\n",
       "      <th>unique_bought_items</th>\n",
       "      <th>avg_basket_department</th>\n",
       "      <th>mean_sales_value_category</th>\n",
       "      <th>avg_price</th>\n",
       "      <th>avg_num_purchases_week</th>\n",
       "      <th>price</th>\n",
       "      <th>n_stores_with_item</th>\n",
       "      <th>n_unique_stores_with_item</th>\n",
       "      <th>avg_interval</th>\n",
       "    </tr>\n",
       "  </thead>\n",
       "  <tbody>\n",
       "    <tr>\n",
       "      <th>0</th>\n",
       "      <td>1827</td>\n",
       "      <td>907631</td>\n",
       "      <td>0.0</td>\n",
       "      <td>1039</td>\n",
       "      <td>GROCERY</td>\n",
       "      <td>National</td>\n",
       "      <td>FROZEN PIZZA</td>\n",
       "      <td>SNACKS/APPETIZERS</td>\n",
       "      <td></td>\n",
       "      <td>NaN</td>\n",
       "      <td>...</td>\n",
       "      <td>2.965362</td>\n",
       "      <td>28</td>\n",
       "      <td>2.4</td>\n",
       "      <td>2.545290</td>\n",
       "      <td>2.208947</td>\n",
       "      <td>16.0</td>\n",
       "      <td>2.985000</td>\n",
       "      <td>276749.0</td>\n",
       "      <td>39.0</td>\n",
       "      <td>10.333333</td>\n",
       "    </tr>\n",
       "    <tr>\n",
       "      <th>1</th>\n",
       "      <td>1827</td>\n",
       "      <td>940947</td>\n",
       "      <td>0.0</td>\n",
       "      <td>2082</td>\n",
       "      <td>MEAT-PCKGD</td>\n",
       "      <td>National</td>\n",
       "      <td>HEAT/SERVE</td>\n",
       "      <td>ENTREES</td>\n",
       "      <td>24 OZ</td>\n",
       "      <td>NaN</td>\n",
       "      <td>...</td>\n",
       "      <td>2.965362</td>\n",
       "      <td>28</td>\n",
       "      <td>2.4</td>\n",
       "      <td>3.825916</td>\n",
       "      <td>2.208947</td>\n",
       "      <td>19.4</td>\n",
       "      <td>2.650825</td>\n",
       "      <td>383770.0</td>\n",
       "      <td>48.0</td>\n",
       "      <td>10.333333</td>\n",
       "    </tr>\n",
       "  </tbody>\n",
       "</table>\n",
       "<p>2 rows × 40 columns</p>\n",
       "</div>"
      ],
      "text/plain": [
       "   user_id  item_id  target  manufacturer  department     brand  \\\n",
       "0     1827   907631     0.0          1039     GROCERY  National   \n",
       "1     1827   940947     0.0          2082  MEAT-PCKGD  National   \n",
       "\n",
       "  commodity_desc sub_commodity_desc curr_size_of_product age_desc  ...  \\\n",
       "0   FROZEN PIZZA  SNACKS/APPETIZERS                           NaN  ...   \n",
       "1     HEAT/SERVE            ENTREES                24 OZ      NaN  ...   \n",
       "\n",
       "  mean_sales_value_per_basket unique_bought_items avg_basket_department  \\\n",
       "0                    2.965362                  28                   2.4   \n",
       "1                    2.965362                  28                   2.4   \n",
       "\n",
       "  mean_sales_value_category avg_price avg_num_purchases_week     price  \\\n",
       "0                  2.545290  2.208947                   16.0  2.985000   \n",
       "1                  3.825916  2.208947                   19.4  2.650825   \n",
       "\n",
       "   n_stores_with_item  n_unique_stores_with_item  avg_interval  \n",
       "0            276749.0                       39.0     10.333333  \n",
       "1            383770.0                       48.0     10.333333  \n",
       "\n",
       "[2 rows x 40 columns]"
      ]
     },
     "execution_count": 34,
     "metadata": {},
     "output_type": "execute_result"
    }
   ],
   "source": [
    "def avg_ndays(days):\n",
    "    diff = 0\n",
    "    if len(days) > 1:\n",
    "        for i in range(len(days) - 1):\n",
    "            diff += days[i+1] - days[i]\n",
    "        return diff / (len(days) - 1)\n",
    "    else:\n",
    "        return 0\n",
    "    \n",
    "users_days['avg_interval'] = users_days['day'].apply(avg_ndays)\n",
    "\n",
    "df_ranker_train = df_ranker_train.merge(users_days[['user_id', 'avg_interval']], on='user_id', how='left')\n",
    "df_ranker_train.head(2)"
   ]
  },
  {
   "cell_type": "markdown",
   "metadata": {},
   "source": [
    "Построим признак, в котором будет закодировано место товара в пяти последних покупках клиента."
   ]
  },
  {
   "cell_type": "code",
   "execution_count": 35,
   "metadata": {},
   "outputs": [
    {
     "data": {
      "text/html": [
       "<div>\n",
       "<style scoped>\n",
       "    .dataframe tbody tr th:only-of-type {\n",
       "        vertical-align: middle;\n",
       "    }\n",
       "\n",
       "    .dataframe tbody tr th {\n",
       "        vertical-align: top;\n",
       "    }\n",
       "\n",
       "    .dataframe thead th {\n",
       "        text-align: right;\n",
       "    }\n",
       "</style>\n",
       "<table border=\"1\" class=\"dataframe\">\n",
       "  <thead>\n",
       "    <tr style=\"text-align: right;\">\n",
       "      <th></th>\n",
       "      <th>user_id</th>\n",
       "      <th>item_id</th>\n",
       "    </tr>\n",
       "  </thead>\n",
       "  <tbody>\n",
       "    <tr>\n",
       "      <th>0</th>\n",
       "      <td>1</td>\n",
       "      <td>[5577022, 8293439, 9526676, 9527558, 10149640]</td>\n",
       "    </tr>\n",
       "    <tr>\n",
       "      <th>1</th>\n",
       "      <td>6</td>\n",
       "      <td>[1099058, 895268, 1017061, 1082185, 1119051]</td>\n",
       "    </tr>\n",
       "    <tr>\n",
       "      <th>2</th>\n",
       "      <td>7</td>\n",
       "      <td>[9837501, 12524016, 13072715, 13987153, 13987338]</td>\n",
       "    </tr>\n",
       "    <tr>\n",
       "      <th>3</th>\n",
       "      <td>8</td>\n",
       "      <td>[924610, 999142, 1080014, 1121694, 1130286]</td>\n",
       "    </tr>\n",
       "    <tr>\n",
       "      <th>4</th>\n",
       "      <td>9</td>\n",
       "      <td>[7467081, 10150194, 10457112, 12132773, 12171886]</td>\n",
       "    </tr>\n",
       "  </tbody>\n",
       "</table>\n",
       "</div>"
      ],
      "text/plain": [
       "   user_id                                            item_id\n",
       "0        1     [5577022, 8293439, 9526676, 9527558, 10149640]\n",
       "1        6       [1099058, 895268, 1017061, 1082185, 1119051]\n",
       "2        7  [9837501, 12524016, 13072715, 13987153, 13987338]\n",
       "3        8        [924610, 999142, 1080014, 1121694, 1130286]\n",
       "4        9  [7467081, 10150194, 10457112, 12132773, 12171886]"
      ]
     },
     "execution_count": 35,
     "metadata": {},
     "output_type": "execute_result"
    }
   ],
   "source": [
    "users_items = data_train_ranker.groupby('user_id')['item_id'].apply(list).reset_index()\n",
    "users_items['item_id'] = users_items['item_id'].apply(lambda x: x[-5:])\n",
    "users_items.head()"
   ]
  },
  {
   "cell_type": "code",
   "execution_count": 36,
   "metadata": {},
   "outputs": [
    {
     "data": {
      "text/plain": [
       "[1135408, 9194664, 9526666, 10182813, 12385050]"
      ]
     },
     "execution_count": 36,
     "metadata": {},
     "output_type": "execute_result"
    }
   ],
   "source": [
    "users_items.loc[users_items['user_id'] == 67, 'item_id'].item()"
   ]
  },
  {
   "cell_type": "code",
   "execution_count": 37,
   "metadata": {},
   "outputs": [
    {
     "data": {
      "text/html": [
       "<div>\n",
       "<style scoped>\n",
       "    .dataframe tbody tr th:only-of-type {\n",
       "        vertical-align: middle;\n",
       "    }\n",
       "\n",
       "    .dataframe tbody tr th {\n",
       "        vertical-align: top;\n",
       "    }\n",
       "\n",
       "    .dataframe thead th {\n",
       "        text-align: right;\n",
       "    }\n",
       "</style>\n",
       "<table border=\"1\" class=\"dataframe\">\n",
       "  <thead>\n",
       "    <tr style=\"text-align: right;\">\n",
       "      <th></th>\n",
       "      <th>user_id</th>\n",
       "      <th>item_id</th>\n",
       "      <th>target</th>\n",
       "      <th>manufacturer</th>\n",
       "      <th>department</th>\n",
       "      <th>brand</th>\n",
       "      <th>commodity_desc</th>\n",
       "      <th>sub_commodity_desc</th>\n",
       "      <th>curr_size_of_product</th>\n",
       "      <th>age_desc</th>\n",
       "      <th>...</th>\n",
       "      <th>unique_bought_items</th>\n",
       "      <th>avg_basket_department</th>\n",
       "      <th>mean_sales_value_category</th>\n",
       "      <th>avg_price</th>\n",
       "      <th>avg_num_purchases_week</th>\n",
       "      <th>price</th>\n",
       "      <th>n_stores_with_item</th>\n",
       "      <th>n_unique_stores_with_item</th>\n",
       "      <th>avg_interval</th>\n",
       "      <th>Last5sales</th>\n",
       "    </tr>\n",
       "  </thead>\n",
       "  <tbody>\n",
       "    <tr>\n",
       "      <th>0</th>\n",
       "      <td>1827</td>\n",
       "      <td>907631</td>\n",
       "      <td>0.0</td>\n",
       "      <td>1039</td>\n",
       "      <td>GROCERY</td>\n",
       "      <td>National</td>\n",
       "      <td>FROZEN PIZZA</td>\n",
       "      <td>SNACKS/APPETIZERS</td>\n",
       "      <td></td>\n",
       "      <td>NaN</td>\n",
       "      <td>...</td>\n",
       "      <td>28</td>\n",
       "      <td>2.4</td>\n",
       "      <td>2.545290</td>\n",
       "      <td>2.208947</td>\n",
       "      <td>16.0</td>\n",
       "      <td>2.985000</td>\n",
       "      <td>276749.0</td>\n",
       "      <td>39.0</td>\n",
       "      <td>10.333333</td>\n",
       "      <td>00000</td>\n",
       "    </tr>\n",
       "    <tr>\n",
       "      <th>1</th>\n",
       "      <td>1827</td>\n",
       "      <td>940947</td>\n",
       "      <td>0.0</td>\n",
       "      <td>2082</td>\n",
       "      <td>MEAT-PCKGD</td>\n",
       "      <td>National</td>\n",
       "      <td>HEAT/SERVE</td>\n",
       "      <td>ENTREES</td>\n",
       "      <td>24 OZ</td>\n",
       "      <td>NaN</td>\n",
       "      <td>...</td>\n",
       "      <td>28</td>\n",
       "      <td>2.4</td>\n",
       "      <td>3.825916</td>\n",
       "      <td>2.208947</td>\n",
       "      <td>19.4</td>\n",
       "      <td>2.650825</td>\n",
       "      <td>383770.0</td>\n",
       "      <td>48.0</td>\n",
       "      <td>10.333333</td>\n",
       "      <td>00000</td>\n",
       "    </tr>\n",
       "  </tbody>\n",
       "</table>\n",
       "<p>2 rows × 41 columns</p>\n",
       "</div>"
      ],
      "text/plain": [
       "   user_id  item_id  target  manufacturer  department     brand  \\\n",
       "0     1827   907631     0.0          1039     GROCERY  National   \n",
       "1     1827   940947     0.0          2082  MEAT-PCKGD  National   \n",
       "\n",
       "  commodity_desc sub_commodity_desc curr_size_of_product age_desc  ...  \\\n",
       "0   FROZEN PIZZA  SNACKS/APPETIZERS                           NaN  ...   \n",
       "1     HEAT/SERVE            ENTREES                24 OZ      NaN  ...   \n",
       "\n",
       "  unique_bought_items avg_basket_department mean_sales_value_category  \\\n",
       "0                  28                   2.4                  2.545290   \n",
       "1                  28                   2.4                  3.825916   \n",
       "\n",
       "  avg_price avg_num_purchases_week     price  n_stores_with_item  \\\n",
       "0  2.208947                   16.0  2.985000            276749.0   \n",
       "1  2.208947                   19.4  2.650825            383770.0   \n",
       "\n",
       "   n_unique_stores_with_item  avg_interval  Last5sales  \n",
       "0                       39.0     10.333333       00000  \n",
       "1                       48.0     10.333333       00000  \n",
       "\n",
       "[2 rows x 41 columns]"
      ]
     },
     "execution_count": 37,
     "metadata": {},
     "output_type": "execute_result"
    }
   ],
   "source": [
    "def code_last_sales(x, df=users_items):\n",
    "    last_sales = df.loc[df['user_id'] == x[0], 'item_id'].item()\n",
    "    code = str()\n",
    "    last_sales.reverse()\n",
    "    for item in last_sales:\n",
    "        code += '1' if item == x[1] else '0'\n",
    "    return code\n",
    "\n",
    "df_ranker_train['Last5sales'] = df_ranker_train[['user_id', 'item_id']].apply(code_last_sales, axis=1)\n",
    "df_ranker_train.head(2)"
   ]
  },
  {
   "cell_type": "code",
   "execution_count": 38,
   "metadata": {},
   "outputs": [
    {
     "data": {
      "text/plain": [
       "user_id                            0\n",
       "item_id                            0\n",
       "target                             0\n",
       "manufacturer                       0\n",
       "department                         0\n",
       "brand                              0\n",
       "commodity_desc                     0\n",
       "sub_commodity_desc                 0\n",
       "curr_size_of_product               0\n",
       "age_desc                       33239\n",
       "marital_status_code            33239\n",
       "income_desc                    33239\n",
       "homeowner_desc                 33239\n",
       "hh_comp_desc                   33239\n",
       "household_size_desc            33239\n",
       "kid_category_desc              33239\n",
       "total_item_sales_value             0\n",
       "total_quantity_value               0\n",
       "item_freq                          0\n",
       "user_freq                          0\n",
       "total_user_sales_value             0\n",
       "item_quantity_per_week             0\n",
       "user_quantity_per_week             0\n",
       "item_quantity_per_basket           0\n",
       "user_quantity_per_basket           0\n",
       "item_freq_per_basket               0\n",
       "user_freq_per_basket               0\n",
       "avg_cheque                         0\n",
       "users_unique_departments           0\n",
       "mean_trans_time_by_user            0\n",
       "mean_sales_value_per_basket        0\n",
       "unique_bought_items                0\n",
       "avg_basket_department              0\n",
       "mean_sales_value_category          0\n",
       "avg_price                          0\n",
       "avg_num_purchases_week             0\n",
       "price                           1694\n",
       "n_stores_with_item              1694\n",
       "n_unique_stores_with_item       1694\n",
       "avg_interval                       0\n",
       "Last5sales                         0\n",
       "dtype: int64"
      ]
     },
     "execution_count": 38,
     "metadata": {},
     "output_type": "execute_result"
    }
   ],
   "source": [
    "# Проверим наличие пропусков\n",
    "df_ranker_train.isnull().sum()"
   ]
  },
  {
   "cell_type": "code",
   "execution_count": 39,
   "metadata": {},
   "outputs": [
    {
     "name": "stderr",
     "output_type": "stream",
     "text": [
      "/usr/local/lib/python3.8/site-packages/pandas/core/frame.py:4462: SettingWithCopyWarning: \n",
      "A value is trying to be set on a copy of a slice from a DataFrame\n",
      "\n",
      "See the caveats in the documentation: https://pandas.pydata.org/pandas-docs/stable/user_guide/indexing.html#returning-a-view-versus-a-copy\n",
      "  return super().fillna(\n"
     ]
    }
   ],
   "source": [
    "#Заполним пропуски у количественных признаков\n",
    "df_ranker_train[['price', 'n_stores_with_item', 'n_unique_stores_with_item']].fillna(0, inplace = True)"
   ]
  },
  {
   "cell_type": "markdown",
   "metadata": {},
   "source": [
    "**Разделение на X_train и y_train и обучение модели**"
   ]
  },
  {
   "cell_type": "code",
   "execution_count": 40,
   "metadata": {},
   "outputs": [
    {
     "data": {
      "text/plain": [
       "Index(['user_id', 'item_id', 'target', 'manufacturer', 'department', 'brand',\n",
       "       'commodity_desc', 'sub_commodity_desc', 'curr_size_of_product',\n",
       "       'age_desc', 'marital_status_code', 'income_desc', 'homeowner_desc',\n",
       "       'hh_comp_desc', 'household_size_desc', 'kid_category_desc',\n",
       "       'total_item_sales_value', 'total_quantity_value', 'item_freq',\n",
       "       'user_freq', 'total_user_sales_value', 'item_quantity_per_week',\n",
       "       'user_quantity_per_week', 'item_quantity_per_basket',\n",
       "       'user_quantity_per_basket', 'item_freq_per_basket',\n",
       "       'user_freq_per_basket', 'avg_cheque', 'users_unique_departments',\n",
       "       'mean_trans_time_by_user', 'mean_sales_value_per_basket',\n",
       "       'unique_bought_items', 'avg_basket_department',\n",
       "       'mean_sales_value_category', 'avg_price', 'avg_num_purchases_week',\n",
       "       'price', 'n_stores_with_item', 'n_unique_stores_with_item',\n",
       "       'avg_interval', 'Last5sales'],\n",
       "      dtype='object')"
      ]
     },
     "execution_count": 40,
     "metadata": {},
     "output_type": "execute_result"
    }
   ],
   "source": [
    "df_ranker_train.columns"
   ]
  },
  {
   "cell_type": "code",
   "execution_count": 41,
   "metadata": {},
   "outputs": [],
   "source": [
    "X_train = df_ranker_train.drop(columns = ['target',\n",
    "                                          'total_quantity_value',\n",
    "                                          'user_quantity_per_week',\n",
    "                                          'mean_sales_value_category',\n",
    "                                          'item_quantity_per_basket'\n",
    "                                         ])\n",
    "\n",
    "#Убрала количественные признаки в весом feature_importances ниже 1 (категориальные оставим)\n",
    "y_train = df_ranker_train[['target']]"
   ]
  },
  {
   "cell_type": "code",
   "execution_count": 43,
   "metadata": {},
   "outputs": [
    {
     "data": {
      "text/html": [
       "<div>\n",
       "<style scoped>\n",
       "    .dataframe tbody tr th:only-of-type {\n",
       "        vertical-align: middle;\n",
       "    }\n",
       "\n",
       "    .dataframe tbody tr th {\n",
       "        vertical-align: top;\n",
       "    }\n",
       "\n",
       "    .dataframe thead th {\n",
       "        text-align: right;\n",
       "    }\n",
       "</style>\n",
       "<table border=\"1\" class=\"dataframe\">\n",
       "  <thead>\n",
       "    <tr style=\"text-align: right;\">\n",
       "      <th></th>\n",
       "      <th>user_id</th>\n",
       "      <th>item_id</th>\n",
       "      <th>manufacturer</th>\n",
       "      <th>department</th>\n",
       "      <th>brand</th>\n",
       "      <th>commodity_desc</th>\n",
       "      <th>sub_commodity_desc</th>\n",
       "      <th>curr_size_of_product</th>\n",
       "      <th>age_desc</th>\n",
       "      <th>marital_status_code</th>\n",
       "      <th>...</th>\n",
       "      <th>mean_sales_value_per_basket</th>\n",
       "      <th>unique_bought_items</th>\n",
       "      <th>avg_basket_department</th>\n",
       "      <th>avg_price</th>\n",
       "      <th>avg_num_purchases_week</th>\n",
       "      <th>price</th>\n",
       "      <th>n_stores_with_item</th>\n",
       "      <th>n_unique_stores_with_item</th>\n",
       "      <th>avg_interval</th>\n",
       "      <th>Last5sales</th>\n",
       "    </tr>\n",
       "  </thead>\n",
       "  <tbody>\n",
       "    <tr>\n",
       "      <th>0</th>\n",
       "      <td>1827</td>\n",
       "      <td>907631</td>\n",
       "      <td>1039</td>\n",
       "      <td>GROCERY</td>\n",
       "      <td>National</td>\n",
       "      <td>FROZEN PIZZA</td>\n",
       "      <td>SNACKS/APPETIZERS</td>\n",
       "      <td></td>\n",
       "      <td>NaN</td>\n",
       "      <td>NaN</td>\n",
       "      <td>...</td>\n",
       "      <td>2.965362</td>\n",
       "      <td>28</td>\n",
       "      <td>2.4</td>\n",
       "      <td>2.208947</td>\n",
       "      <td>16.0</td>\n",
       "      <td>2.985000</td>\n",
       "      <td>276749.0</td>\n",
       "      <td>39.0</td>\n",
       "      <td>10.333333</td>\n",
       "      <td>00000</td>\n",
       "    </tr>\n",
       "    <tr>\n",
       "      <th>1</th>\n",
       "      <td>1827</td>\n",
       "      <td>940947</td>\n",
       "      <td>2082</td>\n",
       "      <td>MEAT-PCKGD</td>\n",
       "      <td>National</td>\n",
       "      <td>HEAT/SERVE</td>\n",
       "      <td>ENTREES</td>\n",
       "      <td>24 OZ</td>\n",
       "      <td>NaN</td>\n",
       "      <td>NaN</td>\n",
       "      <td>...</td>\n",
       "      <td>2.965362</td>\n",
       "      <td>28</td>\n",
       "      <td>2.4</td>\n",
       "      <td>2.208947</td>\n",
       "      <td>19.4</td>\n",
       "      <td>2.650825</td>\n",
       "      <td>383770.0</td>\n",
       "      <td>48.0</td>\n",
       "      <td>10.333333</td>\n",
       "      <td>00000</td>\n",
       "    </tr>\n",
       "  </tbody>\n",
       "</table>\n",
       "<p>2 rows × 36 columns</p>\n",
       "</div>"
      ],
      "text/plain": [
       "   user_id  item_id  manufacturer  department     brand commodity_desc  \\\n",
       "0     1827   907631          1039     GROCERY  National   FROZEN PIZZA   \n",
       "1     1827   940947          2082  MEAT-PCKGD  National     HEAT/SERVE   \n",
       "\n",
       "  sub_commodity_desc curr_size_of_product age_desc marital_status_code  ...  \\\n",
       "0  SNACKS/APPETIZERS                           NaN                 NaN  ...   \n",
       "1            ENTREES                24 OZ      NaN                 NaN  ...   \n",
       "\n",
       "  mean_sales_value_per_basket unique_bought_items avg_basket_department  \\\n",
       "0                    2.965362                  28                   2.4   \n",
       "1                    2.965362                  28                   2.4   \n",
       "\n",
       "  avg_price avg_num_purchases_week     price  n_stores_with_item  \\\n",
       "0  2.208947                   16.0  2.985000            276749.0   \n",
       "1  2.208947                   19.4  2.650825            383770.0   \n",
       "\n",
       "   n_unique_stores_with_item  avg_interval  Last5sales  \n",
       "0                       39.0     10.333333       00000  \n",
       "1                       48.0     10.333333       00000  \n",
       "\n",
       "[2 rows x 36 columns]"
      ]
     },
     "execution_count": 43,
     "metadata": {},
     "output_type": "execute_result"
    }
   ],
   "source": [
    "X_train.head(2)"
   ]
  },
  {
   "cell_type": "code",
   "execution_count": 44,
   "metadata": {
    "scrolled": true
   },
   "outputs": [
    {
     "data": {
      "text/plain": [
       "['department',\n",
       " 'brand',\n",
       " 'commodity_desc',\n",
       " 'sub_commodity_desc',\n",
       " 'curr_size_of_product',\n",
       " 'age_desc',\n",
       " 'marital_status_code',\n",
       " 'income_desc',\n",
       " 'homeowner_desc',\n",
       " 'hh_comp_desc',\n",
       " 'household_size_desc',\n",
       " 'kid_category_desc',\n",
       " 'Last5sales']"
      ]
     },
     "execution_count": 44,
     "metadata": {},
     "output_type": "execute_result"
    }
   ],
   "source": [
    "# Обработка категориальных признаков\n",
    "\n",
    "cat_feats = [\n",
    "          'department',\n",
    "         'brand',\n",
    "         'commodity_desc',\n",
    "         'sub_commodity_desc',\n",
    "         'curr_size_of_product',\n",
    "         'age_desc',\n",
    "         'marital_status_code',\n",
    "         'income_desc',\n",
    "         'homeowner_desc',\n",
    "         'hh_comp_desc',\n",
    "         'household_size_desc',\n",
    "         'kid_category_desc',\n",
    "         'Last5sales'\n",
    "    \n",
    "]\n",
    "\n",
    "\n",
    "for col in cat_feats:\n",
    "    X_train[col].fillna(0, inplace=True)\n",
    "\n",
    "X_train[cat_feats] = X_train[cat_feats].astype('category')\n",
    "\n",
    "cat_feats"
   ]
  },
  {
   "cell_type": "code",
   "execution_count": 45,
   "metadata": {},
   "outputs": [
    {
     "data": {
      "text/plain": [
       "6.137134838627376"
      ]
     },
     "execution_count": 45,
     "metadata": {},
     "output_type": "execute_result"
    }
   ],
   "source": [
    "#Рассчитаем дисбаланс классов - насколько объектов 0 класса больше, чем объектов 1 класса\n",
    "disbalance = y_train.value_counts()[0] / y_train.value_counts()[1]\n",
    "disbalance"
   ]
  },
  {
   "cell_type": "markdown",
   "metadata": {},
   "source": [
    "**Пострение модели**"
   ]
  },
  {
   "cell_type": "code",
   "execution_count": 46,
   "metadata": {},
   "outputs": [],
   "source": [
    "#ПАРАМЕТРЫ БЫЛИ ПОДОБРАНЫ ПОИСКОМ ПО СЕТКЕ, НЕ ВКЛЮЧЕНО В ИТОГОВЫЙ ПРОЕКТ ДЛЯ СОКРАЩЕНИЯ ВРЕМЕНИ РАБОТЫ НОУТБУКА\n",
    "\n",
    "ctb = CatBoostClassifier(learning_rate=0.1,\n",
    "                        max_depth=12,\n",
    "                        n_estimators=550,\n",
    "                        random_state=42, \n",
    "                        cat_features=cat_feats, \n",
    "                        class_weights=[1, disbalance],\n",
    "                        silent=True)\n",
    "\n",
    "ctb.fit(X_train, y_train)\n",
    "\n",
    "train_preds = ctb.predict_proba(X_train)"
   ]
  },
  {
   "cell_type": "code",
   "execution_count": 47,
   "metadata": {},
   "outputs": [
    {
     "data": {
      "text/html": [
       "<div>\n",
       "<style scoped>\n",
       "    .dataframe tbody tr th:only-of-type {\n",
       "        vertical-align: middle;\n",
       "    }\n",
       "\n",
       "    .dataframe tbody tr th {\n",
       "        vertical-align: top;\n",
       "    }\n",
       "\n",
       "    .dataframe thead th {\n",
       "        text-align: right;\n",
       "    }\n",
       "</style>\n",
       "<table border=\"1\" class=\"dataframe\">\n",
       "  <thead>\n",
       "    <tr style=\"text-align: right;\">\n",
       "      <th></th>\n",
       "      <th>importance</th>\n",
       "    </tr>\n",
       "  </thead>\n",
       "  <tbody>\n",
       "    <tr>\n",
       "      <th>unique_bought_items</th>\n",
       "      <td>6.064318</td>\n",
       "    </tr>\n",
       "    <tr>\n",
       "      <th>item_id</th>\n",
       "      <td>5.973385</td>\n",
       "    </tr>\n",
       "    <tr>\n",
       "      <th>user_id</th>\n",
       "      <td>5.334449</td>\n",
       "    </tr>\n",
       "    <tr>\n",
       "      <th>mean_trans_time_by_user</th>\n",
       "      <td>5.157933</td>\n",
       "    </tr>\n",
       "    <tr>\n",
       "      <th>avg_basket_department</th>\n",
       "      <td>5.036407</td>\n",
       "    </tr>\n",
       "    <tr>\n",
       "      <th>sub_commodity_desc</th>\n",
       "      <td>4.490401</td>\n",
       "    </tr>\n",
       "    <tr>\n",
       "      <th>commodity_desc</th>\n",
       "      <td>4.469624</td>\n",
       "    </tr>\n",
       "    <tr>\n",
       "      <th>price</th>\n",
       "      <td>4.458278</td>\n",
       "    </tr>\n",
       "    <tr>\n",
       "      <th>avg_interval</th>\n",
       "      <td>3.822881</td>\n",
       "    </tr>\n",
       "    <tr>\n",
       "      <th>avg_cheque</th>\n",
       "      <td>3.759799</td>\n",
       "    </tr>\n",
       "    <tr>\n",
       "      <th>avg_num_purchases_week</th>\n",
       "      <td>3.636064</td>\n",
       "    </tr>\n",
       "    <tr>\n",
       "      <th>department</th>\n",
       "      <td>3.417408</td>\n",
       "    </tr>\n",
       "    <tr>\n",
       "      <th>manufacturer</th>\n",
       "      <td>3.278578</td>\n",
       "    </tr>\n",
       "    <tr>\n",
       "      <th>avg_price</th>\n",
       "      <td>3.125392</td>\n",
       "    </tr>\n",
       "    <tr>\n",
       "      <th>n_stores_with_item</th>\n",
       "      <td>2.936284</td>\n",
       "    </tr>\n",
       "    <tr>\n",
       "      <th>mean_sales_value_per_basket</th>\n",
       "      <td>2.895795</td>\n",
       "    </tr>\n",
       "    <tr>\n",
       "      <th>curr_size_of_product</th>\n",
       "      <td>2.886900</td>\n",
       "    </tr>\n",
       "    <tr>\n",
       "      <th>users_unique_departments</th>\n",
       "      <td>2.699973</td>\n",
       "    </tr>\n",
       "    <tr>\n",
       "      <th>Last5sales</th>\n",
       "      <td>2.691799</td>\n",
       "    </tr>\n",
       "    <tr>\n",
       "      <th>n_unique_stores_with_item</th>\n",
       "      <td>2.585269</td>\n",
       "    </tr>\n",
       "    <tr>\n",
       "      <th>total_user_sales_value</th>\n",
       "      <td>2.234514</td>\n",
       "    </tr>\n",
       "    <tr>\n",
       "      <th>user_quantity_per_basket</th>\n",
       "      <td>2.002444</td>\n",
       "    </tr>\n",
       "    <tr>\n",
       "      <th>total_item_sales_value</th>\n",
       "      <td>1.846090</td>\n",
       "    </tr>\n",
       "    <tr>\n",
       "      <th>item_freq</th>\n",
       "      <td>1.772244</td>\n",
       "    </tr>\n",
       "    <tr>\n",
       "      <th>item_freq_per_basket</th>\n",
       "      <td>1.706867</td>\n",
       "    </tr>\n",
       "    <tr>\n",
       "      <th>user_freq</th>\n",
       "      <td>1.671807</td>\n",
       "    </tr>\n",
       "    <tr>\n",
       "      <th>user_freq_per_basket</th>\n",
       "      <td>1.557555</td>\n",
       "    </tr>\n",
       "    <tr>\n",
       "      <th>item_quantity_per_week</th>\n",
       "      <td>1.396746</td>\n",
       "    </tr>\n",
       "    <tr>\n",
       "      <th>income_desc</th>\n",
       "      <td>1.251271</td>\n",
       "    </tr>\n",
       "    <tr>\n",
       "      <th>age_desc</th>\n",
       "      <td>1.218777</td>\n",
       "    </tr>\n",
       "    <tr>\n",
       "      <th>marital_status_code</th>\n",
       "      <td>1.210298</td>\n",
       "    </tr>\n",
       "    <tr>\n",
       "      <th>hh_comp_desc</th>\n",
       "      <td>0.886924</td>\n",
       "    </tr>\n",
       "    <tr>\n",
       "      <th>kid_category_desc</th>\n",
       "      <td>0.841500</td>\n",
       "    </tr>\n",
       "    <tr>\n",
       "      <th>homeowner_desc</th>\n",
       "      <td>0.765670</td>\n",
       "    </tr>\n",
       "    <tr>\n",
       "      <th>household_size_desc</th>\n",
       "      <td>0.556912</td>\n",
       "    </tr>\n",
       "    <tr>\n",
       "      <th>brand</th>\n",
       "      <td>0.359446</td>\n",
       "    </tr>\n",
       "  </tbody>\n",
       "</table>\n",
       "</div>"
      ],
      "text/plain": [
       "                             importance\n",
       "unique_bought_items            6.064318\n",
       "item_id                        5.973385\n",
       "user_id                        5.334449\n",
       "mean_trans_time_by_user        5.157933\n",
       "avg_basket_department          5.036407\n",
       "sub_commodity_desc             4.490401\n",
       "commodity_desc                 4.469624\n",
       "price                          4.458278\n",
       "avg_interval                   3.822881\n",
       "avg_cheque                     3.759799\n",
       "avg_num_purchases_week         3.636064\n",
       "department                     3.417408\n",
       "manufacturer                   3.278578\n",
       "avg_price                      3.125392\n",
       "n_stores_with_item             2.936284\n",
       "mean_sales_value_per_basket    2.895795\n",
       "curr_size_of_product           2.886900\n",
       "users_unique_departments       2.699973\n",
       "Last5sales                     2.691799\n",
       "n_unique_stores_with_item      2.585269\n",
       "total_user_sales_value         2.234514\n",
       "user_quantity_per_basket       2.002444\n",
       "total_item_sales_value         1.846090\n",
       "item_freq                      1.772244\n",
       "item_freq_per_basket           1.706867\n",
       "user_freq                      1.671807\n",
       "user_freq_per_basket           1.557555\n",
       "item_quantity_per_week         1.396746\n",
       "income_desc                    1.251271\n",
       "age_desc                       1.218777\n",
       "marital_status_code            1.210298\n",
       "hh_comp_desc                   0.886924\n",
       "kid_category_desc              0.841500\n",
       "homeowner_desc                 0.765670\n",
       "household_size_desc            0.556912\n",
       "brand                          0.359446"
      ]
     },
     "execution_count": 47,
     "metadata": {},
     "output_type": "execute_result"
    }
   ],
   "source": [
    "# Изучим важность признаков в модели\n",
    "fi = pd.DataFrame(ctb.feature_importances_, index=X_train.columns, columns=['importance'])\n",
    "fi.sort_values(by='importance', ascending=False)"
   ]
  },
  {
   "cell_type": "code",
   "execution_count": 48,
   "metadata": {},
   "outputs": [],
   "source": [
    "# Оценим качество построенной модели \n",
    "df_ranker_predict = df_ranker_train.copy()\n",
    "df_ranker_predict['proba_item_purchase'] = train_preds[:,1]"
   ]
  },
  {
   "cell_type": "code",
   "execution_count": 49,
   "metadata": {},
   "outputs": [],
   "source": [
    "result = data_val_ranker.groupby('user_id')['item_id'].unique().reset_index()\n",
    "result.columns=['user_id', 'actual']\n",
    "\n",
    "#Добавляем сначала предсказания (рекомендации) модели 1 уровня\n",
    "result['own_rec'] = result['user_id'].apply(lambda x: recommender.get_own_recommendations(x, N=N))"
   ]
  },
  {
   "cell_type": "markdown",
   "metadata": {},
   "source": [
    "Сделаем переранжирование рекомендаций на основе результатов классификации модели 2 уровня"
   ]
  },
  {
   "cell_type": "code",
   "execution_count": 50,
   "metadata": {},
   "outputs": [],
   "source": [
    "def rerank(user_id, N):\n",
    "    return df_ranker_predict[df_ranker_predict['user_id']==user_id].\\\n",
    "            sort_values('proba_item_purchase', ascending=False).head(N).item_id.tolist()"
   ]
  },
  {
   "cell_type": "code",
   "execution_count": 55,
   "metadata": {},
   "outputs": [
    {
     "name": "stdout",
     "output_type": "stream",
     "text": [
      "('reranked_own_rec', 0.2838502673796791)\n",
      "('uniquue_reranked_own_rec', 0.2838502673796791)\n",
      "('own_rec', 0.2621390374331551)\n",
      "('postfiltered_reranked_own_rec', 0.23679144385026737)\n"
     ]
    }
   ],
   "source": [
    "TOPK_PRECISION = 5\n",
    "\n",
    "result['reranked_own_rec'] = result['user_id'].apply(lambda user_id:\\\n",
    "                                                            rerank(user_id, N=5))\n",
    "\n",
    "# Оставляем заведомо больше ранжированных предсказаний для постфильтрации\n",
    "result['postfiltered_reranked_own_rec'] = result['user_id'].apply(lambda user_id:\\\n",
    "                                     postfilter_items(rerank(user_id, N=20), item_features = item_features, N=5))\n",
    "result['uniquue_reranked_own_rec'] = result['user_id'].apply(lambda user_id:\\\n",
    "                         make_unique_recommendations(rerank(user_id, N=20), N=5))\n",
    "\n",
    "print(*sorted(calc_precision_at_k(result, TOPK_PRECISION), key=lambda x: x[1], reverse=True), sep='\\n')"
   ]
  },
  {
   "cell_type": "markdown",
   "metadata": {},
   "source": [
    "Удалив дубликаты в df_train_ranker на этапе подготовки датасета, мы сразу получили уникальные товары, поэтому применяя фильтрацию товаров, чтобы остались только уникальные - метрика не меняется, как и товары.  \n",
    "  \n",
    "Когда мы делаем постфильтрацию товаров таким образом, чтобы каждый товар был из отдельной категории, метрика существенно падает -> постфильтрация ухудщает результат"
   ]
  },
  {
   "cell_type": "markdown",
   "metadata": {},
   "source": [
    "**Проверим, везде ли одинаковое количество рекомендаций**  \n",
    "если их кажется меньше, то необходимо будет реализовать дополнение"
   ]
  },
  {
   "cell_type": "code",
   "execution_count": 56,
   "metadata": {},
   "outputs": [],
   "source": [
    "for num, row in enumerate(result['own_rec']):\n",
    "    if len(row) != 30:\n",
    "        print(num)"
   ]
  },
  {
   "cell_type": "code",
   "execution_count": 57,
   "metadata": {},
   "outputs": [],
   "source": [
    "for num, row in enumerate(result['reranked_own_rec']):\n",
    "    if len(row) != 5:\n",
    "        print(num)"
   ]
  },
  {
   "cell_type": "markdown",
   "metadata": {},
   "source": [
    "### Оценка на тестовом наборе данных"
   ]
  },
  {
   "cell_type": "code",
   "execution_count": 59,
   "metadata": {},
   "outputs": [
    {
     "data": {
      "text/plain": [
       "(88734, 12)"
      ]
     },
     "execution_count": 59,
     "metadata": {},
     "output_type": "execute_result"
    }
   ],
   "source": [
    "df_test = pd.read_csv('data/retail_test.csv')\n",
    "df_test.shape"
   ]
  },
  {
   "cell_type": "code",
   "execution_count": 60,
   "metadata": {},
   "outputs": [],
   "source": [
    "df_test = df_test[df_test.user_id.isin(common_users)]"
   ]
  },
  {
   "cell_type": "code",
   "execution_count": 61,
   "metadata": {},
   "outputs": [],
   "source": [
    "final_test = df_test.groupby('user_id')['item_id'].unique().reset_index()\n",
    "final_test.columns=['user_id', 'actual']"
   ]
  },
  {
   "cell_type": "code",
   "execution_count": 62,
   "metadata": {},
   "outputs": [
    {
     "name": "stdout",
     "output_type": "stream",
     "text": [
      "('reranked_own_rec', 0.23681957186544345)\n",
      "('own_rec', 0.22422018348623854)\n"
     ]
    }
   ],
   "source": [
    "final_test['own_rec'] = final_test['user_id'].apply(lambda x: recommender.get_own_recommendations(x, N=N))\n",
    "final_test['reranked_own_rec'] = final_test['user_id'].apply(lambda user_id: rerank(user_id, N=5))\n",
    "\n",
    "print(*sorted(calc_precision_at_k(final_test, k), key=lambda x: x[1], reverse=True), sep='\\n')"
   ]
  },
  {
   "cell_type": "code",
   "execution_count": 63,
   "metadata": {},
   "outputs": [],
   "source": [
    "# Проверим, есть ли строки где количество предсказаний != 5\n",
    "for num, row in enumerate(final_test['reranked_own_rec']):\n",
    "    if len(row) != 5:\n",
    "        print(num)"
   ]
  },
  {
   "cell_type": "code",
   "execution_count": 64,
   "metadata": {},
   "outputs": [
    {
     "name": "stderr",
     "output_type": "stream",
     "text": [
      "/usr/local/lib/python3.8/site-packages/pandas/core/frame.py:4441: SettingWithCopyWarning: \n",
      "A value is trying to be set on a copy of a slice from a DataFrame\n",
      "\n",
      "See the caveats in the documentation: https://pandas.pydata.org/pandas-docs/stable/user_guide/indexing.html#returning-a-view-versus-a-copy\n",
      "  return super().rename(\n"
     ]
    }
   ],
   "source": [
    "# Сохраним рекомендации\n",
    "recommendations = final_test[['user_id', 'reranked_own_rec']]\n",
    "recommendations.rename(columns = {'reranked_own_rec' : 'recommendations'}, inplace = True)"
   ]
  },
  {
   "cell_type": "code",
   "execution_count": 65,
   "metadata": {},
   "outputs": [
    {
     "data": {
      "text/html": [
       "<div>\n",
       "<style scoped>\n",
       "    .dataframe tbody tr th:only-of-type {\n",
       "        vertical-align: middle;\n",
       "    }\n",
       "\n",
       "    .dataframe tbody tr th {\n",
       "        vertical-align: top;\n",
       "    }\n",
       "\n",
       "    .dataframe thead th {\n",
       "        text-align: right;\n",
       "    }\n",
       "</style>\n",
       "<table border=\"1\" class=\"dataframe\">\n",
       "  <thead>\n",
       "    <tr style=\"text-align: right;\">\n",
       "      <th></th>\n",
       "      <th>user_id</th>\n",
       "      <th>recommendations</th>\n",
       "    </tr>\n",
       "  </thead>\n",
       "  <tbody>\n",
       "    <tr>\n",
       "      <th>0</th>\n",
       "      <td>1</td>\n",
       "      <td>[5577022, 8293439, 10149640, 9527558, 9655212]</td>\n",
       "    </tr>\n",
       "    <tr>\n",
       "      <th>1</th>\n",
       "      <td>6</td>\n",
       "      <td>[1098844, 1024306, 6548453, 878996, 1029743]</td>\n",
       "    </tr>\n",
       "  </tbody>\n",
       "</table>\n",
       "</div>"
      ],
      "text/plain": [
       "   user_id                                 recommendations\n",
       "0        1  [5577022, 8293439, 10149640, 9527558, 9655212]\n",
       "1        6    [1098844, 1024306, 6548453, 878996, 1029743]"
      ]
     },
     "execution_count": 65,
     "metadata": {},
     "output_type": "execute_result"
    }
   ],
   "source": [
    "recommendations.to_csv('recommendations.csv', index=False)\n",
    "recommendations.head(2)"
   ]
  },
  {
   "cell_type": "code",
   "execution_count": null,
   "metadata": {},
   "outputs": [],
   "source": []
  }
 ],
 "metadata": {
  "kernelspec": {
   "display_name": "Python 3",
   "language": "python",
   "name": "python3"
  },
  "language_info": {
   "codemirror_mode": {
    "name": "ipython",
    "version": 3
   },
   "file_extension": ".py",
   "mimetype": "text/x-python",
   "name": "python",
   "nbconvert_exporter": "python",
   "pygments_lexer": "ipython3",
   "version": "3.8.6"
  }
 },
 "nbformat": 4,
 "nbformat_minor": 5
}
