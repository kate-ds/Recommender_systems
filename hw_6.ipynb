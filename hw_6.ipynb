{
 "cells": [
  {
   "cell_type": "markdown",
   "metadata": {},
   "source": [
    "# Вебинар 6. Двухуровневые модели рекомендаций\n"
   ]
  },
  {
   "cell_type": "markdown",
   "metadata": {},
   "source": [
    "Код для src, utils, metrics вы можете скачать из [этого](https://github.com/geangohn/recsys-tutorial) github репозитория"
   ]
  },
  {
   "cell_type": "code",
   "execution_count": 1,
   "metadata": {},
   "outputs": [],
   "source": [
    "import pandas as pd\n",
    "import numpy as np\n",
    "import matplotlib.pyplot as plt\n",
    "%matplotlib inline\n",
    "\n",
    "# Для работы с матрицами\n",
    "from scipy.sparse import csr_matrix\n",
    "\n",
    "# Матричная факторизация\n",
    "from implicit import als\n",
    "\n",
    "# Модель второго уровня\n",
    "from lightgbm import LGBMClassifier\n",
    "\n",
    "import os, sys\n",
    "module_path = os.path.abspath(os.path.join(os.pardir))\n",
    "if module_path not in sys.path:\n",
    "    sys.path.append(module_path)\n",
    "\n",
    "# Написанные нами функции\n",
    "from src.metrics import precision_at_k, recall_at_k\n",
    "from src.utils import prefilter_items\n",
    "from src.recommenders_prepared import MainRecommender"
   ]
  },
  {
   "cell_type": "code",
   "execution_count": 2,
   "outputs": [
    {
     "data": {
      "text/plain": "   user_id    basket_id  day  item_id  quantity  sales_value  store_id  \\\n0     2375  26984851472    1  1004906         1         1.39       364   \n1     2375  26984851472    1  1033142         1         0.82       364   \n\n   retail_disc  trans_time  week_no  coupon_disc  coupon_match_disc  \n0         -0.6        1631        1          0.0                0.0  \n1          0.0        1631        1          0.0                0.0  ",
      "text/html": "<div>\n<style scoped>\n    .dataframe tbody tr th:only-of-type {\n        vertical-align: middle;\n    }\n\n    .dataframe tbody tr th {\n        vertical-align: top;\n    }\n\n    .dataframe thead th {\n        text-align: right;\n    }\n</style>\n<table border=\"1\" class=\"dataframe\">\n  <thead>\n    <tr style=\"text-align: right;\">\n      <th></th>\n      <th>user_id</th>\n      <th>basket_id</th>\n      <th>day</th>\n      <th>item_id</th>\n      <th>quantity</th>\n      <th>sales_value</th>\n      <th>store_id</th>\n      <th>retail_disc</th>\n      <th>trans_time</th>\n      <th>week_no</th>\n      <th>coupon_disc</th>\n      <th>coupon_match_disc</th>\n    </tr>\n  </thead>\n  <tbody>\n    <tr>\n      <th>0</th>\n      <td>2375</td>\n      <td>26984851472</td>\n      <td>1</td>\n      <td>1004906</td>\n      <td>1</td>\n      <td>1.39</td>\n      <td>364</td>\n      <td>-0.6</td>\n      <td>1631</td>\n      <td>1</td>\n      <td>0.0</td>\n      <td>0.0</td>\n    </tr>\n    <tr>\n      <th>1</th>\n      <td>2375</td>\n      <td>26984851472</td>\n      <td>1</td>\n      <td>1033142</td>\n      <td>1</td>\n      <td>0.82</td>\n      <td>364</td>\n      <td>0.0</td>\n      <td>1631</td>\n      <td>1</td>\n      <td>0.0</td>\n      <td>0.0</td>\n    </tr>\n  </tbody>\n</table>\n</div>"
     },
     "execution_count": 2,
     "metadata": {},
     "output_type": "execute_result"
    }
   ],
   "source": [
    "data = pd.read_csv('retail_train.csv')\n",
    "item_features = pd.read_csv('product.csv')\n",
    "user_features = pd.read_csv('hh_demographic.csv')\n",
    "\n",
    "# column processing\n",
    "item_features.columns = [col.lower() for col in item_features.columns]\n",
    "user_features.columns = [col.lower() for col in user_features.columns]\n",
    "\n",
    "item_features.rename(columns={'product_id': 'item_id'}, inplace=True)\n",
    "user_features.rename(columns={'household_key': 'user_id'}, inplace=True)\n",
    "\n",
    "\n",
    "# Важна схема обучения и валидации!\n",
    "# -- давние покупки -- | -- 6 недель -- | -- 3 недель -- \n",
    "# подобрать размер 2-ого датасета (6 недель) --> learning curve (зависимость метрики recall@k от размера датасета)\n",
    "val_lvl_1_size_weeks = 6\n",
    "val_lvl_2_size_weeks = 3\n",
    "\n",
    "data_train_lvl_1 = data[data['week_no'] < data['week_no'].max() - (val_lvl_1_size_weeks + val_lvl_2_size_weeks)]\n",
    "data_val_lvl_1 = data[(data['week_no'] >= data['week_no'].max() - (val_lvl_1_size_weeks + val_lvl_2_size_weeks)) &\n",
    "                      (data['week_no'] < data['week_no'].max() - (val_lvl_2_size_weeks))]\n",
    "\n",
    "data_train_lvl_2 = data_val_lvl_1.copy()  # Для наглядности. Далее мы добавим изменения, и они будут отличаться\n",
    "data_val_lvl_2 = data[data['week_no'] >= data['week_no'].max() - val_lvl_2_size_weeks]\n",
    "\n",
    "# Warm start - берем только те user_id, которые есть в train\n",
    "data_val_lvl_1 = data_val_lvl_1[data_val_lvl_1['user_id'].isin(data_train_lvl_1['user_id'])]\n",
    "\n",
    "data_train_lvl_1.head(2)"
   ],
   "metadata": {
    "collapsed": false,
    "pycharm": {
     "name": "#%%\n"
    }
   }
  },
  {
   "cell_type": "code",
   "execution_count": 3,
   "metadata": {},
   "outputs": [
    {
     "name": "stdout",
     "output_type": "stream",
     "text": [
      "Decreased # items from 83685 to 5001\n"
     ]
    }
   ],
   "source": [
    "n_items_before = data_train_lvl_1['item_id'].nunique()\n",
    "\n",
    "data_train_lvl_1 = prefilter_items(data_train_lvl_1, item_features=item_features, take_n_popular=5000)\n",
    "\n",
    "n_items_after = data_train_lvl_1['item_id'].nunique()\n",
    "print('Decreased # items from {} to {}'.format(n_items_before, n_items_after))"
   ]
  },
  {
   "cell_type": "code",
   "execution_count": 4,
   "metadata": {},
   "outputs": [
    {
     "name": "stderr",
     "output_type": "stream",
     "text": [
      "WARNING:root:OpenBLAS detected. Its highly recommend to set the environment variable 'export OPENBLAS_NUM_THREADS=1' to disable its internal multithreading\n"
     ]
    },
    {
     "data": {
      "text/plain": "  0%|          | 0/15 [00:00<?, ?it/s]",
      "application/vnd.jupyter.widget-view+json": {
       "version_major": 2,
       "version_minor": 0,
       "model_id": "b6eca7aeecee4949bfd982586d86bd5c"
      }
     },
     "metadata": {},
     "output_type": "display_data"
    },
    {
     "data": {
      "text/plain": "  0%|          | 0/5001 [00:00<?, ?it/s]",
      "application/vnd.jupyter.widget-view+json": {
       "version_major": 2,
       "version_minor": 0,
       "model_id": "1de3c94ef6d146b68e59d8fbd0021b49"
      }
     },
     "metadata": {},
     "output_type": "display_data"
    }
   ],
   "source": [
    "recommender = MainRecommender(data_train_lvl_1)"
   ]
  },
  {
   "cell_type": "code",
   "execution_count": 5,
   "metadata": {},
   "outputs": [
    {
     "data": {
      "text/plain": "[899624,\n 1044078,\n 871756,\n 844179,\n 5569230,\n 8090537,\n 1046545,\n 1106523,\n 883932,\n 832678,\n 823704,\n 5569845,\n 944534,\n 865456,\n 1000753,\n 1004906,\n 1004390,\n 6534480,\n 1051323,\n 8090521,\n 12301839,\n 854852,\n 9836106,\n 965267,\n 925862,\n 999714,\n 8065410,\n 965766,\n 1081177,\n 1092937,\n 5585510,\n 850102,\n 823990,\n 1022428,\n 1097458,\n 9835223,\n 896862,\n 1116376,\n 963727,\n 865528,\n 8090539,\n 832442,\n 1029743,\n 879504,\n 1068719,\n 937292,\n 999270,\n 1134678,\n 828106,\n 861279,\n 12262978,\n 6534578,\n 952163,\n 1133312,\n 8090509,\n 999858,\n 841220,\n 870547,\n 5568378,\n 863447,\n 1059902,\n 947858,\n 896613,\n 12302069,\n 1070702,\n 5568197,\n 1096573,\n 835530,\n 999779,\n 1001702,\n 847790,\n 1056509,\n 5568995,\n 888543,\n 1021324,\n 1009770,\n 1025535,\n 848029,\n 998239,\n 874972,\n 825343,\n 9832469,\n 838186,\n 1038663,\n 12301109,\n 845208,\n 1000736,\n 856827,\n 6534077,\n 827919,\n 1096635,\n 1042907,\n 995896,\n 12731714,\n 1131344,\n 902172,\n 956599,\n 940090,\n 938138,\n 1099905,\n 883068,\n 998556,\n 862799,\n 12352293,\n 12301100,\n 5570048,\n 1037863,\n 1079067,\n 910032,\n 7441873,\n 869322,\n 973181,\n 1138467,\n 935578,\n 819255,\n 824180,\n 12731544,\n 1094833,\n 989069,\n 930666,\n 12731517,\n 836445,\n 830304,\n 829138,\n 1092885,\n 1002850,\n 9835903,\n 948650,\n 880150,\n 15926886,\n 939900,\n 951190,\n 1107420,\n 1103691,\n 1026984,\n 1116589,\n 850925,\n 1003616,\n 12330376,\n 1006878,\n 1100972,\n 895311,\n 1042942,\n 1022254,\n 913278,\n 1123146,\n 5568721,\n 839818,\n 1102207,\n 850139,\n 993638,\n 1137284,\n 990797,\n 866025,\n 835300,\n 12262778,\n 1102879,\n 1012587,\n 7442008,\n 949965,\n 12810391,\n 826666,\n 1041796,\n 9835947,\n 9836195,\n 1017369,\n 1051516,\n 986912,\n 1042438,\n 942525,\n 1081262,\n 982393,\n 890739,\n 835618,\n 1092176,\n 1119454,\n 7441210,\n 972143,\n 898068,\n 956274,\n 916122,\n 837304,\n 1068292,\n 878285,\n 12731685,\n 991592,\n 9245106,\n 940023,\n 866211,\n 1136486,\n 12731432,\n 7166862,\n 896085,\n 5570408,\n 1033046,\n 820582,\n 6463729,\n 1057843,\n 977658,\n 933067]"
     },
     "execution_count": 5,
     "metadata": {},
     "output_type": "execute_result"
    }
   ],
   "source": [
    "recommender.get_als_recommendations(2375, N=200)"
   ]
  },
  {
   "cell_type": "code",
   "execution_count": 6,
   "metadata": {},
   "outputs": [
    {
     "data": {
      "text/plain": "[948640,\n 918046,\n 847962,\n 907099,\n 873980,\n 884694,\n 10285454,\n 1107760,\n 7169090,\n 979674,\n 10308345,\n 1069531,\n 974766,\n 1015474,\n 950935,\n 847066,\n 1102207,\n 1020770,\n 9521787,\n 974265,\n 940996,\n 8019845,\n 5567194,\n 12811490,\n 1003616,\n 973181,\n 890719,\n 982955,\n 9677152,\n 998519,\n 1072685,\n 1131382,\n 1021715,\n 12263119,\n 960791,\n 7441873,\n 986021,\n 956666,\n 1038692,\n 9677748,\n 9297223,\n 927030,\n 12757653,\n 1046919,\n 6391532,\n 989069,\n 1068451,\n 951954,\n 835300,\n 937343,\n 1047249,\n 13876348,\n 1061732,\n 981601,\n 1121028,\n 1087547,\n 828393,\n 996269,\n 951951,\n 1036093,\n 1023815,\n 5570408,\n 827667,\n 1082454,\n 1006878,\n 5570048,\n 841309,\n 1078652,\n 1115553,\n 1056492,\n 1138467,\n 1004945,\n 947858,\n 1092885,\n 1121694,\n 938138,\n 8019916,\n 827919,\n 984315,\n 10341855,\n 883932,\n 8291322,\n 1096794,\n 1028938,\n 1087618,\n 8020166,\n 1082185,\n 866871,\n 930666,\n 825994,\n 910151,\n 823990,\n 848029,\n 896613,\n 12301839,\n 1117219,\n 1135258,\n 869868,\n 1046545,\n 899624,\n 6442594,\n 1137775,\n 825343,\n 1042907,\n 828106,\n 9245106,\n 947412,\n 902172,\n 8065410,\n 6034857,\n 1043751,\n 863447,\n 823704,\n 908318,\n 1105488,\n 874972,\n 7024847,\n 1081177,\n 1044078,\n 878996,\n 5707857,\n 916122,\n 1029743,\n 1106523,\n 5569230,\n 916122,\n 844179,\n 1044078,\n 1126899,\n 1070820,\n 1127831,\n 866211,\n 8090521,\n 878996,\n 8090537,\n 5569471,\n 1004906,\n 854852,\n 899624,\n 986912,\n 933835,\n 1075368,\n 1081177,\n 6034857,\n 5585510,\n 965267,\n 834117,\n 940947,\n 983584,\n 12810393,\n 913210,\n 874972,\n 5569845,\n 5568378,\n 999858,\n 908318,\n 985999,\n 901062,\n 1040807,\n 1018740,\n 951412,\n 1101010,\n 1105488,\n 1037840,\n 880150,\n 1043751,\n 857503,\n 1122358,\n 1132771,\n 823704,\n 854405,\n 909714,\n 993638,\n 930118,\n 839419,\n 971922,\n 910032,\n 863447,\n 835098,\n 865456,\n 976199,\n 12301109,\n 1070702,\n 5569374,\n 8090532,\n 872137,\n 883003,\n 1023720,\n 1012587,\n 1000753,\n 893018,\n 1024306,\n 897954,\n 1042438,\n 907631,\n 5568729,\n 1068719,\n 1137775,\n 1087102,\n 944534]"
     },
     "execution_count": 6,
     "metadata": {},
     "output_type": "execute_result"
    }
   ],
   "source": [
    "recommender.get_own_recommendations(2375, N=200)"
   ]
  },
  {
   "cell_type": "code",
   "execution_count": 7,
   "metadata": {},
   "outputs": [
    {
     "data": {
      "text/plain": "[1046545,\n 1044078,\n 937292,\n 842125,\n 15778319,\n 1051323,\n 999104,\n 12810466,\n 885863,\n 1025535,\n 863447,\n 878996,\n 906923,\n 871611,\n 999714,\n 919681,\n 828106,\n 933835,\n 1021522,\n 1086384,\n 1070702,\n 999104,\n 958594,\n 12301100,\n 899624,\n 1121028,\n 891752,\n 823721,\n 985999,\n 1023815,\n 896862,\n 1068719,\n 1000753,\n 1086740,\n 928342,\n 993912,\n 918994,\n 1055503,\n 1022428,\n 1021139,\n 5574358,\n 916122,\n 839152,\n 6464180,\n 1065538,\n 936753,\n 947201,\n 858001,\n 8065410,\n 1056005,\n 1053754,\n 960732,\n 8020234,\n 7441210,\n 904574,\n 1069312,\n 995896,\n 828106,\n 883068,\n 1105488,\n 1022254,\n 825343,\n 1120559,\n 1137688,\n 899459,\n 819400,\n 8090537,\n 882247,\n 5568378,\n 948650,\n 884103,\n 12262778,\n 1098435,\n 969941,\n 1089025,\n 969945,\n 1093490,\n 1008799,\n 5568378,\n 9296821,\n 937292,\n 12301109,\n 1055503,\n 12132277,\n 7410320,\n 858999,\n 5568489,\n 1139142,\n 839818,\n 902172,\n 908236,\n 13072850,\n 999625,\n 862010,\n 1048507,\n 1004945,\n 9553288,\n 937292,\n 885863,\n 1087547,\n 1008799,\n 1065167,\n 8011291,\n 951855,\n 7025046,\n 824758,\n 999999,\n 933637,\n 9526411,\n 13382327,\n 5568995,\n 9835408,\n 1035207,\n 878996,\n 7441419,\n 9521787,\n 911454,\n 866878,\n 845307,\n 990335,\n 919766,\n 907631,\n 889223,\n 1029743,\n 1106523,\n 5569230,\n 916122,\n 844179,\n 1044078,\n 1126899,\n 1070820,\n 1127831,\n 866211,\n 8090521,\n 878996,\n 8090537,\n 5569471,\n 1004906,\n 854852,\n 899624,\n 986912,\n 933835,\n 1075368,\n 1081177,\n 6034857,\n 5585510,\n 965267,\n 834117,\n 940947,\n 983584,\n 12810393,\n 913210,\n 874972,\n 5569845,\n 5568378,\n 999858,\n 908318,\n 985999,\n 901062,\n 1040807,\n 1018740,\n 951412,\n 1101010,\n 1105488,\n 1037840,\n 880150,\n 1043751,\n 857503,\n 1122358,\n 1132771,\n 823704,\n 854405,\n 909714,\n 993638,\n 930118,\n 839419,\n 971922,\n 910032,\n 863447,\n 835098,\n 865456,\n 976199,\n 12301109,\n 1070702,\n 5569374,\n 8090532,\n 872137,\n 883003,\n 1023720,\n 1012587,\n 1000753,\n 893018,\n 1024306,\n 897954,\n 1042438,\n 907631,\n 5568729,\n 1068719,\n 1137775,\n 1087102]"
     },
     "execution_count": 7,
     "metadata": {},
     "output_type": "execute_result"
    }
   ],
   "source": [
    "recommender.get_similar_items_recommendation(2375, N=200)"
   ]
  },
  {
   "cell_type": "code",
   "execution_count": 8,
   "metadata": {},
   "outputs": [
    {
     "data": {
      "text/plain": "[1096573,\n 935578,\n 1133654,\n 835618,\n 1015474,\n 949345,\n 7082640,\n 993838,\n 8090612,\n 977559,\n 1088771,\n 8090542,\n 1097398,\n 894360,\n 1115069,\n 825317,\n 1008288,\n 8090956,\n 8019902,\n 7146026,\n 861494,\n 992650,\n 918046,\n 1040416,\n 1138596,\n 6533936,\n 1081533,\n 847962,\n 1134296,\n 950935,\n 7160764,\n 1087411,\n 908314,\n 938165,\n 9859017,\n 902377,\n 1096573,\n 1056212,\n 1069256,\n 1074040,\n 10204149,\n 937110,\n 13007846,\n 1021519,\n 1107760,\n 928749,\n 875392,\n 918638,\n 943522,\n 1028891,\n 884694,\n 875089,\n 891632,\n 870515,\n 1075765,\n 835351,\n 9553335,\n 842423,\n 875089,\n 869868,\n 872066,\n 884089,\n 949257,\n 988736,\n 822970,\n 6904613,\n 821741,\n 847962,\n 935578,\n 1075765,\n 841365,\n 977374,\n 1116253,\n 1055403,\n 1132956,\n 1029549,\n 1102207,\n 1080888,\n 995408,\n 1134006,\n 1138596,\n 1039360,\n 1065259,\n 1055403,\n 918638,\n 875089,\n 1069256,\n 929410,\n 854133,\n 1096573,\n 839208,\n 898121,\n 1083043,\n 985605,\n 875392,\n 5568072,\n 820011,\n 962967,\n 1086740,\n 993838,\n 7160764,\n 841236,\n 958067,\n 927277,\n 8090550,\n 1052294,\n 967994,\n 1088771,\n 1080867,\n 1060292,\n 1072917,\n 869868,\n 947412,\n 1057168,\n 6534078,\n 879734,\n 854133,\n 835988,\n 8090508,\n 8090956,\n 988697,\n 937110,\n 5563693,\n 928749,\n 9392700,\n 1087411,\n 835578,\n 1069039,\n 894360,\n 963194,\n 1064002,\n 1082212,\n 920191,\n 7147145,\n 949345,\n 939860,\n 820486,\n 918638,\n 1086061,\n 6533236,\n 1057749,\n 882489,\n 1105426,\n 864335,\n 924667,\n 1092937,\n 841365,\n 936117,\n 1138631,\n 1002787,\n 872826,\n 908314,\n 820486,\n 1038745,\n 988697,\n 1775642,\n 901976,\n 873324,\n 1100379,\n 9487613,\n 879922,\n 10198378,\n 1037135,\n 10198378,\n 902377,\n 5574377,\n 942045,\n 1092588,\n 1027216,\n 7160764,\n 997796,\n 1057168,\n 1056212,\n 837495,\n 1052294,\n 971474,\n 956125,\n 8020166,\n 869322,\n 1094744,\n 871514,\n 985605,\n 1037840,\n 1065259,\n 844179,\n 973016,\n 1049922,\n 911614,\n 841236,\n 1076187,\n 1107760,\n 1075765,\n 928749,\n 8090539,\n 1134296,\n 841236,\n 918046,\n 1128163,\n 8090560,\n 820582]"
     },
     "execution_count": 8,
     "metadata": {},
     "output_type": "execute_result"
    }
   ],
   "source": [
    "recommender.get_similar_users_recommendation(2375, N=200)"
   ]
  },
  {
   "cell_type": "markdown",
   "metadata": {},
   "source": [
    "### Задание 1\n",
    "\n",
    "A) Попробуйте различные варианты генерации кандидатов. Какие из них дают наибольший recall@k ?\n",
    "- Пока пробуем отобрать 200 кандидатов (k=200)\n",
    "- Качество измеряем на data_val_lvl_1: следующие 6 недель после трейна\n",
    "\n",
    "Дают ли own recommendtions + top-popular лучший recall?  \n",
    "\n",
    "B)* Как зависит recall@k от k? Постройте для одной схемы генерации кандидатов эту зависимость для k = {20, 50, 100, 200, 500}  \n",
    "C)* Исходя из прошлого вопроса, как вы думаете, какое значение k является наиболее разумным?\n"
   ]
  },
  {
   "cell_type": "code",
   "execution_count": 11,
   "metadata": {},
   "outputs": [
    {
     "data": {
      "text/plain": "   user_id                                             actual\n0        1  [853529, 865456, 867607, 872137, 874905, 87524...\n1        2  [15830248, 838136, 839656, 861272, 866211, 870...",
      "text/html": "<div>\n<style scoped>\n    .dataframe tbody tr th:only-of-type {\n        vertical-align: middle;\n    }\n\n    .dataframe tbody tr th {\n        vertical-align: top;\n    }\n\n    .dataframe thead th {\n        text-align: right;\n    }\n</style>\n<table border=\"1\" class=\"dataframe\">\n  <thead>\n    <tr style=\"text-align: right;\">\n      <th></th>\n      <th>user_id</th>\n      <th>actual</th>\n    </tr>\n  </thead>\n  <tbody>\n    <tr>\n      <th>0</th>\n      <td>1</td>\n      <td>[853529, 865456, 867607, 872137, 874905, 87524...</td>\n    </tr>\n    <tr>\n      <th>1</th>\n      <td>2</td>\n      <td>[15830248, 838136, 839656, 861272, 866211, 870...</td>\n    </tr>\n  </tbody>\n</table>\n</div>"
     },
     "execution_count": 11,
     "metadata": {},
     "output_type": "execute_result"
    }
   ],
   "source": [
    "result_lvl_1 = data_val_lvl_1.groupby('user_id')['item_id'].unique().reset_index()\n",
    "result_lvl_1.columns=['user_id', 'actual']\n",
    "\n",
    "result_lvl_1 = result_lvl_1.loc[result_lvl_1['user_id'] != 296]\n",
    "result_lvl_1 = result_lvl_1.loc[result_lvl_1['user_id'] != 1813]\n",
    "\n",
    "result_lvl_1.head(2)"
   ]
  },
  {
   "cell_type": "code",
   "execution_count": 12,
   "metadata": {},
   "outputs": [
    {
     "name": "stdout",
     "output_type": "stream",
     "text": [
      "CPU times: user 44min 12s, sys: 3min 19s, total: 47min 32s\n",
      "Wall time: 45min 26s\n"
     ]
    },
    {
     "data": {
      "text/plain": "   user_id                                             actual  \\\n0        1  [853529, 865456, 867607, 872137, 874905, 87524...   \n1        2  [15830248, 838136, 839656, 861272, 866211, 870...   \n2        4  [883932, 970760, 1035676, 1055863, 1097610, 67...   \n3        6  [1024306, 1102949, 6548453, 835394, 940804, 96...   \n\n                                                 als  \\\n0  [1082212, 13008334, 5577022, 856942, 912704, 8...   \n1  [5569230, 6534480, 5569845, 919534, 5570048, 8...   \n2  [891423, 944588, 1082212, 982790, 6391541, 846...   \n3  [951834, 878996, 1084036, 1026118, 965267, 857...   \n\n                                                 own  \\\n0  [856942, 9297615, 5577022, 877391, 9655212, 88...   \n1  [911974, 1076580, 1103898, 5567582, 1056620, 9...   \n2  [6391541, 1052294, 891423, 936470, 1137010, 11...   \n3  [13003092, 972416, 995598, 923600, 1138596, 10...   \n\n                                       similar_items  \\\n0  [1088387, 826597, 9297615, 5577022, 9297191, 9...   \n1  [8090509, 5569845, 1044078, 985999, 880888, 81...   \n2  [1099446, 846550, 1111786, 999714, 821741, 854...   \n3  [948650, 5569845, 819308, 941361, 1074754, 110...   \n\n                                       similar_users  \\\n0  [1010578, 1126045, 12487154, 7024847, 5564850,...   \n1  [9419422, 971474, 1054402, 8293439, 942045, 10...   \n2  [8357825, 1095393, 862535, 906202, 9365106, 10...   \n3  [7442505, 1015280, 948640, 1113675, 1025650, 9...   \n\n                                       100own_100top  \n0  [856942, 9297615, 5577022, 877391, 9655212, 88...  \n1  [911974, 1076580, 1103898, 5567582, 1056620, 9...  \n2  [6391541, 1052294, 891423, 936470, 1137010, 11...  \n3  [13003092, 972416, 995598, 923600, 1138596, 10...  ",
      "text/html": "<div>\n<style scoped>\n    .dataframe tbody tr th:only-of-type {\n        vertical-align: middle;\n    }\n\n    .dataframe tbody tr th {\n        vertical-align: top;\n    }\n\n    .dataframe thead th {\n        text-align: right;\n    }\n</style>\n<table border=\"1\" class=\"dataframe\">\n  <thead>\n    <tr style=\"text-align: right;\">\n      <th></th>\n      <th>user_id</th>\n      <th>actual</th>\n      <th>als</th>\n      <th>own</th>\n      <th>similar_items</th>\n      <th>similar_users</th>\n      <th>100own_100top</th>\n    </tr>\n  </thead>\n  <tbody>\n    <tr>\n      <th>0</th>\n      <td>1</td>\n      <td>[853529, 865456, 867607, 872137, 874905, 87524...</td>\n      <td>[1082212, 13008334, 5577022, 856942, 912704, 8...</td>\n      <td>[856942, 9297615, 5577022, 877391, 9655212, 88...</td>\n      <td>[1088387, 826597, 9297615, 5577022, 9297191, 9...</td>\n      <td>[1010578, 1126045, 12487154, 7024847, 5564850,...</td>\n      <td>[856942, 9297615, 5577022, 877391, 9655212, 88...</td>\n    </tr>\n    <tr>\n      <th>1</th>\n      <td>2</td>\n      <td>[15830248, 838136, 839656, 861272, 866211, 870...</td>\n      <td>[5569230, 6534480, 5569845, 919534, 5570048, 8...</td>\n      <td>[911974, 1076580, 1103898, 5567582, 1056620, 9...</td>\n      <td>[8090509, 5569845, 1044078, 985999, 880888, 81...</td>\n      <td>[9419422, 971474, 1054402, 8293439, 942045, 10...</td>\n      <td>[911974, 1076580, 1103898, 5567582, 1056620, 9...</td>\n    </tr>\n    <tr>\n      <th>2</th>\n      <td>4</td>\n      <td>[883932, 970760, 1035676, 1055863, 1097610, 67...</td>\n      <td>[891423, 944588, 1082212, 982790, 6391541, 846...</td>\n      <td>[6391541, 1052294, 891423, 936470, 1137010, 11...</td>\n      <td>[1099446, 846550, 1111786, 999714, 821741, 854...</td>\n      <td>[8357825, 1095393, 862535, 906202, 9365106, 10...</td>\n      <td>[6391541, 1052294, 891423, 936470, 1137010, 11...</td>\n    </tr>\n    <tr>\n      <th>3</th>\n      <td>6</td>\n      <td>[1024306, 1102949, 6548453, 835394, 940804, 96...</td>\n      <td>[951834, 878996, 1084036, 1026118, 965267, 857...</td>\n      <td>[13003092, 972416, 995598, 923600, 1138596, 10...</td>\n      <td>[948650, 5569845, 819308, 941361, 1074754, 110...</td>\n      <td>[7442505, 1015280, 948640, 1113675, 1025650, 9...</td>\n      <td>[13003092, 972416, 995598, 923600, 1138596, 10...</td>\n    </tr>\n  </tbody>\n</table>\n</div>"
     },
     "execution_count": 12,
     "metadata": {},
     "output_type": "execute_result"
    }
   ],
   "source": [
    "%%time\n",
    "# топ-100 популярных товаров\n",
    "top_100 = recommender.top_purchases.head(100).item_id.to_list()\n",
    "# userids: 296, 1813\n",
    "result_lvl_1['als'] = result_lvl_1['user_id'].apply(lambda x: recommender.get_als_recommendations(x, N=200))\n",
    "result_lvl_1['own'] = result_lvl_1['user_id'].apply(lambda x: recommender.get_own_recommendations(x, N=200))\n",
    "result_lvl_1['similar_items'] = result_lvl_1['user_id'].apply(lambda x: recommender.get_similar_items_recommendation(x, N=200))\n",
    "result_lvl_1['similar_users'] = result_lvl_1['user_id'].apply(lambda x: recommender.get_similar_users_recommendation(x, N=200))\n",
    "\n",
    "result_lvl_1['100own_100top'] = result_lvl_1['user_id'].apply(lambda x: recommender.get_own_recommendations(x, N=100)\n",
    "                                                                        + top_100)\n",
    "\n",
    "result_lvl_1.head(4)"
   ]
  },
  {
   "cell_type": "code",
   "execution_count": 13,
   "outputs": [
    {
     "name": "stdout",
     "output_type": "stream",
     "text": [
      "actual - recall_at_5: 0.9947282436174922\n",
      "als - recall_at_5: 0.0990182255391956\n",
      "own - recall_at_5: 0.13537278412833254\n",
      "similar_items - recall_at_5: 0.08635218331530341\n",
      "similar_users - recall_at_5: 0.016233089253707395\n",
      "100own_100top - recall_at_5: 0.10751997969046655\n"
     ]
    }
   ],
   "source": [
    "for column in result_lvl_1.columns[1:]:\n",
    "    recall = result_lvl_1.apply(lambda x: recall_at_k(x[column], x['actual'], k=200), axis=1).mean()\n",
    "    print(f'{column} - recall_at_5: {recall}')"
   ],
   "metadata": {
    "collapsed": false,
    "pycharm": {
     "name": "#%%\n"
    }
   }
  },
  {
   "cell_type": "code",
   "execution_count": 16,
   "outputs": [
    {
     "data": {
      "text/plain": "[0.030101422524280996,\n 0.04944923140953381,\n 0.07056247763595297,\n 0.0990182255391956,\n 0.11864667611451837,\n 0.13455022788080945,\n 0.14704436184801561]"
     },
     "execution_count": 16,
     "metadata": {},
     "output_type": "execute_result"
    }
   ],
   "source": [
    "n_candidats = [20, 50, 100, 200, 300, 400, 500]\n",
    "recalls = []\n",
    "for n in n_candidats:\n",
    "    result_lvl_1[f'als_{n}'] = result_lvl_1['user_id'].apply(lambda x: recommender.get_als_recommendations(x, N=n))\n",
    "    recall = result_lvl_1.apply(lambda x: recall_at_k(x[f'als_{n}'], x['actual'], k=n), axis=1).mean()\n",
    "    recalls.append(recall)\n",
    "\n",
    "recalls"
   ],
   "metadata": {
    "collapsed": false,
    "pycharm": {
     "name": "#%%\n"
    }
   }
  },
  {
   "cell_type": "code",
   "execution_count": 17,
   "outputs": [
    {
     "data": {
      "text/plain": "<Figure size 864x504 with 1 Axes>",
      "image/png": "[encoded data removed]"
     },
     "metadata": {
      "needs_background": "light"
     },
     "output_type": "display_data"
    }
   ],
   "source": [
    "plt.figure(figsize = (12, 7))\n",
    "\n",
    "plt.title('Recall dependency from the number of candidates', size=20)\n",
    "\n",
    "plt.plot(n_candidats, recalls, label='mean', linestyle='solid', linewidth=4, color='#e36414')\n",
    "\n",
    "plt.xlabel('N_candidates')\n",
    "plt.ylabel('recall@k')\n",
    "plt.show()"
   ],
   "metadata": {
    "collapsed": false,
    "pycharm": {
     "name": "#%%\n"
    }
   }
  },
  {
   "cell_type": "markdown",
   "source": [
    "Для эксперимента использована модель ALS. На графике видно, что с ростом числа кандидатов recall возрастает, и среди выбранных значений N, 500 кандидатов дает самую высокую метрику. При 500 кандидатах модель второго уровня будет работать медленнее, но более эффективно, по-этому, лучше взять это значение."
   ],
   "metadata": {
    "collapsed": false,
    "pycharm": {
     "name": "#%% md\n"
    }
   }
  },
  {
   "cell_type": "markdown",
   "metadata": {},
   "source": [
    "### Задание 2.\n",
    "\n",
    "Обучите модель 2-ого уровня, при этом:\n",
    "    - Добавьте минимум по 2 фичи для юзера, товара и пары юзер-товар\n",
    "    - Измерьте отдельно precision@5 модели 1-ого уровня и двухуровневой модели на data_val_lvl_2\n",
    "    - Вырос ли precision@5 при использовании двухуровневой модели?"
   ]
  },
  {
   "cell_type": "code",
   "execution_count": null,
   "metadata": {},
   "outputs": [],
   "source": [
    "# your_code"
   ]
  },
  {
   "cell_type": "markdown",
   "metadata": {},
   "source": [
    "### Финальный проект\n",
    "\n",
    "Мы уже прошли всю необходимую теорию для финального проекта. Проект осуществляется на данных из вебинара (данные считаны в начале ДЗ).\n",
    "Рекомендуем вам **начать делать проект сразу после этого домашнего задания**\n",
    "- Целевая метрика - money precision@5. Порог для уcпешной сдачи проекта money precision@5 > 20%\n",
    "\n",
    "Бизнес ограничения в топ-5 товарах:\n",
    "- Для каждого юзера 5 рекомендаций (иногда модели могут возвращать < 5)\n",
    "- **2 новых товара** (юзер никогда не покупал)\n",
    "- **1 дорогой товар, > 7 долларов**\n",
    "- **Все товары из разных категорий** (категория - department)  \n",
    "- **Стоимость каждого рекомендованного товара > 1 доллара**  \n",
    "\n",
    "- Будет public тестовый датасет, на котором вы сможете измерять метрику\n",
    "- Также будет private тестовый датасет для измерения финального качества\n",
    "- НЕ обязательно использовать 2-ух уровневые рекоммендательные системы в проекте\n",
    "- Вы сдаете код проекта в виде github репозитория и .csv файл с рекомендациями. В .csv файле 2 столбца: user_id - (item_id1, item_id2, ..., item_id5)"
   ]
  }
 ],
 "metadata": {
  "kernelspec": {
   "display_name": "Python 3",
   "language": "python",
   "name": "python3"
  },
  "language_info": {
   "codemirror_mode": {
    "name": "ipython",
    "version": 3
   },
   "file_extension": ".py",
   "mimetype": "text/x-python",
   "name": "python",
   "nbconvert_exporter": "python",
   "pygments_lexer": "ipython3",
   "version": "3.7.3"
  }
 },
 "nbformat": 4,
 "nbformat_minor": 2
}