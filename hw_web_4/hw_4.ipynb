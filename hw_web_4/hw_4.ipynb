{
 "cells": [
  {
   "cell_type": "markdown",
   "metadata": {},
   "source": [
    "# Вебинар 4. Домашнее задание"
   ]
  },
  {
   "cell_type": "markdown",
   "metadata": {},
   "source": [
    "1. Перенесите метрики в модуль metrics.py (убедится что они там)\n",
    "2. Перенесите функцию prefilter_items в модуль utils.py\n",
    "3. Создайте модуль recommenders.py. Напищите код для класса ниже \n",
    "(задание обсуждали на вебинаре, для первой функции практически сделали) и положите его в recommenders.py\n",
    "4. Проверьте, что все модули корректно импортируются"
   ]
  },
  {
   "cell_type": "code",
   "execution_count": 53,
   "metadata": {},
   "outputs": [],
   "source": [
    "import pandas as pd\n",
    "import numpy as np\n",
    "\n",
    "# Для работы с матрицами\n",
    "from scipy.sparse import csr_matrix\n",
    "\n",
    "# Матричная факторизация\n",
    "from implicit.als import AlternatingLeastSquares\n",
    "from implicit.nearest_neighbours import ItemItemRecommender  # нужен для одного трюка\n",
    "from implicit.nearest_neighbours import bm25_weight, tfidf_weight\n",
    "\n",
    "\n",
    "class MainRecommender:\n",
    "    \"\"\"Рекоммендации, которые можно получить из ALS\n",
    "\n",
    "    Input\n",
    "    -----\n",
    "    user_item_matrix: pd.DataFrame\n",
    "        Матрица взаимодействий user-item\n",
    "    \"\"\"\n",
    "\n",
    "    def __init__(self, data, weighting=True):\n",
    "\n",
    "        self.data = data\n",
    "        self.user_item_matrix = self.prepare_matrix(data)  # pd.DataFrame\n",
    "        self.id_to_itemid, self.id_to_userid, \\\n",
    "        self.itemid_to_id, self.userid_to_id = self.prepare_dicts(self.user_item_matrix)\n",
    "\n",
    "        if weighting:\n",
    "            self.user_item_matrix = bm25_weight(self.user_item_matrix.T).T\n",
    "\n",
    "        self.model = self.fit(self.user_item_matrix)\n",
    "        self.own_recommender = self.fit_own_recommender(self.user_item_matrix)\n",
    "        self.pop_item = 0\n",
    "        self.pop_list = 0\n",
    "\n",
    "    @staticmethod\n",
    "    def prepare_matrix(data):\n",
    "\n",
    "        user_item_matrix = pd.pivot_table(data,\n",
    "                                          index='user_id', columns='item_id',\n",
    "                                          values='quantity',\n",
    "                                          aggfunc='count',\n",
    "                                          fill_value=0\n",
    "                                          )\n",
    "\n",
    "        user_item_matrix = user_item_matrix.astype(float)\n",
    "\n",
    "        return user_item_matrix\n",
    "\n",
    "    @staticmethod\n",
    "    def prepare_dicts(user_item_matrix):\n",
    "        \"\"\"Подготавливает вспомогательные словари\"\"\"\n",
    "\n",
    "        userids = user_item_matrix.index.values\n",
    "        itemids = user_item_matrix.columns.values\n",
    "\n",
    "        matrix_userids = np.arange(len(userids))\n",
    "        matrix_itemids = np.arange(len(itemids))\n",
    "\n",
    "        id_to_itemid = dict(zip(matrix_itemids, itemids))\n",
    "        id_to_userid = dict(zip(matrix_userids, userids))\n",
    "\n",
    "        itemid_to_id = dict(zip(itemids, matrix_itemids))\n",
    "        userid_to_id = dict(zip(userids, matrix_userids))\n",
    "\n",
    "        return id_to_itemid, id_to_userid, itemid_to_id, userid_to_id\n",
    "\n",
    "    @staticmethod\n",
    "    def fit_own_recommender(user_item_matrix):\n",
    "        \"\"\"Обучает модель, которая рекомендует товары, среди товаров, купленных юзером\"\"\"\n",
    "\n",
    "        own_recommender = ItemItemRecommender(K=1, num_threads=4)\n",
    "        own_recommender.fit(csr_matrix(user_item_matrix).T.tocsr())\n",
    "\n",
    "        return own_recommender\n",
    "\n",
    "    def prepare_popularity_matrix(self,  n=5):\n",
    "        \"\"\"топ-N покупок пользователя\"\"\"\n",
    "\n",
    "        popularity = self.data.groupby(['user_id', 'item_id'])['quantity'].count().reset_index()\n",
    "        popularity.sort_values('quantity', ascending=False, inplace=True)\n",
    "        popularity = popularity[popularity['item_id'] != 999999]\n",
    "\n",
    "        self.pop_item = popularity.head(1).item_id.values\n",
    "        self.pop_list = popularity.head(n).item_id.to_list()\n",
    "\n",
    "        popularity = popularity.groupby('user_id').head(n)\n",
    "        popularity.sort_values(by=['user_id', 'quantity'], ascending=False, inplace=True)\n",
    "\n",
    "        return popularity\n",
    "\n",
    "\n",
    "    @staticmethod\n",
    "    def fit(user_item_matrix, n_factors=20, regularization=0.001, iterations=15, num_threads=4):\n",
    "        \"\"\"Обучает ALS\"\"\"\n",
    "\n",
    "        model = AlternatingLeastSquares(factors=n_factors,\n",
    "                                        regularization=regularization,\n",
    "                                        iterations=iterations,\n",
    "                                        num_threads=num_threads)\n",
    "        model.fit(csr_matrix(user_item_matrix).T.tocsr())\n",
    "\n",
    "        return model\n",
    "\n",
    "    def get_similar_items_recommendation(self, user, N=5):\n",
    "        \"\"\"Рекомендуем товары, похожие на топ-N купленных юзером товаров\"\"\"\n",
    "\n",
    "        popularity = self.prepare_popularity_matrix(n=N)\n",
    "        popular_user_items = popularity.item_id[popularity['user_id'] == user]\n",
    "\n",
    "        res = []\n",
    "        for item in popular_user_items:\n",
    "            recs = self.model.similar_items(self.itemid_to_id[item], N=2)\n",
    "            top_rec = recs[1][0]\n",
    "            res.append(self.id_to_itemid[top_rec])\n",
    "\n",
    "        # обработка пользователей, у которых меньше 5 покупок (оставшиеся товары рекомендуем из популярных)\n",
    "        i = 0\n",
    "        while len(res) != N:\n",
    "            res.append(self.pop_list[i])\n",
    "            i += 1\n",
    "\n",
    "        assert len(res) == N, 'Количество рекомендаций != {}'.format(N)\n",
    "        return res\n",
    "\n",
    "    def get_similar_users_recommendation(self, user, N=5):\n",
    "        \"\"\"Рекомендуем топ-N товаров, среди купленных похожими юзерами\"\"\"\n",
    "\n",
    "        popularity = self.prepare_popularity_matrix(1)\n",
    "        similar_users = self.model.similar_users(self.userid_to_id[user], N=N+1)\n",
    "\n",
    "        res = []\n",
    "        for i in range(1, N+1):\n",
    "            similar_user = similar_users[i][0]\n",
    "            popular_item = popularity[popularity['user_id'] == similar_user]['item_id'].values\n",
    "\n",
    "            if len(popular_item) != 0:\n",
    "                res.append(int(popular_item))\n",
    "            else:\n",
    "                try:\n",
    "                    res.append(self.pop_item[0])\n",
    "                except KeyError:\n",
    "                    print(f'Error user {user}')\n",
    "\n",
    "        assert len(res) == N, 'Количество рекомендаций != {}'.format(N)\n",
    "        return res\n"
   ]
  },
  {
   "cell_type": "markdown",
   "metadata": {},
   "source": [
    "----"
   ]
  },
  {
   "cell_type": "markdown",
   "metadata": {},
   "source": [
    "Проверка, что все работает"
   ]
  },
  {
   "cell_type": "code",
   "execution_count": 36,
   "metadata": {},
   "outputs": [],
   "source": [
    "from src.metrics import precision_at_k, recall_at_k\n",
    "from src.utils import prefilter_items\n",
    "from src.recommenders import MainRecommender"
   ]
  },
  {
   "cell_type": "code",
   "execution_count": 4,
   "metadata": {},
   "outputs": [],
   "source": [
    "import pandas as pd\n",
    "import numpy as np\n",
    "import matplotlib.pyplot as plt\n",
    "%matplotlib inline\n",
    "\n",
    "# Для работы с матрицами\n",
    "from scipy.sparse import csr_matrix\n",
    "\n",
    "# Матричная факторизация\n",
    "from implicit.als import AlternatingLeastSquares\n",
    "from implicit.bpr import BayesianPersonalizedRanking\n",
    "from implicit.nearest_neighbours import ItemItemRecommender  # нужен для одного трюка\n",
    "from implicit.nearest_neighbours import bm25_weight, tfidf_weight"
   ]
  },
  {
   "cell_type": "code",
   "execution_count": 5,
   "metadata": {},
   "outputs": [
    {
     "data": {
      "text/plain": "   user_id    basket_id  day  item_id  quantity  sales_value  store_id  \\\n0     2375  26984851472    1  1004906         1         1.39       364   \n1     2375  26984851472    1  1033142         1         0.82       364   \n\n   retail_disc  trans_time  week_no  coupon_disc  coupon_match_disc  \n0         -0.6        1631        1          0.0                0.0  \n1          0.0        1631        1          0.0                0.0  ",
      "text/html": "<div>\n<style scoped>\n    .dataframe tbody tr th:only-of-type {\n        vertical-align: middle;\n    }\n\n    .dataframe tbody tr th {\n        vertical-align: top;\n    }\n\n    .dataframe thead th {\n        text-align: right;\n    }\n</style>\n<table border=\"1\" class=\"dataframe\">\n  <thead>\n    <tr style=\"text-align: right;\">\n      <th></th>\n      <th>user_id</th>\n      <th>basket_id</th>\n      <th>day</th>\n      <th>item_id</th>\n      <th>quantity</th>\n      <th>sales_value</th>\n      <th>store_id</th>\n      <th>retail_disc</th>\n      <th>trans_time</th>\n      <th>week_no</th>\n      <th>coupon_disc</th>\n      <th>coupon_match_disc</th>\n    </tr>\n  </thead>\n  <tbody>\n    <tr>\n      <th>0</th>\n      <td>2375</td>\n      <td>26984851472</td>\n      <td>1</td>\n      <td>1004906</td>\n      <td>1</td>\n      <td>1.39</td>\n      <td>364</td>\n      <td>-0.6</td>\n      <td>1631</td>\n      <td>1</td>\n      <td>0.0</td>\n      <td>0.0</td>\n    </tr>\n    <tr>\n      <th>1</th>\n      <td>2375</td>\n      <td>26984851472</td>\n      <td>1</td>\n      <td>1033142</td>\n      <td>1</td>\n      <td>0.82</td>\n      <td>364</td>\n      <td>0.0</td>\n      <td>1631</td>\n      <td>1</td>\n      <td>0.0</td>\n      <td>0.0</td>\n    </tr>\n  </tbody>\n</table>\n</div>"
     },
     "execution_count": 5,
     "metadata": {},
     "output_type": "execute_result"
    }
   ],
   "source": [
    "data = pd.read_csv('../retail_train.csv')\n",
    "\n",
    "\n",
    "data.columns = [col.lower() for col in data.columns]\n",
    "data.rename(columns={'household_key': 'user_id',\n",
    "                    'product_id': 'item_id'},\n",
    "           inplace=True)\n",
    "\n",
    "# Разбиваем данные на train и test (для test возьмем данные за последние 3 недели)\n",
    "test_size_weeks = 3\n",
    "\n",
    "data_train = data[data['week_no'] < data['week_no'].max() - test_size_weeks]\n",
    "data_test = data[data['week_no'] >= data['week_no'].max() - test_size_weeks]\n",
    "\n",
    "data_train.head(2)"
   ]
  },
  {
   "cell_type": "code",
   "execution_count": 6,
   "metadata": {},
   "outputs": [],
   "source": [
    "# Warm start - берем только те user_id, которые есть в train\n",
    "\n",
    "data_test = data_test[data_test['user_id'].isin(data_train['user_id'])]"
   ]
  },
  {
   "cell_type": "code",
   "execution_count": 7,
   "metadata": {},
   "outputs": [
    {
     "name": "stdout",
     "output_type": "stream",
     "text": [
      "Decreased # items from 86865 to 5001\n"
     ]
    }
   ],
   "source": [
    "# отфильтруем товары с помощью функции prefilter_items\n",
    "\n",
    "n_items_before = data_train['item_id'].nunique()\n",
    "\n",
    "data_train = prefilter_items(data_train, take_n_popular=5000)\n",
    "\n",
    "n_items_after = data_train['item_id'].nunique()\n",
    "print('Decreased # items from {} to {}'.format(n_items_before, n_items_after))"
   ]
  },
  {
   "cell_type": "code",
   "execution_count": 8,
   "metadata": {},
   "outputs": [
    {
     "data": {
      "text/plain": "   user_id                                             actual\n0        1  [821867, 834484, 856942, 865456, 889248, 90795...\n1        3  [835476, 851057, 872021, 878302, 879948, 90963...",
      "text/html": "<div>\n<style scoped>\n    .dataframe tbody tr th:only-of-type {\n        vertical-align: middle;\n    }\n\n    .dataframe tbody tr th {\n        vertical-align: top;\n    }\n\n    .dataframe thead th {\n        text-align: right;\n    }\n</style>\n<table border=\"1\" class=\"dataframe\">\n  <thead>\n    <tr style=\"text-align: right;\">\n      <th></th>\n      <th>user_id</th>\n      <th>actual</th>\n    </tr>\n  </thead>\n  <tbody>\n    <tr>\n      <th>0</th>\n      <td>1</td>\n      <td>[821867, 834484, 856942, 865456, 889248, 90795...</td>\n    </tr>\n    <tr>\n      <th>1</th>\n      <td>3</td>\n      <td>[835476, 851057, 872021, 878302, 879948, 90963...</td>\n    </tr>\n  </tbody>\n</table>\n</div>"
     },
     "execution_count": 8,
     "metadata": {},
     "output_type": "execute_result"
    }
   ],
   "source": [
    "# соберем таблицу с рекомендациями для каждого пользователя для посчета метрик\n",
    "\n",
    "result = data_test.groupby('user_id')['item_id'].unique().reset_index()\n",
    "result.columns=['user_id', 'actual']\n",
    "\n",
    "result = result.loc[result['user_id'] != 1984]\n",
    "result = result.loc[result['user_id'] != 2259]\n",
    "\n",
    "result.head(2)"
   ]
  },
  {
   "cell_type": "code",
   "execution_count": 54,
   "metadata": {},
   "outputs": [
    {
     "data": {
      "text/plain": "  0%|          | 0/15 [00:00<?, ?it/s]",
      "application/vnd.jupyter.widget-view+json": {
       "version_major": 2,
       "version_minor": 0,
       "model_id": "215a7ae340a842c58da5e5c863e6831b"
      }
     },
     "metadata": {},
     "output_type": "display_data"
    },
    {
     "data": {
      "text/plain": "  0%|          | 0/5001 [00:00<?, ?it/s]",
      "application/vnd.jupyter.widget-view+json": {
       "version_major": 2,
       "version_minor": 0,
       "model_id": "df688a251a4d4040982ac0f50139fbfc"
      }
     },
     "metadata": {},
     "output_type": "display_data"
    },
    {
     "data": {
      "text/plain": "   user_id                                             actual  \\\n0        1  [821867, 834484, 856942, 865456, 889248, 90795...   \n1        3  [835476, 851057, 872021, 878302, 879948, 90963...   \n2        6  [920308, 926804, 946489, 1006718, 1017061, 107...   \n3        7  [840386, 889774, 898068, 909714, 929067, 95347...   \n4        8  [835098, 872137, 910439, 924610, 992977, 10412...   \n\n                                similar_users_top  \n0  [1106523, 1106523, 1126899, 10150194, 5570467]  \n1    [1098284, 8014645, 1053329, 999625, 9553382]  \n2    [823862, 9926758, 1110843, 1075368, 1092937]  \n3      [921504, 937110, 1029605, 6463717, 944137]  \n4     [1126899, 937292, 5568489, 951727, 1126899]  ",
      "text/html": "<div>\n<style scoped>\n    .dataframe tbody tr th:only-of-type {\n        vertical-align: middle;\n    }\n\n    .dataframe tbody tr th {\n        vertical-align: top;\n    }\n\n    .dataframe thead th {\n        text-align: right;\n    }\n</style>\n<table border=\"1\" class=\"dataframe\">\n  <thead>\n    <tr style=\"text-align: right;\">\n      <th></th>\n      <th>user_id</th>\n      <th>actual</th>\n      <th>similar_users_top</th>\n    </tr>\n  </thead>\n  <tbody>\n    <tr>\n      <th>0</th>\n      <td>1</td>\n      <td>[821867, 834484, 856942, 865456, 889248, 90795...</td>\n      <td>[1106523, 1106523, 1126899, 10150194, 5570467]</td>\n    </tr>\n    <tr>\n      <th>1</th>\n      <td>3</td>\n      <td>[835476, 851057, 872021, 878302, 879948, 90963...</td>\n      <td>[1098284, 8014645, 1053329, 999625, 9553382]</td>\n    </tr>\n    <tr>\n      <th>2</th>\n      <td>6</td>\n      <td>[920308, 926804, 946489, 1006718, 1017061, 107...</td>\n      <td>[823862, 9926758, 1110843, 1075368, 1092937]</td>\n    </tr>\n    <tr>\n      <th>3</th>\n      <td>7</td>\n      <td>[840386, 889774, 898068, 909714, 929067, 95347...</td>\n      <td>[921504, 937110, 1029605, 6463717, 944137]</td>\n    </tr>\n    <tr>\n      <th>4</th>\n      <td>8</td>\n      <td>[835098, 872137, 910439, 924610, 992977, 10412...</td>\n      <td>[1126899, 937292, 5568489, 951727, 1126899]</td>\n    </tr>\n  </tbody>\n</table>\n</div>"
     },
     "execution_count": 54,
     "metadata": {},
     "output_type": "execute_result"
    }
   ],
   "source": [
    "model = MainRecommender(data_train)\n",
    "\n",
    "result['similar_users_top'] = result['user_id'].apply(lambda x: model.get_similar_users_recommendation(x, N=5))\n",
    "\n",
    "result.head(5)"
   ]
  },
  {
   "cell_type": "code",
   "execution_count": 56,
   "outputs": [
    {
     "data": {
      "text/plain": "0.04156862745098039"
     },
     "execution_count": 56,
     "metadata": {},
     "output_type": "execute_result"
    }
   ],
   "source": [
    "precision= result.apply(lambda x: precision_at_k(x['similar_users_top'], x['actual']), axis=1).mean()\n",
    "precision"
   ],
   "metadata": {
    "collapsed": false,
    "pycharm": {
     "name": "#%%\n"
    }
   }
  },
  {
   "cell_type": "code",
   "execution_count": 57,
   "outputs": [
    {
     "data": {
      "text/plain": "   user_id                                             actual  \\\n0        1  [821867, 834484, 856942, 865456, 889248, 90795...   \n1        3  [835476, 851057, 872021, 878302, 879948, 90963...   \n2        6  [920308, 926804, 946489, 1006718, 1017061, 107...   \n3        7  [840386, 889774, 898068, 909714, 929067, 95347...   \n4        8  [835098, 872137, 910439, 924610, 992977, 10412...   \n\n                                similar_users_top  \\\n0  [1106523, 1106523, 1126899, 10150194, 5570467]   \n1    [1098284, 8014645, 1053329, 999625, 9553382]   \n2    [823862, 9926758, 1110843, 1075368, 1092937]   \n3      [921504, 937110, 1029605, 6463717, 944137]   \n4     [1126899, 937292, 5568489, 951727, 1126899]   \n\n                          user_top_similar_items  \n0    [824758, 1031087, 990656, 5577022, 9803545]  \n1    [1044078, 8090537, 832678, 839419, 7168739]  \n2    [948650, 5569845, 1105488, 8357613, 941361]  \n3   [1060529, 1044078, 1114435, 949023, 8293385]  \n4  [5569845, 5569374, 1005186, 1044078, 1044078]  ",
      "text/html": "<div>\n<style scoped>\n    .dataframe tbody tr th:only-of-type {\n        vertical-align: middle;\n    }\n\n    .dataframe tbody tr th {\n        vertical-align: top;\n    }\n\n    .dataframe thead th {\n        text-align: right;\n    }\n</style>\n<table border=\"1\" class=\"dataframe\">\n  <thead>\n    <tr style=\"text-align: right;\">\n      <th></th>\n      <th>user_id</th>\n      <th>actual</th>\n      <th>similar_users_top</th>\n      <th>user_top_similar_items</th>\n    </tr>\n  </thead>\n  <tbody>\n    <tr>\n      <th>0</th>\n      <td>1</td>\n      <td>[821867, 834484, 856942, 865456, 889248, 90795...</td>\n      <td>[1106523, 1106523, 1126899, 10150194, 5570467]</td>\n      <td>[824758, 1031087, 990656, 5577022, 9803545]</td>\n    </tr>\n    <tr>\n      <th>1</th>\n      <td>3</td>\n      <td>[835476, 851057, 872021, 878302, 879948, 90963...</td>\n      <td>[1098284, 8014645, 1053329, 999625, 9553382]</td>\n      <td>[1044078, 8090537, 832678, 839419, 7168739]</td>\n    </tr>\n    <tr>\n      <th>2</th>\n      <td>6</td>\n      <td>[920308, 926804, 946489, 1006718, 1017061, 107...</td>\n      <td>[823862, 9926758, 1110843, 1075368, 1092937]</td>\n      <td>[948650, 5569845, 1105488, 8357613, 941361]</td>\n    </tr>\n    <tr>\n      <th>3</th>\n      <td>7</td>\n      <td>[840386, 889774, 898068, 909714, 929067, 95347...</td>\n      <td>[921504, 937110, 1029605, 6463717, 944137]</td>\n      <td>[1060529, 1044078, 1114435, 949023, 8293385]</td>\n    </tr>\n    <tr>\n      <th>4</th>\n      <td>8</td>\n      <td>[835098, 872137, 910439, 924610, 992977, 10412...</td>\n      <td>[1126899, 937292, 5568489, 951727, 1126899]</td>\n      <td>[5569845, 5569374, 1005186, 1044078, 1044078]</td>\n    </tr>\n  </tbody>\n</table>\n</div>"
     },
     "execution_count": 57,
     "metadata": {},
     "output_type": "execute_result"
    }
   ],
   "source": [
    "result['user_top_similar_items'] = result['user_id'].apply(lambda x: model.get_similar_items_recommendation(x, N=5))\n",
    "result.head(5)"
   ],
   "metadata": {
    "collapsed": false,
    "pycharm": {
     "name": "#%%\n"
    }
   }
  },
  {
   "cell_type": "code",
   "execution_count": 58,
   "outputs": [
    {
     "data": {
      "text/plain": "0.05137254901960785"
     },
     "execution_count": 58,
     "metadata": {},
     "output_type": "execute_result"
    }
   ],
   "source": [
    "precision= result.apply(lambda x: precision_at_k(x['user_top_similar_items'], x['actual']), axis=1).mean()\n",
    "precision"
   ],
   "metadata": {
    "collapsed": false,
    "pycharm": {
     "name": "#%%\n"
    }
   }
  }
 ],
 "metadata": {
  "kernelspec": {
   "display_name": "Python 3",
   "language": "python",
   "name": "python3"
  },
  "language_info": {
   "codemirror_mode": {
    "name": "ipython",
    "version": 3
   },
   "file_extension": ".py",
   "mimetype": "text/x-python",
   "name": "python",
   "nbconvert_exporter": "python",
   "pygments_lexer": "ipython3",
   "version": "3.8.6"
  }
 },
 "nbformat": 4,
 "nbformat_minor": 4
}